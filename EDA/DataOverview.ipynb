{
 "cells": [
  {
   "cell_type": "markdown",
   "metadata": {},
   "source": [
    "提供了2018年1月1日至2018年12月31日的标的第一期的还款数据作为训练集，需要选手预测2019年2月1日至2019年3月31日成交标的第一期的还款情况。同时还提供了相关的标的属性信息，借款用户基础信息、画像标签和行为日志等数据供选手使用。"
   ]
  },
  {
   "cell_type": "code",
   "execution_count": 1,
   "metadata": {},
   "outputs": [],
   "source": [
    "import pandas as pd # package for high-performance, easy-to-use data structures and data analysis\n",
    "import numpy as np # fundamental package for scientific computing with Python\n",
    "from collections import Counter\n",
    "import matplotlib\n",
    "import pickle\n",
    "import matplotlib.pyplot as plt # for plotting\n",
    "import seaborn as sns # for making plots with seaborn\n",
    "color = sns.color_palette()\n",
    "\n",
    "\n",
    "\n",
    "from numpy import array\n",
    "from matplotlib import cm\n",
    "# Supress unnecessary warnings so that presentation looks clean\n",
    "import warnings\n",
    "warnings.filterwarnings(\"ignore\")\n",
    "\n",
    "# Print all rows and columns\n",
    "pd.set_option('display.max_columns', None)\n",
    "pd.set_option('display.max_rows', None)"
   ]
  },
  {
   "cell_type": "markdown",
   "metadata": {},
   "source": [
    "# 1. 表一  标的属性表（listing_info.csv）500万条,共90万的用户数量,训练集和测试集混合,时间范围:2016-07-05, 2019-03-31,难怪数据记录这么多的!!!"
   ]
  },
  {
   "cell_type": "code",
   "execution_count": 66,
   "metadata": {},
   "outputs": [],
   "source": [
    "listing_info=pd.read_csv(\"../data/listing_info.csv\")"
   ]
  },
  {
   "cell_type": "code",
   "execution_count": 68,
   "metadata": {},
   "outputs": [
    {
     "data": {
      "text/plain": [
       "((5484891, 6), (928195,))"
      ]
     },
     "execution_count": 68,
     "metadata": {},
     "output_type": "execute_result"
    }
   ],
   "source": [
    "listing_info.shape,listing_info['user_id'].unique().shape"
   ]
  },
  {
   "cell_type": "code",
   "execution_count": 16,
   "metadata": {
    "scrolled": true
   },
   "outputs": [
    {
     "data": {
      "text/html": [
       "<div>\n",
       "<style scoped>\n",
       "    .dataframe tbody tr th:only-of-type {\n",
       "        vertical-align: middle;\n",
       "    }\n",
       "\n",
       "    .dataframe tbody tr th {\n",
       "        vertical-align: top;\n",
       "    }\n",
       "\n",
       "    .dataframe thead th {\n",
       "        text-align: right;\n",
       "    }\n",
       "</style>\n",
       "<table border=\"1\" class=\"dataframe\">\n",
       "  <thead>\n",
       "    <tr style=\"text-align: right;\">\n",
       "      <th></th>\n",
       "      <th>user_id</th>\n",
       "      <th>listing_id</th>\n",
       "      <th>auditing_date</th>\n",
       "      <th>term</th>\n",
       "      <th>rate</th>\n",
       "      <th>principal</th>\n",
       "    </tr>\n",
       "  </thead>\n",
       "  <tbody>\n",
       "    <tr>\n",
       "      <th>0</th>\n",
       "      <td>316610</td>\n",
       "      <td>1556649</td>\n",
       "      <td>2017-11-26</td>\n",
       "      <td>9</td>\n",
       "      <td>7.6</td>\n",
       "      <td>4800</td>\n",
       "    </tr>\n",
       "  </tbody>\n",
       "</table>\n",
       "</div>"
      ],
      "text/plain": [
       "   user_id  listing_id auditing_date  term  rate  principal\n",
       "0   316610     1556649    2017-11-26     9   7.6       4800"
      ]
     },
     "execution_count": 16,
     "metadata": {},
     "output_type": "execute_result"
    }
   ],
   "source": [
    "listing_info.head(1)"
   ]
  },
  {
   "cell_type": "code",
   "execution_count": 32,
   "metadata": {
    "scrolled": true
   },
   "outputs": [
    {
     "data": {
      "text/html": [
       "<div>\n",
       "<style scoped>\n",
       "    .dataframe tbody tr th:only-of-type {\n",
       "        vertical-align: middle;\n",
       "    }\n",
       "\n",
       "    .dataframe tbody tr th {\n",
       "        vertical-align: top;\n",
       "    }\n",
       "\n",
       "    .dataframe thead th {\n",
       "        text-align: right;\n",
       "    }\n",
       "</style>\n",
       "<table border=\"1\" class=\"dataframe\">\n",
       "  <thead>\n",
       "    <tr style=\"text-align: right;\">\n",
       "      <th></th>\n",
       "      <th>Total</th>\n",
       "      <th>Percent</th>\n",
       "    </tr>\n",
       "  </thead>\n",
       "  <tbody>\n",
       "    <tr>\n",
       "      <th>principal</th>\n",
       "      <td>0</td>\n",
       "      <td>0.0</td>\n",
       "    </tr>\n",
       "    <tr>\n",
       "      <th>rate</th>\n",
       "      <td>0</td>\n",
       "      <td>0.0</td>\n",
       "    </tr>\n",
       "    <tr>\n",
       "      <th>term</th>\n",
       "      <td>0</td>\n",
       "      <td>0.0</td>\n",
       "    </tr>\n",
       "    <tr>\n",
       "      <th>auditing_date</th>\n",
       "      <td>0</td>\n",
       "      <td>0.0</td>\n",
       "    </tr>\n",
       "    <tr>\n",
       "      <th>listing_id</th>\n",
       "      <td>0</td>\n",
       "      <td>0.0</td>\n",
       "    </tr>\n",
       "  </tbody>\n",
       "</table>\n",
       "</div>"
      ],
      "text/plain": [
       "               Total  Percent\n",
       "principal          0      0.0\n",
       "rate               0      0.0\n",
       "term               0      0.0\n",
       "auditing_date      0      0.0\n",
       "listing_id         0      0.0"
      ]
     },
     "execution_count": 32,
     "metadata": {},
     "output_type": "execute_result"
    }
   ],
   "source": [
    "# 检查缺省值\n",
    "total = listing_info.isnull().sum().sort_values(ascending = False)\n",
    "percent = (listing_info.isnull().sum()/listing_info.isnull().count()*100).sort_values(ascending = False)\n",
    "missing_train_data  = pd.concat([total, percent], axis=1, keys=['Total', 'Percent'])\n",
    "missing_train_data.head()"
   ]
  },
  {
   "cell_type": "code",
   "execution_count": 42,
   "metadata": {},
   "outputs": [
    {
     "data": {
      "text/plain": [
       "array([ 9,  6, 12,  3])"
      ]
     },
     "execution_count": 42,
     "metadata": {},
     "output_type": "execute_result"
    }
   ],
   "source": [
    "listing_info['term'].unique()"
   ]
  },
  {
   "cell_type": "code",
   "execution_count": 71,
   "metadata": {},
   "outputs": [
    {
     "data": {
      "text/plain": [
       "count    5.484891e+06\n",
       "mean     7.936558e+00\n",
       "std      7.410161e-01\n",
       "min      6.500000e+00\n",
       "25%      7.200000e+00\n",
       "50%      8.000000e+00\n",
       "75%      8.600000e+00\n",
       "max      9.300000e+00\n",
       "Name: rate, dtype: float64"
      ]
     },
     "execution_count": 71,
     "metadata": {},
     "output_type": "execute_result"
    }
   ],
   "source": [
    "listing_info['rate'].describe()"
   ]
  },
  {
   "cell_type": "code",
   "execution_count": 60,
   "metadata": {},
   "outputs": [
    {
     "data": {
      "text/plain": [
       "array([<matplotlib.axes._subplots.AxesSubplot object at 0x7f043b5120f0>],\n",
       "      dtype=object)"
      ]
     },
     "execution_count": 60,
     "metadata": {},
     "output_type": "execute_result"
    },
    {
     "data": {
      "image/png": "[encoded data removed]",
      "text/plain": [
       "<Figure size 432x288 with 1 Axes>"
      ]
     },
     "metadata": {},
     "output_type": "display_data"
    }
   ],
   "source": [
    "listing_info_term = listing_info['term'].value_counts()\n",
    "listing_info_term.plot(kind='pie',subplots=True)"
   ]
  },
  {
   "cell_type": "code",
   "execution_count": 43,
   "metadata": {},
   "outputs": [
    {
     "data": {
      "text/plain": [
       "array([ 4800,  4000,  8660, ..., 34830, 40420, 27690])"
      ]
     },
     "execution_count": 43,
     "metadata": {},
     "output_type": "execute_result"
    }
   ],
   "source": [
    "listing_info['principal'].unique()"
   ]
  },
  {
   "cell_type": "code",
   "execution_count": 72,
   "metadata": {},
   "outputs": [
    {
     "name": "stdout",
     "output_type": "stream",
     "text": [
      "997 days,first day:2016-07-05, last day:2019-03-31\n"
     ]
    }
   ],
   "source": [
    "# 时间取值范围\n",
    "date=np.array(listing_info['auditing_date'].unique())\n",
    "date.sort()\n",
    "print(\"%d days,first day:%s, last day:%s\"%(date.shape[0]-1,date[0],date[-1]))"
   ]
  },
  {
   "cell_type": "markdown",
   "metadata": {},
   "source": [
    "# 2.表二 提交格式"
   ]
  },
  {
   "cell_type": "code",
   "execution_count": 5,
   "metadata": {},
   "outputs": [],
   "source": [
    "submission=pd.read_csv(\"../data/submission.csv\")"
   ]
  },
  {
   "cell_type": "code",
   "execution_count": 17,
   "metadata": {},
   "outputs": [
    {
     "data": {
      "text/plain": [
       "(3987078, 3)"
      ]
     },
     "execution_count": 17,
     "metadata": {},
     "output_type": "execute_result"
    }
   ],
   "source": [
    "submission.shape"
   ]
  },
  {
   "cell_type": "code",
   "execution_count": 53,
   "metadata": {},
   "outputs": [
    {
     "data": {
      "text/html": [
       "<div>\n",
       "<style scoped>\n",
       "    .dataframe tbody tr th:only-of-type {\n",
       "        vertical-align: middle;\n",
       "    }\n",
       "\n",
       "    .dataframe tbody tr th {\n",
       "        vertical-align: top;\n",
       "    }\n",
       "\n",
       "    .dataframe thead th {\n",
       "        text-align: right;\n",
       "    }\n",
       "</style>\n",
       "<table border=\"1\" class=\"dataframe\">\n",
       "  <thead>\n",
       "    <tr style=\"text-align: right;\">\n",
       "      <th></th>\n",
       "      <th>listing_id</th>\n",
       "      <th>repay_amt</th>\n",
       "      <th>repay_date</th>\n",
       "    </tr>\n",
       "  </thead>\n",
       "  <tbody>\n",
       "    <tr>\n",
       "      <th>0</th>\n",
       "      <td>5431438</td>\n",
       "      <td>4.3309</td>\n",
       "      <td>2019-03-12</td>\n",
       "    </tr>\n",
       "    <tr>\n",
       "      <th>1</th>\n",
       "      <td>5431438</td>\n",
       "      <td>4.3309</td>\n",
       "      <td>2019-03-13</td>\n",
       "    </tr>\n",
       "    <tr>\n",
       "      <th>2</th>\n",
       "      <td>5431438</td>\n",
       "      <td>4.3309</td>\n",
       "      <td>2019-03-14</td>\n",
       "    </tr>\n",
       "    <tr>\n",
       "      <th>3</th>\n",
       "      <td>5431438</td>\n",
       "      <td>4.3309</td>\n",
       "      <td>2019-03-15</td>\n",
       "    </tr>\n",
       "    <tr>\n",
       "      <th>4</th>\n",
       "      <td>5431438</td>\n",
       "      <td>4.3309</td>\n",
       "      <td>2019-03-16</td>\n",
       "    </tr>\n",
       "  </tbody>\n",
       "</table>\n",
       "</div>"
      ],
      "text/plain": [
       "   listing_id  repay_amt  repay_date\n",
       "0     5431438     4.3309  2019-03-12\n",
       "1     5431438     4.3309  2019-03-13\n",
       "2     5431438     4.3309  2019-03-14\n",
       "3     5431438     4.3309  2019-03-15\n",
       "4     5431438     4.3309  2019-03-16"
      ]
     },
     "execution_count": 53,
     "metadata": {},
     "output_type": "execute_result"
    }
   ],
   "source": [
    "submission.head(5)"
   ]
  },
  {
   "cell_type": "markdown",
   "metadata": {},
   "source": [
    "# 3.表三  测试集,共13万条数据,没有重复的,时间范围:2019-02-01, 2019-03-31"
   ]
  },
  {
   "cell_type": "code",
   "execution_count": 2,
   "metadata": {},
   "outputs": [],
   "source": [
    "# 13万条\n",
    "test=pd.read_csv(\"../data/test.csv\")"
   ]
  },
  {
   "cell_type": "code",
   "execution_count": 4,
   "metadata": {},
   "outputs": [
    {
     "data": {
      "text/plain": [
       "((130000, 5), (130000,), (130000,))"
      ]
     },
     "execution_count": 4,
     "metadata": {},
     "output_type": "execute_result"
    }
   ],
   "source": [
    "# 一个用户对应着一条标\n",
    "test.shape,test['user_id'].unique().shape,test['listing_id'].unique().shape"
   ]
  },
  {
   "cell_type": "code",
   "execution_count": 21,
   "metadata": {},
   "outputs": [
    {
     "data": {
      "text/html": [
       "<div>\n",
       "<style scoped>\n",
       "    .dataframe tbody tr th:only-of-type {\n",
       "        vertical-align: middle;\n",
       "    }\n",
       "\n",
       "    .dataframe tbody tr th {\n",
       "        vertical-align: top;\n",
       "    }\n",
       "\n",
       "    .dataframe thead th {\n",
       "        text-align: right;\n",
       "    }\n",
       "</style>\n",
       "<table border=\"1\" class=\"dataframe\">\n",
       "  <thead>\n",
       "    <tr style=\"text-align: right;\">\n",
       "      <th></th>\n",
       "      <th>user_id</th>\n",
       "      <th>listing_id</th>\n",
       "      <th>auditing_date</th>\n",
       "      <th>due_date</th>\n",
       "      <th>due_amt</th>\n",
       "    </tr>\n",
       "  </thead>\n",
       "  <tbody>\n",
       "    <tr>\n",
       "      <th>0</th>\n",
       "      <td>498765</td>\n",
       "      <td>5431438</td>\n",
       "      <td>2019-03-12</td>\n",
       "      <td>2019-04-12</td>\n",
       "      <td>138.5903</td>\n",
       "    </tr>\n",
       "    <tr>\n",
       "      <th>1</th>\n",
       "      <td>34524</td>\n",
       "      <td>5443211</td>\n",
       "      <td>2019-03-15</td>\n",
       "      <td>2019-04-15</td>\n",
       "      <td>208.0805</td>\n",
       "    </tr>\n",
       "    <tr>\n",
       "      <th>2</th>\n",
       "      <td>821741</td>\n",
       "      <td>5461707</td>\n",
       "      <td>2019-03-22</td>\n",
       "      <td>2019-04-22</td>\n",
       "      <td>421.2097</td>\n",
       "    </tr>\n",
       "    <tr>\n",
       "      <th>3</th>\n",
       "      <td>263534</td>\n",
       "      <td>5472320</td>\n",
       "      <td>2019-03-26</td>\n",
       "      <td>2019-04-26</td>\n",
       "      <td>212.6537</td>\n",
       "    </tr>\n",
       "    <tr>\n",
       "      <th>4</th>\n",
       "      <td>238853</td>\n",
       "      <td>5459750</td>\n",
       "      <td>2019-03-21</td>\n",
       "      <td>2019-04-21</td>\n",
       "      <td>817.4593</td>\n",
       "    </tr>\n",
       "  </tbody>\n",
       "</table>\n",
       "</div>"
      ],
      "text/plain": [
       "   user_id  listing_id auditing_date    due_date   due_amt\n",
       "0   498765     5431438    2019-03-12  2019-04-12  138.5903\n",
       "1    34524     5443211    2019-03-15  2019-04-15  208.0805\n",
       "2   821741     5461707    2019-03-22  2019-04-22  421.2097\n",
       "3   263534     5472320    2019-03-26  2019-04-26  212.6537\n",
       "4   238853     5459750    2019-03-21  2019-04-21  817.4593"
      ]
     },
     "execution_count": 21,
     "metadata": {},
     "output_type": "execute_result"
    }
   ],
   "source": [
    "test.head(5)"
   ]
  },
  {
   "cell_type": "code",
   "execution_count": null,
   "metadata": {},
   "outputs": [],
   "source": [
    "# 检测测试集合和数据集是否重合\n",
    "print(\"test not train:%d,train not test: %d,train and test%d\"%(ret_list_1,ret_list_2,ret_list_3))"
   ]
  },
  {
   "cell_type": "code",
   "execution_count": 54,
   "metadata": {},
   "outputs": [
    {
     "data": {
      "text/plain": [
       "count    130000.000000\n",
       "mean        425.554718\n",
       "std         490.551979\n",
       "min          54.569900\n",
       "25%         147.667600\n",
       "50%         270.962000\n",
       "75%         500.765200\n",
       "max       15018.086300\n",
       "Name: due_amt, dtype: float64"
      ]
     },
     "execution_count": 54,
     "metadata": {},
     "output_type": "execute_result"
    }
   ],
   "source": [
    "test['due_amt'].describe()"
   ]
  },
  {
   "cell_type": "code",
   "execution_count": 34,
   "metadata": {},
   "outputs": [
    {
     "data": {
      "text/html": [
       "<div>\n",
       "<style scoped>\n",
       "    .dataframe tbody tr th:only-of-type {\n",
       "        vertical-align: middle;\n",
       "    }\n",
       "\n",
       "    .dataframe tbody tr th {\n",
       "        vertical-align: top;\n",
       "    }\n",
       "\n",
       "    .dataframe thead th {\n",
       "        text-align: right;\n",
       "    }\n",
       "</style>\n",
       "<table border=\"1\" class=\"dataframe\">\n",
       "  <thead>\n",
       "    <tr style=\"text-align: right;\">\n",
       "      <th></th>\n",
       "      <th>Total</th>\n",
       "      <th>Percent</th>\n",
       "    </tr>\n",
       "  </thead>\n",
       "  <tbody>\n",
       "    <tr>\n",
       "      <th>due_amt</th>\n",
       "      <td>0</td>\n",
       "      <td>0.0</td>\n",
       "    </tr>\n",
       "    <tr>\n",
       "      <th>due_date</th>\n",
       "      <td>0</td>\n",
       "      <td>0.0</td>\n",
       "    </tr>\n",
       "    <tr>\n",
       "      <th>auditing_date</th>\n",
       "      <td>0</td>\n",
       "      <td>0.0</td>\n",
       "    </tr>\n",
       "    <tr>\n",
       "      <th>listing_id</th>\n",
       "      <td>0</td>\n",
       "      <td>0.0</td>\n",
       "    </tr>\n",
       "    <tr>\n",
       "      <th>user_id</th>\n",
       "      <td>0</td>\n",
       "      <td>0.0</td>\n",
       "    </tr>\n",
       "  </tbody>\n",
       "</table>\n",
       "</div>"
      ],
      "text/plain": [
       "               Total  Percent\n",
       "due_amt            0      0.0\n",
       "due_date           0      0.0\n",
       "auditing_date      0      0.0\n",
       "listing_id         0      0.0\n",
       "user_id            0      0.0"
      ]
     },
     "execution_count": 34,
     "metadata": {},
     "output_type": "execute_result"
    }
   ],
   "source": [
    "# 检查缺省值\n",
    "total = test.isnull().sum().sort_values(ascending = False)\n",
    "percent = (test.isnull().sum()/test.isnull().count()*100).sort_values(ascending = False)\n",
    "missing_train_data  = pd.concat([total, percent], axis=1, keys=['Total', 'Percent'])\n",
    "missing_train_data.head()"
   ]
  },
  {
   "cell_type": "code",
   "execution_count": 7,
   "metadata": {},
   "outputs": [
    {
     "data": {
      "text/html": [
       "<div>\n",
       "<style scoped>\n",
       "    .dataframe tbody tr th:only-of-type {\n",
       "        vertical-align: middle;\n",
       "    }\n",
       "\n",
       "    .dataframe tbody tr th {\n",
       "        vertical-align: top;\n",
       "    }\n",
       "\n",
       "    .dataframe thead th {\n",
       "        text-align: right;\n",
       "    }\n",
       "</style>\n",
       "<table border=\"1\" class=\"dataframe\">\n",
       "  <thead>\n",
       "    <tr style=\"text-align: right;\">\n",
       "      <th></th>\n",
       "      <th>user_id</th>\n",
       "      <th>listing_id</th>\n",
       "      <th>auditing_date</th>\n",
       "      <th>due_date</th>\n",
       "      <th>due_amt</th>\n",
       "    </tr>\n",
       "  </thead>\n",
       "  <tbody>\n",
       "    <tr>\n",
       "      <th>0</th>\n",
       "      <td>498765</td>\n",
       "      <td>5431438</td>\n",
       "      <td>2019-03-12</td>\n",
       "      <td>2019-04-12</td>\n",
       "      <td>138.5903</td>\n",
       "    </tr>\n",
       "  </tbody>\n",
       "</table>\n",
       "</div>"
      ],
      "text/plain": [
       "   user_id  listing_id auditing_date    due_date   due_amt\n",
       "0   498765     5431438    2019-03-12  2019-04-12  138.5903"
      ]
     },
     "execution_count": 7,
     "metadata": {},
     "output_type": "execute_result"
    }
   ],
   "source": [
    "test.head(1)"
   ]
  },
  {
   "cell_type": "code",
   "execution_count": 56,
   "metadata": {},
   "outputs": [
    {
     "name": "stdout",
     "output_type": "stream",
     "text": [
      "59 days,first day: 2019-02-01, last days: 2019-03-31\n"
     ]
    }
   ],
   "source": [
    "# 预测数据\n",
    "test_days=np.array(test['auditing_date'].unique())\n",
    "test_days.sort()\n",
    "print(\"%d days,first day: %s, last days: %s\"%(test_days.shape[0],test_days[0],test_days[-1]))"
   ]
  },
  {
   "cell_type": "code",
   "execution_count": 57,
   "metadata": {},
   "outputs": [
    {
     "name": "stdout",
     "output_type": "stream",
     "text": [
      "58 days,first day: 2019-03-01, last days: 2019-04-30\n"
     ]
    }
   ],
   "source": [
    "# 预测数据\n",
    "test_days=np.array(test['due_date'].unique())\n",
    "test_days.sort()\n",
    "print(\"%d days,first day: %s, last days: %s\"%(test_days.shape[0],test_days[0],test_days[-1]))"
   ]
  },
  {
   "cell_type": "code",
   "execution_count": 96,
   "metadata": {},
   "outputs": [],
   "source": [
    "# 测试直接按照规定天数,规定额度还款\n",
    "testSubmission=pd.DataFrame()\n",
    "testSubmission['listing_id']=test['listing_id']\n",
    "testSubmission['repay_date']=test['due_date']\n",
    "testSubmission['repay_amt']=test['due_amt']\n",
    "testSubmission.to_csv('./testSubmission.csv',index=False)"
   ]
  },
  {
   "cell_type": "markdown",
   "metadata": {},
   "source": [
    "# 4.表四: train,训练用户和测试用户重合量不大,训练集总共100万,共80多万用户,即有20万个表存在重复, 时间范围:2018-01-01, 2019-01-31,还款日和到期日之间的差距为0-31,而且绝大部分是3天,还款的金额也是绝大部分和账单数值相等!"
   ]
  },
  {
   "cell_type": "code",
   "execution_count": 20,
   "metadata": {},
   "outputs": [],
   "source": [
    "# 100万条\n",
    "train=pd.read_csv(\"../data/train.csv\")"
   ]
  },
  {
   "cell_type": "code",
   "execution_count": 3,
   "metadata": {},
   "outputs": [
    {
     "data": {
      "text/html": [
       "<div>\n",
       "<style scoped>\n",
       "    .dataframe tbody tr th:only-of-type {\n",
       "        vertical-align: middle;\n",
       "    }\n",
       "\n",
       "    .dataframe tbody tr th {\n",
       "        vertical-align: top;\n",
       "    }\n",
       "\n",
       "    .dataframe thead th {\n",
       "        text-align: right;\n",
       "    }\n",
       "</style>\n",
       "<table border=\"1\" class=\"dataframe\">\n",
       "  <thead>\n",
       "    <tr style=\"text-align: right;\">\n",
       "      <th></th>\n",
       "      <th>user_id</th>\n",
       "      <th>listing_id</th>\n",
       "      <th>auditing_date</th>\n",
       "      <th>due_date</th>\n",
       "      <th>due_amt</th>\n",
       "      <th>repay_date</th>\n",
       "      <th>repay_amt</th>\n",
       "    </tr>\n",
       "  </thead>\n",
       "  <tbody>\n",
       "    <tr>\n",
       "      <th>0</th>\n",
       "      <td>748147</td>\n",
       "      <td>3163926</td>\n",
       "      <td>2018-04-25</td>\n",
       "      <td>2018-05-25</td>\n",
       "      <td>72.1167</td>\n",
       "      <td>2018-05-25</td>\n",
       "      <td>72.1167</td>\n",
       "    </tr>\n",
       "    <tr>\n",
       "      <th>1</th>\n",
       "      <td>672952</td>\n",
       "      <td>3698760</td>\n",
       "      <td>2018-06-09</td>\n",
       "      <td>2018-07-09</td>\n",
       "      <td>258.7045</td>\n",
       "      <td>2018-07-08</td>\n",
       "      <td>258.7045</td>\n",
       "    </tr>\n",
       "    <tr>\n",
       "      <th>2</th>\n",
       "      <td>404196</td>\n",
       "      <td>2355665</td>\n",
       "      <td>2018-02-18</td>\n",
       "      <td>2018-03-18</td>\n",
       "      <td>307.9270</td>\n",
       "      <td>\\N</td>\n",
       "      <td>\\N</td>\n",
       "    </tr>\n",
       "    <tr>\n",
       "      <th>3</th>\n",
       "      <td>342769</td>\n",
       "      <td>1994522</td>\n",
       "      <td>2018-01-13</td>\n",
       "      <td>2018-02-13</td>\n",
       "      <td>252.9809</td>\n",
       "      <td>2018-02-13</td>\n",
       "      <td>252.9809</td>\n",
       "    </tr>\n",
       "    <tr>\n",
       "      <th>4</th>\n",
       "      <td>828139</td>\n",
       "      <td>3602352</td>\n",
       "      <td>2018-06-01</td>\n",
       "      <td>2018-07-01</td>\n",
       "      <td>107.6503</td>\n",
       "      <td>2018-06-25</td>\n",
       "      <td>107.6503</td>\n",
       "    </tr>\n",
       "  </tbody>\n",
       "</table>\n",
       "</div>"
      ],
      "text/plain": [
       "   user_id  listing_id auditing_date    due_date   due_amt  repay_date  \\\n",
       "0   748147     3163926    2018-04-25  2018-05-25   72.1167  2018-05-25   \n",
       "1   672952     3698760    2018-06-09  2018-07-09  258.7045  2018-07-08   \n",
       "2   404196     2355665    2018-02-18  2018-03-18  307.9270          \\N   \n",
       "3   342769     1994522    2018-01-13  2018-02-13  252.9809  2018-02-13   \n",
       "4   828139     3602352    2018-06-01  2018-07-01  107.6503  2018-06-25   \n",
       "\n",
       "  repay_amt  \n",
       "0   72.1167  \n",
       "1  258.7045  \n",
       "2        \\N  \n",
       "3  252.9809  \n",
       "4  107.6503  "
      ]
     },
     "execution_count": 3,
     "metadata": {},
     "output_type": "execute_result"
    }
   ],
   "source": [
    "train.head(5)"
   ]
  },
  {
   "cell_type": "code",
   "execution_count": 63,
   "metadata": {},
   "outputs": [
    {
     "data": {
      "text/plain": [
       "((1000000, 7), (823732,))"
      ]
     },
     "execution_count": 63,
     "metadata": {},
     "output_type": "execute_result"
    }
   ],
   "source": [
    "train.shape,train['user_id'].unique().shape"
   ]
  },
  {
   "cell_type": "code",
   "execution_count": 68,
   "metadata": {},
   "outputs": [],
   "source": [
    "train['due_date']=train['due_date'].replace('\\\\N','2200-01-01')\n",
    "train['repay_date']=train['repay_date'].replace('\\\\N','2200-01-01')\n",
    "train['repay_amt']=train['repay_amt'].replace('\\\\N','0')"
   ]
  },
  {
   "cell_type": "code",
   "execution_count": 80,
   "metadata": {},
   "outputs": [
    {
     "data": {
      "text/html": [
       "<div>\n",
       "<style scoped>\n",
       "    .dataframe tbody tr th:only-of-type {\n",
       "        vertical-align: middle;\n",
       "    }\n",
       "\n",
       "    .dataframe tbody tr th {\n",
       "        vertical-align: top;\n",
       "    }\n",
       "\n",
       "    .dataframe thead th {\n",
       "        text-align: right;\n",
       "    }\n",
       "</style>\n",
       "<table border=\"1\" class=\"dataframe\">\n",
       "  <thead>\n",
       "    <tr style=\"text-align: right;\">\n",
       "      <th></th>\n",
       "      <th>user_id</th>\n",
       "      <th>listing_id</th>\n",
       "      <th>auditing_date</th>\n",
       "      <th>due_date</th>\n",
       "      <th>due_amt</th>\n",
       "      <th>repay_date</th>\n",
       "      <th>repay_amt</th>\n",
       "      <th>dategap</th>\n",
       "      <th>paygap</th>\n",
       "    </tr>\n",
       "  </thead>\n",
       "  <tbody>\n",
       "    <tr>\n",
       "      <th>0</th>\n",
       "      <td>748147</td>\n",
       "      <td>3163926</td>\n",
       "      <td>2018-04-25</td>\n",
       "      <td>2018-05-25</td>\n",
       "      <td>72.1167</td>\n",
       "      <td>2018-05-25</td>\n",
       "      <td>72.1167</td>\n",
       "      <td>0 days</td>\n",
       "      <td>0</td>\n",
       "    </tr>\n",
       "    <tr>\n",
       "      <th>1</th>\n",
       "      <td>672952</td>\n",
       "      <td>3698760</td>\n",
       "      <td>2018-06-09</td>\n",
       "      <td>2018-07-09</td>\n",
       "      <td>258.7045</td>\n",
       "      <td>2018-07-08</td>\n",
       "      <td>258.7045</td>\n",
       "      <td>1 days</td>\n",
       "      <td>0</td>\n",
       "    </tr>\n",
       "    <tr>\n",
       "      <th>2</th>\n",
       "      <td>404196</td>\n",
       "      <td>2355665</td>\n",
       "      <td>2018-02-18</td>\n",
       "      <td>2018-03-18</td>\n",
       "      <td>307.9270</td>\n",
       "      <td>2200-01-01</td>\n",
       "      <td>0</td>\n",
       "      <td>-66398 days</td>\n",
       "      <td>-307</td>\n",
       "    </tr>\n",
       "    <tr>\n",
       "      <th>3</th>\n",
       "      <td>342769</td>\n",
       "      <td>1994522</td>\n",
       "      <td>2018-01-13</td>\n",
       "      <td>2018-02-13</td>\n",
       "      <td>252.9809</td>\n",
       "      <td>2018-02-13</td>\n",
       "      <td>252.9809</td>\n",
       "      <td>0 days</td>\n",
       "      <td>0</td>\n",
       "    </tr>\n",
       "    <tr>\n",
       "      <th>4</th>\n",
       "      <td>828139</td>\n",
       "      <td>3602352</td>\n",
       "      <td>2018-06-01</td>\n",
       "      <td>2018-07-01</td>\n",
       "      <td>107.6503</td>\n",
       "      <td>2018-06-25</td>\n",
       "      <td>107.6503</td>\n",
       "      <td>6 days</td>\n",
       "      <td>0</td>\n",
       "    </tr>\n",
       "  </tbody>\n",
       "</table>\n",
       "</div>"
      ],
      "text/plain": [
       "   user_id  listing_id auditing_date   due_date   due_amt repay_date  \\\n",
       "0   748147     3163926    2018-04-25 2018-05-25   72.1167 2018-05-25   \n",
       "1   672952     3698760    2018-06-09 2018-07-09  258.7045 2018-07-08   \n",
       "2   404196     2355665    2018-02-18 2018-03-18  307.9270 2200-01-01   \n",
       "3   342769     1994522    2018-01-13 2018-02-13  252.9809 2018-02-13   \n",
       "4   828139     3602352    2018-06-01 2018-07-01  107.6503 2018-06-25   \n",
       "\n",
       "  repay_amt     dategap  paygap  \n",
       "0   72.1167      0 days       0  \n",
       "1  258.7045      1 days       0  \n",
       "2         0 -66398 days    -307  \n",
       "3  252.9809      0 days       0  \n",
       "4  107.6503      6 days       0  "
      ]
     },
     "execution_count": 80,
     "metadata": {},
     "output_type": "execute_result"
    }
   ],
   "source": [
    "train.head(5)"
   ]
  },
  {
   "cell_type": "code",
   "execution_count": 91,
   "metadata": {},
   "outputs": [
    {
     "data": {
      "text/plain": [
       "count    1000000.000000\n",
       "mean           3.542536\n",
       "std            7.119228\n",
       "min           -1.000000\n",
       "25%            0.000000\n",
       "50%            0.000000\n",
       "75%            3.000000\n",
       "max           31.000000\n",
       "Name: dategap, dtype: float64"
      ]
     },
     "execution_count": 91,
     "metadata": {},
     "output_type": "execute_result"
    }
   ],
   "source": [
    "# 还款日和到期日之间的差距\n",
    "train['due_date']=pd.to_datetime(train['due_date'])\n",
    "train['repay_date']=pd.to_datetime(train['repay_date'])\n",
    "train['dategap']=(train['due_date']-train['repay_date'])\n",
    "\n",
    "train['dategap'] = pd.to_timedelta(train['dategap']).dt.days\n",
    "train.loc[train['dategap']<0,'dategap']=-1\n",
    "\n",
    "train['dategap'].describe()"
   ]
  },
  {
   "cell_type": "code",
   "execution_count": 90,
   "metadata": {},
   "outputs": [
    {
     "data": {
      "image/png": "[encoded data removed]",
      "text/plain": [
       "<Figure size 1368x648 with 1 Axes>"
      ]
     },
     "metadata": {
      "needs_background": "light"
     },
     "output_type": "display_data"
    }
   ],
   "source": [
    "date_gap_distribution = train['dategap'].value_counts().sort_values(ascending=False)\n",
    "fig, ax = plt.subplots(figsize=(19,9))\n",
    "sns.barplot( date_gap_distribution.index,date_gap_distribution.values, ax=ax)\n",
    "ax.set(xlabel= 'day ', \n",
    "       ylabel = 'day count', \n",
    "       title = \"repay day distribution\")\n",
    "plt.show()"
   ]
  },
  {
   "cell_type": "code",
   "execution_count": 73,
   "metadata": {},
   "outputs": [
    {
     "data": {
      "text/plain": [
       "count    1000000.000000\n",
       "mean         -55.427952\n",
       "std          237.278817\n",
       "min       -16553.000000\n",
       "25%            0.000000\n",
       "50%            0.000000\n",
       "75%            0.000000\n",
       "max            0.000000\n",
       "Name: paygap, dtype: float64"
      ]
     },
     "execution_count": 73,
     "metadata": {},
     "output_type": "execute_result"
    }
   ],
   "source": [
    "# 还款和账单之间的差距,说明绝大部分的还款是按时的,按量还款的\n",
    "train['paygap']=(train['repay_amt'].astype('float')-train['due_amt'])\n",
    "train['paygap'].describe()"
   ]
  },
  {
   "cell_type": "code",
   "execution_count": 61,
   "metadata": {},
   "outputs": [
    {
     "name": "stdout",
     "output_type": "stream",
     "text": [
      "test, not in train: 104463,train not in test: 798195,both in test and train: 25537\n"
     ]
    }
   ],
   "source": [
    "# 查看训练集和测试集中数据用户是否重合\n",
    "train_user_id = np.array(train['user_id'])\n",
    "train_user_list=set(train_user_id.tolist())\n",
    "\n",
    "test_user_id = np.array(test['user_id'])\n",
    "test_user_list=set(test_user_id.tolist())\n",
    "# 在测试集中,没在训练集\n",
    "ret_list_1 = test_user_list-train_user_list\n",
    "# 在训练集,没在测试集\n",
    "ret_list_2 = train_user_list-test_user_list\n",
    "# 在训练集,也在测试集\n",
    "ret_list_3 = train_user_list&test_user_list\n",
    "print(\"test, not in train: %d,train not in test: %d,both in test and train: %d\"%(len(ret_list_1),len(ret_list_2),len(ret_list_3)))"
   ]
  },
  {
   "cell_type": "code",
   "execution_count": 55,
   "metadata": {},
   "outputs": [
    {
     "data": {
      "text/plain": [
       "count    1000000.000000\n",
       "mean         452.026625\n",
       "std          514.202155\n",
       "min           17.453300\n",
       "25%          160.482400\n",
       "50%          286.740100\n",
       "75%          546.026800\n",
       "max        18827.018400\n",
       "Name: due_amt, dtype: float64"
      ]
     },
     "execution_count": 55,
     "metadata": {},
     "output_type": "execute_result"
    }
   ],
   "source": [
    "train['due_amt'].describe()"
   ]
  },
  {
   "cell_type": "code",
   "execution_count": 35,
   "metadata": {},
   "outputs": [
    {
     "data": {
      "text/html": [
       "<div>\n",
       "<style scoped>\n",
       "    .dataframe tbody tr th:only-of-type {\n",
       "        vertical-align: middle;\n",
       "    }\n",
       "\n",
       "    .dataframe tbody tr th {\n",
       "        vertical-align: top;\n",
       "    }\n",
       "\n",
       "    .dataframe thead th {\n",
       "        text-align: right;\n",
       "    }\n",
       "</style>\n",
       "<table border=\"1\" class=\"dataframe\">\n",
       "  <thead>\n",
       "    <tr style=\"text-align: right;\">\n",
       "      <th></th>\n",
       "      <th>Total</th>\n",
       "      <th>Percent</th>\n",
       "    </tr>\n",
       "  </thead>\n",
       "  <tbody>\n",
       "    <tr>\n",
       "      <th>repay_amt</th>\n",
       "      <td>0</td>\n",
       "      <td>0.0</td>\n",
       "    </tr>\n",
       "    <tr>\n",
       "      <th>repay_date</th>\n",
       "      <td>0</td>\n",
       "      <td>0.0</td>\n",
       "    </tr>\n",
       "    <tr>\n",
       "      <th>due_amt</th>\n",
       "      <td>0</td>\n",
       "      <td>0.0</td>\n",
       "    </tr>\n",
       "    <tr>\n",
       "      <th>due_date</th>\n",
       "      <td>0</td>\n",
       "      <td>0.0</td>\n",
       "    </tr>\n",
       "    <tr>\n",
       "      <th>auditing_date</th>\n",
       "      <td>0</td>\n",
       "      <td>0.0</td>\n",
       "    </tr>\n",
       "  </tbody>\n",
       "</table>\n",
       "</div>"
      ],
      "text/plain": [
       "               Total  Percent\n",
       "repay_amt          0      0.0\n",
       "repay_date         0      0.0\n",
       "due_amt            0      0.0\n",
       "due_date           0      0.0\n",
       "auditing_date      0      0.0"
      ]
     },
     "execution_count": 35,
     "metadata": {},
     "output_type": "execute_result"
    }
   ],
   "source": [
    "# 检查缺省值\n",
    "total = train.isnull().sum().sort_values(ascending = False)\n",
    "percent = (train.isnull().sum()/train.isnull().count()*100).sort_values(ascending = False)\n",
    "missing_train_data  = pd.concat([total, percent], axis=1, keys=['Total', 'Percent'])\n",
    "missing_train_data.head()"
   ]
  },
  {
   "cell_type": "code",
   "execution_count": 3,
   "metadata": {},
   "outputs": [
    {
     "data": {
      "text/html": [
       "<div>\n",
       "<style scoped>\n",
       "    .dataframe tbody tr th:only-of-type {\n",
       "        vertical-align: middle;\n",
       "    }\n",
       "\n",
       "    .dataframe tbody tr th {\n",
       "        vertical-align: top;\n",
       "    }\n",
       "\n",
       "    .dataframe thead th {\n",
       "        text-align: right;\n",
       "    }\n",
       "</style>\n",
       "<table border=\"1\" class=\"dataframe\">\n",
       "  <thead>\n",
       "    <tr style=\"text-align: right;\">\n",
       "      <th></th>\n",
       "      <th>user_id</th>\n",
       "      <th>listing_id</th>\n",
       "      <th>auditing_date</th>\n",
       "      <th>due_date</th>\n",
       "      <th>due_amt</th>\n",
       "      <th>repay_date</th>\n",
       "      <th>repay_amt</th>\n",
       "    </tr>\n",
       "  </thead>\n",
       "  <tbody>\n",
       "    <tr>\n",
       "      <th>0</th>\n",
       "      <td>748147</td>\n",
       "      <td>3163926</td>\n",
       "      <td>2018-04-25</td>\n",
       "      <td>2018-05-25</td>\n",
       "      <td>72.1167</td>\n",
       "      <td>2018-05-25</td>\n",
       "      <td>72.1167</td>\n",
       "    </tr>\n",
       "  </tbody>\n",
       "</table>\n",
       "</div>"
      ],
      "text/plain": [
       "   user_id  listing_id auditing_date    due_date  due_amt  repay_date  \\\n",
       "0   748147     3163926    2018-04-25  2018-05-25  72.1167  2018-05-25   \n",
       "\n",
       "  repay_amt  \n",
       "0   72.1167  "
      ]
     },
     "execution_count": 3,
     "metadata": {},
     "output_type": "execute_result"
    }
   ],
   "source": [
    "train.head(1)"
   ]
  },
  {
   "cell_type": "code",
   "execution_count": 24,
   "metadata": {},
   "outputs": [
    {
     "data": {
      "text/html": [
       "<div>\n",
       "<style scoped>\n",
       "    .dataframe tbody tr th:only-of-type {\n",
       "        vertical-align: middle;\n",
       "    }\n",
       "\n",
       "    .dataframe tbody tr th {\n",
       "        vertical-align: top;\n",
       "    }\n",
       "\n",
       "    .dataframe thead th {\n",
       "        text-align: right;\n",
       "    }\n",
       "</style>\n",
       "<table border=\"1\" class=\"dataframe\">\n",
       "  <thead>\n",
       "    <tr style=\"text-align: right;\">\n",
       "      <th></th>\n",
       "      <th>user_id</th>\n",
       "      <th>listing_id</th>\n",
       "      <th>auditing_date</th>\n",
       "      <th>due_date</th>\n",
       "      <th>due_amt</th>\n",
       "      <th>repay_date</th>\n",
       "      <th>repay_amt</th>\n",
       "    </tr>\n",
       "  </thead>\n",
       "  <tbody>\n",
       "    <tr>\n",
       "      <th>0</th>\n",
       "      <td>748147</td>\n",
       "      <td>3163926</td>\n",
       "      <td>2018-04-25</td>\n",
       "      <td>2018-05-25</td>\n",
       "      <td>72.1167</td>\n",
       "      <td>2018-05-25</td>\n",
       "      <td>72.1167</td>\n",
       "    </tr>\n",
       "    <tr>\n",
       "      <th>610984</th>\n",
       "      <td>748147</td>\n",
       "      <td>4905220</td>\n",
       "      <td>2018-11-13</td>\n",
       "      <td>2018-12-13</td>\n",
       "      <td>54.9781</td>\n",
       "      <td>2018-12-13</td>\n",
       "      <td>54.9781</td>\n",
       "    </tr>\n",
       "  </tbody>\n",
       "</table>\n",
       "</div>"
      ],
      "text/plain": [
       "        user_id  listing_id auditing_date    due_date  due_amt  repay_date  \\\n",
       "0        748147     3163926    2018-04-25  2018-05-25  72.1167  2018-05-25   \n",
       "610984   748147     4905220    2018-11-13  2018-12-13  54.9781  2018-12-13   \n",
       "\n",
       "       repay_amt  \n",
       "0        72.1167  \n",
       "610984   54.9781  "
      ]
     },
     "execution_count": 24,
     "metadata": {},
     "output_type": "execute_result"
    }
   ],
   "source": [
    "# 训练集中只有两个标,历史上就有很多的标\n",
    "train.loc[train['user_id']==748147]"
   ]
  },
  {
   "cell_type": "code",
   "execution_count": 48,
   "metadata": {},
   "outputs": [
    {
     "name": "stdout",
     "output_type": "stream",
     "text": [
      "396 days,first day:2018-01-01, last day:2019-01-31\n"
     ]
    }
   ],
   "source": [
    "# 时间取值范围\n",
    "date=np.array(train['repay_date'].unique())\n",
    "date.sort()\n",
    "print(\"%d days,first day:%s, last day:%s\"%(date.shape[0]-1,date[0],date[395]))"
   ]
  },
  {
   "cell_type": "code",
   "execution_count": null,
   "metadata": {},
   "outputs": [],
   "source": [
    "# 重点研究每一标还款日和到期日之间的差距\n"
   ]
  },
  {
   "cell_type": "markdown",
   "metadata": {},
   "source": [
    "# 7.表七:用户还款日志表（user_repay_logs.csv）,总共1800万条记录,test中用户8920没在log中, train中44434用户没在log中"
   ]
  },
  {
   "cell_type": "code",
   "execution_count": 6,
   "metadata": {},
   "outputs": [],
   "source": [
    "# 日志1800万条\n",
    "user_repay_logs=pd.read_csv(\"../data/user_repay_logs.csv\")"
   ]
  },
  {
   "cell_type": "code",
   "execution_count": 28,
   "metadata": {},
   "outputs": [
    {
     "data": {
      "text/plain": [
       "(18001297, 7)"
      ]
     },
     "execution_count": 28,
     "metadata": {},
     "output_type": "execute_result"
    }
   ],
   "source": [
    "user_repay_logs.shape"
   ]
  },
  {
   "cell_type": "code",
   "execution_count": 22,
   "metadata": {},
   "outputs": [
    {
     "data": {
      "text/html": [
       "<div>\n",
       "<style scoped>\n",
       "    .dataframe tbody tr th:only-of-type {\n",
       "        vertical-align: middle;\n",
       "    }\n",
       "\n",
       "    .dataframe tbody tr th {\n",
       "        vertical-align: top;\n",
       "    }\n",
       "\n",
       "    .dataframe thead th {\n",
       "        text-align: right;\n",
       "    }\n",
       "</style>\n",
       "<table border=\"1\" class=\"dataframe\">\n",
       "  <thead>\n",
       "    <tr style=\"text-align: right;\">\n",
       "      <th></th>\n",
       "      <th>user_id</th>\n",
       "      <th>listing_id</th>\n",
       "      <th>order_id</th>\n",
       "      <th>due_date</th>\n",
       "      <th>due_amt</th>\n",
       "      <th>repay_date</th>\n",
       "      <th>repay_amt</th>\n",
       "    </tr>\n",
       "  </thead>\n",
       "  <tbody>\n",
       "    <tr>\n",
       "      <th>1490926</th>\n",
       "      <td>748147</td>\n",
       "      <td>3131591</td>\n",
       "      <td>6</td>\n",
       "      <td>2018-10-22</td>\n",
       "      <td>102.1022</td>\n",
       "      <td>2018-10-22</td>\n",
       "      <td>102.1022</td>\n",
       "    </tr>\n",
       "    <tr>\n",
       "      <th>1490927</th>\n",
       "      <td>748147</td>\n",
       "      <td>3131591</td>\n",
       "      <td>3</td>\n",
       "      <td>2018-07-22</td>\n",
       "      <td>102.1022</td>\n",
       "      <td>2018-07-22</td>\n",
       "      <td>102.1022</td>\n",
       "    </tr>\n",
       "    <tr>\n",
       "      <th>1490928</th>\n",
       "      <td>748147</td>\n",
       "      <td>3131591</td>\n",
       "      <td>2</td>\n",
       "      <td>2018-06-22</td>\n",
       "      <td>102.1022</td>\n",
       "      <td>2018-04-24</td>\n",
       "      <td>102.1022</td>\n",
       "    </tr>\n",
       "    <tr>\n",
       "      <th>1490929</th>\n",
       "      <td>748147</td>\n",
       "      <td>3131591</td>\n",
       "      <td>5</td>\n",
       "      <td>2018-09-22</td>\n",
       "      <td>102.1022</td>\n",
       "      <td>2018-09-22</td>\n",
       "      <td>102.1022</td>\n",
       "    </tr>\n",
       "    <tr>\n",
       "      <th>1490930</th>\n",
       "      <td>748147</td>\n",
       "      <td>3131591</td>\n",
       "      <td>1</td>\n",
       "      <td>2018-05-22</td>\n",
       "      <td>102.1022</td>\n",
       "      <td>2018-04-24</td>\n",
       "      <td>102.1022</td>\n",
       "    </tr>\n",
       "    <tr>\n",
       "      <th>1490931</th>\n",
       "      <td>748147</td>\n",
       "      <td>3131591</td>\n",
       "      <td>4</td>\n",
       "      <td>2018-08-22</td>\n",
       "      <td>102.1022</td>\n",
       "      <td>2018-08-22</td>\n",
       "      <td>102.1022</td>\n",
       "    </tr>\n",
       "    <tr>\n",
       "      <th>9606398</th>\n",
       "      <td>748147</td>\n",
       "      <td>3163926</td>\n",
       "      <td>5</td>\n",
       "      <td>2018-09-25</td>\n",
       "      <td>72.1167</td>\n",
       "      <td>2018-09-25</td>\n",
       "      <td>72.1167</td>\n",
       "    </tr>\n",
       "    <tr>\n",
       "      <th>9606399</th>\n",
       "      <td>748147</td>\n",
       "      <td>3163926</td>\n",
       "      <td>4</td>\n",
       "      <td>2018-08-25</td>\n",
       "      <td>72.1167</td>\n",
       "      <td>2018-08-25</td>\n",
       "      <td>72.1167</td>\n",
       "    </tr>\n",
       "    <tr>\n",
       "      <th>9606400</th>\n",
       "      <td>748147</td>\n",
       "      <td>3163926</td>\n",
       "      <td>1</td>\n",
       "      <td>2018-05-25</td>\n",
       "      <td>72.1167</td>\n",
       "      <td>2018-05-25</td>\n",
       "      <td>72.1167</td>\n",
       "    </tr>\n",
       "    <tr>\n",
       "      <th>9606401</th>\n",
       "      <td>748147</td>\n",
       "      <td>3163926</td>\n",
       "      <td>3</td>\n",
       "      <td>2018-07-25</td>\n",
       "      <td>72.1167</td>\n",
       "      <td>2018-07-25</td>\n",
       "      <td>72.1167</td>\n",
       "    </tr>\n",
       "    <tr>\n",
       "      <th>9606402</th>\n",
       "      <td>748147</td>\n",
       "      <td>3163926</td>\n",
       "      <td>2</td>\n",
       "      <td>2018-06-25</td>\n",
       "      <td>72.1167</td>\n",
       "      <td>2018-06-01</td>\n",
       "      <td>72.1167</td>\n",
       "    </tr>\n",
       "    <tr>\n",
       "      <th>9606403</th>\n",
       "      <td>748147</td>\n",
       "      <td>3163926</td>\n",
       "      <td>6</td>\n",
       "      <td>2018-10-25</td>\n",
       "      <td>72.1167</td>\n",
       "      <td>2018-10-25</td>\n",
       "      <td>72.1167</td>\n",
       "    </tr>\n",
       "    <tr>\n",
       "      <th>13585220</th>\n",
       "      <td>748147</td>\n",
       "      <td>3666064</td>\n",
       "      <td>7</td>\n",
       "      <td>2019-01-07</td>\n",
       "      <td>195.7454</td>\n",
       "      <td>2018-08-08</td>\n",
       "      <td>195.7454</td>\n",
       "    </tr>\n",
       "    <tr>\n",
       "      <th>13585221</th>\n",
       "      <td>748147</td>\n",
       "      <td>3666064</td>\n",
       "      <td>2</td>\n",
       "      <td>2018-08-07</td>\n",
       "      <td>195.7454</td>\n",
       "      <td>2200-01-01</td>\n",
       "      <td>195.7454</td>\n",
       "    </tr>\n",
       "    <tr>\n",
       "      <th>13585222</th>\n",
       "      <td>748147</td>\n",
       "      <td>3666064</td>\n",
       "      <td>3</td>\n",
       "      <td>2018-09-07</td>\n",
       "      <td>195.7454</td>\n",
       "      <td>2018-08-08</td>\n",
       "      <td>195.7454</td>\n",
       "    </tr>\n",
       "    <tr>\n",
       "      <th>13585223</th>\n",
       "      <td>748147</td>\n",
       "      <td>3666064</td>\n",
       "      <td>6</td>\n",
       "      <td>2018-12-07</td>\n",
       "      <td>195.7454</td>\n",
       "      <td>2018-08-08</td>\n",
       "      <td>195.7454</td>\n",
       "    </tr>\n",
       "    <tr>\n",
       "      <th>13585224</th>\n",
       "      <td>748147</td>\n",
       "      <td>3666064</td>\n",
       "      <td>9</td>\n",
       "      <td>2019-03-07</td>\n",
       "      <td>195.7454</td>\n",
       "      <td>2018-08-08</td>\n",
       "      <td>195.7454</td>\n",
       "    </tr>\n",
       "    <tr>\n",
       "      <th>13585225</th>\n",
       "      <td>748147</td>\n",
       "      <td>3666064</td>\n",
       "      <td>1</td>\n",
       "      <td>2018-07-07</td>\n",
       "      <td>195.7454</td>\n",
       "      <td>2018-07-07</td>\n",
       "      <td>195.7454</td>\n",
       "    </tr>\n",
       "    <tr>\n",
       "      <th>13585226</th>\n",
       "      <td>748147</td>\n",
       "      <td>3666064</td>\n",
       "      <td>5</td>\n",
       "      <td>2018-11-07</td>\n",
       "      <td>195.7454</td>\n",
       "      <td>2018-08-08</td>\n",
       "      <td>195.7454</td>\n",
       "    </tr>\n",
       "    <tr>\n",
       "      <th>13585227</th>\n",
       "      <td>748147</td>\n",
       "      <td>3666064</td>\n",
       "      <td>4</td>\n",
       "      <td>2018-10-07</td>\n",
       "      <td>195.7454</td>\n",
       "      <td>2018-08-08</td>\n",
       "      <td>195.7454</td>\n",
       "    </tr>\n",
       "    <tr>\n",
       "      <th>13585228</th>\n",
       "      <td>748147</td>\n",
       "      <td>3666064</td>\n",
       "      <td>8</td>\n",
       "      <td>2019-02-07</td>\n",
       "      <td>195.7454</td>\n",
       "      <td>2018-08-08</td>\n",
       "      <td>195.7454</td>\n",
       "    </tr>\n",
       "  </tbody>\n",
       "</table>\n",
       "</div>"
      ],
      "text/plain": [
       "          user_id  listing_id  order_id    due_date   due_amt  repay_date  \\\n",
       "1490926    748147     3131591         6  2018-10-22  102.1022  2018-10-22   \n",
       "1490927    748147     3131591         3  2018-07-22  102.1022  2018-07-22   \n",
       "1490928    748147     3131591         2  2018-06-22  102.1022  2018-04-24   \n",
       "1490929    748147     3131591         5  2018-09-22  102.1022  2018-09-22   \n",
       "1490930    748147     3131591         1  2018-05-22  102.1022  2018-04-24   \n",
       "1490931    748147     3131591         4  2018-08-22  102.1022  2018-08-22   \n",
       "9606398    748147     3163926         5  2018-09-25   72.1167  2018-09-25   \n",
       "9606399    748147     3163926         4  2018-08-25   72.1167  2018-08-25   \n",
       "9606400    748147     3163926         1  2018-05-25   72.1167  2018-05-25   \n",
       "9606401    748147     3163926         3  2018-07-25   72.1167  2018-07-25   \n",
       "9606402    748147     3163926         2  2018-06-25   72.1167  2018-06-01   \n",
       "9606403    748147     3163926         6  2018-10-25   72.1167  2018-10-25   \n",
       "13585220   748147     3666064         7  2019-01-07  195.7454  2018-08-08   \n",
       "13585221   748147     3666064         2  2018-08-07  195.7454  2200-01-01   \n",
       "13585222   748147     3666064         3  2018-09-07  195.7454  2018-08-08   \n",
       "13585223   748147     3666064         6  2018-12-07  195.7454  2018-08-08   \n",
       "13585224   748147     3666064         9  2019-03-07  195.7454  2018-08-08   \n",
       "13585225   748147     3666064         1  2018-07-07  195.7454  2018-07-07   \n",
       "13585226   748147     3666064         5  2018-11-07  195.7454  2018-08-08   \n",
       "13585227   748147     3666064         4  2018-10-07  195.7454  2018-08-08   \n",
       "13585228   748147     3666064         8  2019-02-07  195.7454  2018-08-08   \n",
       "\n",
       "          repay_amt  \n",
       "1490926    102.1022  \n",
       "1490927    102.1022  \n",
       "1490928    102.1022  \n",
       "1490929    102.1022  \n",
       "1490930    102.1022  \n",
       "1490931    102.1022  \n",
       "9606398     72.1167  \n",
       "9606399     72.1167  \n",
       "9606400     72.1167  \n",
       "9606401     72.1167  \n",
       "9606402     72.1167  \n",
       "9606403     72.1167  \n",
       "13585220   195.7454  \n",
       "13585221   195.7454  \n",
       "13585222   195.7454  \n",
       "13585223   195.7454  \n",
       "13585224   195.7454  \n",
       "13585225   195.7454  \n",
       "13585226   195.7454  \n",
       "13585227   195.7454  \n",
       "13585228   195.7454  "
      ]
     },
     "execution_count": 22,
     "metadata": {},
     "output_type": "execute_result"
    }
   ],
   "source": [
    "user_repay_logs.loc[user_repay_logs['user_id']==748147]"
   ]
  },
  {
   "cell_type": "markdown",
   "metadata": {},
   "source": [
    "#### 分期数目的频次统计:可能被分为1---12期(疑问?是不是日志不完整呢)\n",
    "#### 每一个人借钱次数的统计: 借钱一两次的人还是要多一点点"
   ]
  },
  {
   "cell_type": "code",
   "execution_count": 47,
   "metadata": {},
   "outputs": [
    {
     "name": "stdout",
     "output_type": "stream",
     "text": [
      "Counter({6: 899606, 3: 675598, 1: 607557, 2: 591724, 5: 473560, 4: 465364, 9: 184107, 7: 108482, 12: 84960, 8: 77819, 10: 27592, 11: 20207})\n"
     ]
    },
    {
     "data": {
      "image/png": "[encoded data removed]",
      "text/plain": [
       "<Figure size 1368x648 with 1 Axes>"
      ]
     },
     "metadata": {
      "needs_background": "light"
     },
     "output_type": "display_data"
    }
   ],
   "source": [
    "# 分期数目的统计\n",
    "listing_id_count = user_repay_logs['listing_id'].value_counts().sort_values(ascending=False)\n",
    "counter = Counter(listing_id_count)\n",
    "print(counter)\n",
    "\n",
    "x=[]\n",
    "y=[]\n",
    "for k,v in counter.items():\n",
    "    x.append(k)\n",
    "    y.append(v)\n",
    "fig, ax = plt.subplots(figsize=(19,9))\n",
    "sns.barplot(x,y, ax=ax)\n",
    "ax.set(xlabel= 'times', \n",
    "       ylabel = 'loan count', \n",
    "       title = \" distribution\")\n",
    "plt.show()"
   ]
  },
  {
   "cell_type": "code",
   "execution_count": 46,
   "metadata": {},
   "outputs": [
    {
     "name": "stdout",
     "output_type": "stream",
     "text": [
      "Counter({1: 218906, 2: 133596, 3: 99342, 4: 78581, 5: 63237, 6: 51009, 7: 42022, 8: 36094, 9: 30448, 10: 25613, 11: 21105, 12: 16987, 13: 13363, 14: 10587, 15: 8037, 16: 6126, 17: 4719, 18: 3593, 19: 2640, 20: 1977, 21: 1545, 22: 1134, 23: 907, 24: 697, 25: 551, 26: 400, 27: 313, 28: 251, 29: 194, 30: 146, 31: 123, 32: 86, 33: 77, 34: 63, 35: 59, 36: 52, 41: 29, 37: 29, 40: 23, 38: 22, 39: 20, 43: 19, 42: 17, 45: 13, 44: 11, 46: 9, 52: 7, 47: 7, 51: 6, 49: 6, 57: 5, 54: 4, 60: 3, 50: 3, 48: 3, 65: 2, 55: 2, 53: 2, 132: 1, 107: 1, 93: 1, 92: 1, 91: 1, 84: 1, 77: 1, 75: 1, 74: 1, 71: 1, 70: 1, 67: 1, 66: 1, 64: 1, 63: 1, 62: 1, 61: 1, 59: 1, 56: 1})\n"
     ]
    },
    {
     "data": {
      "image/png": "[encoded data removed]",
      "text/plain": [
       "<Figure size 1368x648 with 1 Axes>"
      ]
     },
     "metadata": {
      "needs_background": "light"
     },
     "output_type": "display_data"
    }
   ],
   "source": [
    "# 借钱次数的统计(就是每一个人可能有几个标,(一个标被分成了很多期1-12))\n",
    "# 分期数目的统计\n",
    "# 删除重复的行(标),之后统计用户的数目!!!\n",
    "drop_duplicates_loan=user_repay_logs.drop_duplicates(subset=['listing_id'], keep='first')\n",
    "loan_count=drop_duplicates_loan['user_id'].value_counts().sort_values(ascending=False)\n",
    "counter = Counter(loan_count)\n",
    "print(counter)\n",
    "\n",
    "x=[]\n",
    "y=[]\n",
    "for k,v in counter.items():\n",
    "    x.append(k)\n",
    "    y.append(v)\n",
    "fig, ax = plt.subplots(figsize=(19,9))\n",
    "sns.barplot(x,y, ax=ax)\n",
    "ax.set(xlabel= 'times', \n",
    "       ylabel = 'loan count', \n",
    "       title = \"loan times distribution\")\n",
    "plt.show()"
   ]
  },
  {
   "cell_type": "code",
   "execution_count": 6,
   "metadata": {},
   "outputs": [
    {
     "data": {
      "text/plain": [
       "(1000000,)"
      ]
     },
     "execution_count": 6,
     "metadata": {},
     "output_type": "execute_result"
    }
   ],
   "source": [
    "due_amt=np.array(train['due_amt'])\n",
    "repay_amt=np.array(train['repay_amt'])"
   ]
  },
  {
   "cell_type": "code",
   "execution_count": 17,
   "metadata": {},
   "outputs": [],
   "source": [
    "# 账单和还款相等\n",
    "count=0\n",
    "for i in range(1000000):\n",
    "    if str(due_amt[i])==repay_amt[i]:\n",
    "        count+=1\n",
    "print(count)"
   ]
  },
  {
   "cell_type": "code",
   "execution_count": 23,
   "metadata": {},
   "outputs": [
    {
     "name": "stdout",
     "output_type": "stream",
     "text": [
      "117192\n"
     ]
    }
   ],
   "source": [
    "# 还款为空\n",
    "count_none=0\n",
    "for i in range(1000000):\n",
    "    if repay_amt[i]==\"\\\\N\":\n",
    "        count_none+=1\n",
    "print(count_none)"
   ]
  },
  {
   "cell_type": "code",
   "execution_count": 30,
   "metadata": {},
   "outputs": [
    {
     "name": "stdout",
     "output_type": "stream",
     "text": [
      "{'\\\\N'}\n",
      "17906\n",
      "8286\n"
     ]
    }
   ],
   "source": [
    "# 账单和还款不想等\n",
    "test=[]\n",
    "count_bigger=0\n",
    "count_lower=0\n",
    "# 检查repay_amt是不是数值\n",
    "for i in range(1000000):\n",
    "    try:\n",
    "        if due_amt[i]<float(repay_amt[i]):\n",
    "            count_bigger+=1\n",
    "        elif(due_amt[i]>float(repay_amt[i])):\n",
    "            count_lower+=1\n",
    "    except:\n",
    "        test.append(repay_amt[i])\n",
    "test=np.array(test)\n",
    "print(set(test))\n",
    "print(count_bigger)\n",
    "print(count_lower)"
   ]
  },
  {
   "cell_type": "markdown",
   "metadata": {},
   "source": [
    "### due_amt和repay_amt\n",
    "| * | == | > | < | None |\n",
    "| ---| --- | --- | --- | --- |\n",
    "|Count | 856616 | 117192 | 8286 | 17906 |"
   ]
  },
  {
   "cell_type": "code",
   "execution_count": 37,
   "metadata": {},
   "outputs": [
    {
     "data": {
      "text/html": [
       "<div>\n",
       "<style scoped>\n",
       "    .dataframe tbody tr th:only-of-type {\n",
       "        vertical-align: middle;\n",
       "    }\n",
       "\n",
       "    .dataframe tbody tr th {\n",
       "        vertical-align: top;\n",
       "    }\n",
       "\n",
       "    .dataframe thead th {\n",
       "        text-align: right;\n",
       "    }\n",
       "</style>\n",
       "<table border=\"1\" class=\"dataframe\">\n",
       "  <thead>\n",
       "    <tr style=\"text-align: right;\">\n",
       "      <th></th>\n",
       "      <th>Total</th>\n",
       "      <th>Percent</th>\n",
       "    </tr>\n",
       "  </thead>\n",
       "  <tbody>\n",
       "    <tr>\n",
       "      <th>repay_amt</th>\n",
       "      <td>0</td>\n",
       "      <td>0.0</td>\n",
       "    </tr>\n",
       "    <tr>\n",
       "      <th>repay_date</th>\n",
       "      <td>0</td>\n",
       "      <td>0.0</td>\n",
       "    </tr>\n",
       "    <tr>\n",
       "      <th>due_amt</th>\n",
       "      <td>0</td>\n",
       "      <td>0.0</td>\n",
       "    </tr>\n",
       "    <tr>\n",
       "      <th>due_date</th>\n",
       "      <td>0</td>\n",
       "      <td>0.0</td>\n",
       "    </tr>\n",
       "    <tr>\n",
       "      <th>order_id</th>\n",
       "      <td>0</td>\n",
       "      <td>0.0</td>\n",
       "    </tr>\n",
       "  </tbody>\n",
       "</table>\n",
       "</div>"
      ],
      "text/plain": [
       "            Total  Percent\n",
       "repay_amt       0      0.0\n",
       "repay_date      0      0.0\n",
       "due_amt         0      0.0\n",
       "due_date        0      0.0\n",
       "order_id        0      0.0"
      ]
     },
     "execution_count": 37,
     "metadata": {},
     "output_type": "execute_result"
    }
   ],
   "source": [
    "# 检查缺省值\n",
    "total = user_repay_logs.isnull().sum().sort_values(ascending = False)\n",
    "percent = (user_repay_logs.isnull().sum()/user_repay_logs.isnull().count()*100).sort_values(ascending = False)\n",
    "missing_train_data  = pd.concat([total, percent], axis=1, keys=['Total', 'Percent'])\n",
    "missing_train_data.head()"
   ]
  },
  {
   "cell_type": "code",
   "execution_count": 92,
   "metadata": {},
   "outputs": [
    {
     "data": {
      "text/plain": [
       "array([ 6,  4,  7,  5,  1,  2,  3, 11, 10,  9,  8, 12])"
      ]
     },
     "execution_count": 92,
     "metadata": {},
     "output_type": "execute_result"
    }
   ],
   "source": [
    "# 最多有12期\n",
    "user_repay_logs['order_id'].unique()"
   ]
  },
  {
   "cell_type": "code",
   "execution_count": 94,
   "metadata": {},
   "outputs": [
    {
     "name": "stdout",
     "output_type": "stream",
     "text": [
      "823732 130000\n",
      "8920 44434\n"
     ]
    }
   ],
   "source": [
    "train_user_id=set(train['user_id'].tolist())\n",
    "test_user_id=set(test['user_id'].tolist())\n",
    "log_user_id=set(user_repay_logs['user_id'].tolist())\n",
    "\n",
    "# 判断test中user使用全在log中\n",
    "test_in_log=test_user_id-log_user_id\n",
    "# 判断train中user使用全在log中\n",
    "train_in_log=train_user_id-log_user_id\n",
    "print(len(train_user_id),len(test_user_id))\n",
    "print(len(test_in_log),len(train_in_log))"
   ]
  },
  {
   "cell_type": "markdown",
   "metadata": {},
   "source": [
    "# 5. 借款用户操作行为日志表（user_behavior_logs.csv）,只有三种操作方式"
   ]
  },
  {
   "cell_type": "code",
   "execution_count": 9,
   "metadata": {},
   "outputs": [],
   "source": [
    "# 借款用户日志 5000万\n",
    "user_behavior_logs=pd.read_csv(\"../data/user_behavior_logs.csv\")"
   ]
  },
  {
   "cell_type": "code",
   "execution_count": 24,
   "metadata": {},
   "outputs": [
    {
     "data": {
      "text/plain": [
       "(55781271, 3)"
      ]
     },
     "execution_count": 24,
     "metadata": {},
     "output_type": "execute_result"
    }
   ],
   "source": [
    "user_behavior_logs.shape"
   ]
  },
  {
   "cell_type": "code",
   "execution_count": 25,
   "metadata": {
    "scrolled": true
   },
   "outputs": [
    {
     "data": {
      "text/html": [
       "<div>\n",
       "<style scoped>\n",
       "    .dataframe tbody tr th:only-of-type {\n",
       "        vertical-align: middle;\n",
       "    }\n",
       "\n",
       "    .dataframe tbody tr th {\n",
       "        vertical-align: top;\n",
       "    }\n",
       "\n",
       "    .dataframe thead th {\n",
       "        text-align: right;\n",
       "    }\n",
       "</style>\n",
       "<table border=\"1\" class=\"dataframe\">\n",
       "  <thead>\n",
       "    <tr style=\"text-align: right;\">\n",
       "      <th></th>\n",
       "      <th>user_id</th>\n",
       "      <th>behavior_time</th>\n",
       "      <th>behavior_type</th>\n",
       "    </tr>\n",
       "  </thead>\n",
       "  <tbody>\n",
       "    <tr>\n",
       "      <th>0</th>\n",
       "      <td>842439</td>\n",
       "      <td>2018-09-13 23:17:21</td>\n",
       "      <td>3</td>\n",
       "    </tr>\n",
       "    <tr>\n",
       "      <th>1</th>\n",
       "      <td>842439</td>\n",
       "      <td>2018-09-13 23:17:21</td>\n",
       "      <td>3</td>\n",
       "    </tr>\n",
       "    <tr>\n",
       "      <th>2</th>\n",
       "      <td>905214</td>\n",
       "      <td>2018-09-13 15:19:30</td>\n",
       "      <td>3</td>\n",
       "    </tr>\n",
       "    <tr>\n",
       "      <th>3</th>\n",
       "      <td>905214</td>\n",
       "      <td>2018-09-13 15:19:30</td>\n",
       "      <td>3</td>\n",
       "    </tr>\n",
       "    <tr>\n",
       "      <th>4</th>\n",
       "      <td>842439</td>\n",
       "      <td>2018-09-13 23:17:21</td>\n",
       "      <td>3</td>\n",
       "    </tr>\n",
       "  </tbody>\n",
       "</table>\n",
       "</div>"
      ],
      "text/plain": [
       "   user_id        behavior_time  behavior_type\n",
       "0   842439  2018-09-13 23:17:21              3\n",
       "1   842439  2018-09-13 23:17:21              3\n",
       "2   905214  2018-09-13 15:19:30              3\n",
       "3   905214  2018-09-13 15:19:30              3\n",
       "4   842439  2018-09-13 23:17:21              3"
      ]
     },
     "execution_count": 25,
     "metadata": {},
     "output_type": "execute_result"
    }
   ],
   "source": [
    "user_behavior_logs.head(5)"
   ]
  },
  {
   "cell_type": "code",
   "execution_count": 69,
   "metadata": {},
   "outputs": [
    {
     "data": {
      "text/plain": [
       "array([<matplotlib.axes._subplots.AxesSubplot object at 0x7f04166a5a90>],\n",
       "      dtype=object)"
      ]
     },
     "execution_count": 69,
     "metadata": {},
     "output_type": "execute_result"
    },
    {
     "data": {
      "image/png": "[encoded data removed]",
      "text/plain": [
       "<Figure size 432x288 with 1 Axes>"
      ]
     },
     "metadata": {},
     "output_type": "display_data"
    }
   ],
   "source": [
    "behavior_type = user_behavior_logs['behavior_type'].value_counts()\n",
    "behavior_type.plot(kind='pie',subplots=True)"
   ]
  },
  {
   "cell_type": "code",
   "execution_count": 39,
   "metadata": {
    "scrolled": true
   },
   "outputs": [
    {
     "data": {
      "text/html": [
       "<div>\n",
       "<style scoped>\n",
       "    .dataframe tbody tr th:only-of-type {\n",
       "        vertical-align: middle;\n",
       "    }\n",
       "\n",
       "    .dataframe tbody tr th {\n",
       "        vertical-align: top;\n",
       "    }\n",
       "\n",
       "    .dataframe thead th {\n",
       "        text-align: right;\n",
       "    }\n",
       "</style>\n",
       "<table border=\"1\" class=\"dataframe\">\n",
       "  <thead>\n",
       "    <tr style=\"text-align: right;\">\n",
       "      <th></th>\n",
       "      <th>Total</th>\n",
       "      <th>Percent</th>\n",
       "    </tr>\n",
       "  </thead>\n",
       "  <tbody>\n",
       "    <tr>\n",
       "      <th>behavior_type</th>\n",
       "      <td>0</td>\n",
       "      <td>0.0</td>\n",
       "    </tr>\n",
       "    <tr>\n",
       "      <th>behavior_time</th>\n",
       "      <td>0</td>\n",
       "      <td>0.0</td>\n",
       "    </tr>\n",
       "    <tr>\n",
       "      <th>user_id</th>\n",
       "      <td>0</td>\n",
       "      <td>0.0</td>\n",
       "    </tr>\n",
       "  </tbody>\n",
       "</table>\n",
       "</div>"
      ],
      "text/plain": [
       "               Total  Percent\n",
       "behavior_type      0      0.0\n",
       "behavior_time      0      0.0\n",
       "user_id            0      0.0"
      ]
     },
     "execution_count": 39,
     "metadata": {},
     "output_type": "execute_result"
    }
   ],
   "source": [
    "# 检查缺省值\n",
    "total = user_behavior_logs.isnull().sum().sort_values(ascending = False)\n",
    "percent = (user_behavior_logs.isnull().sum()/user_behavior_logs.isnull().count()*100).sort_values(ascending = False)\n",
    "missing_train_data  = pd.concat([total, percent], axis=1, keys=['Total', 'Percent'])\n",
    "missing_train_data.head()"
   ]
  },
  {
   "cell_type": "code",
   "execution_count": 44,
   "metadata": {},
   "outputs": [
    {
     "data": {
      "text/plain": [
       "array([3, 2, 1])"
      ]
     },
     "execution_count": 44,
     "metadata": {},
     "output_type": "execute_result"
    }
   ],
   "source": [
    "# 取值检查\n",
    "user_behavior_logs['behavior_type'].unique()"
   ]
  },
  {
   "cell_type": "markdown",
   "metadata": {},
   "source": [
    "# 6. 借款用户基础信息表（user_info.csv）,基础信息表格覆盖了整个train,test,log文件,没有信息缺省,(ps:用户画像表格数据就有缺省)"
   ]
  },
  {
   "cell_type": "code",
   "execution_count": 48,
   "metadata": {},
   "outputs": [],
   "source": [
    "# 90万用户信息\n",
    "user_info=pd.read_csv(\"../data/user_info.csv\")"
   ]
  },
  {
   "cell_type": "code",
   "execution_count": 26,
   "metadata": {},
   "outputs": [
    {
     "data": {
      "text/plain": [
       "(954209, 8)"
      ]
     },
     "execution_count": 26,
     "metadata": {},
     "output_type": "execute_result"
    }
   ],
   "source": [
    "user_info.shape"
   ]
  },
  {
   "cell_type": "code",
   "execution_count": 27,
   "metadata": {
    "scrolled": true
   },
   "outputs": [
    {
     "data": {
      "text/html": [
       "<div>\n",
       "<style scoped>\n",
       "    .dataframe tbody tr th:only-of-type {\n",
       "        vertical-align: middle;\n",
       "    }\n",
       "\n",
       "    .dataframe tbody tr th {\n",
       "        vertical-align: top;\n",
       "    }\n",
       "\n",
       "    .dataframe thead th {\n",
       "        text-align: right;\n",
       "    }\n",
       "</style>\n",
       "<table border=\"1\" class=\"dataframe\">\n",
       "  <thead>\n",
       "    <tr style=\"text-align: right;\">\n",
       "      <th></th>\n",
       "      <th>user_id</th>\n",
       "      <th>reg_mon</th>\n",
       "      <th>gender</th>\n",
       "      <th>age</th>\n",
       "      <th>cell_province</th>\n",
       "      <th>id_province</th>\n",
       "      <th>id_city</th>\n",
       "      <th>insertdate</th>\n",
       "    </tr>\n",
       "  </thead>\n",
       "  <tbody>\n",
       "    <tr>\n",
       "      <th>0</th>\n",
       "      <td>483833</td>\n",
       "      <td>2017-04</td>\n",
       "      <td>男</td>\n",
       "      <td>19</td>\n",
       "      <td>c29</td>\n",
       "      <td>c26</td>\n",
       "      <td>c26241</td>\n",
       "      <td>2018-12-11</td>\n",
       "    </tr>\n",
       "    <tr>\n",
       "      <th>1</th>\n",
       "      <td>156772</td>\n",
       "      <td>2016-05</td>\n",
       "      <td>男</td>\n",
       "      <td>31</td>\n",
       "      <td>c11</td>\n",
       "      <td>c11</td>\n",
       "      <td>c11159</td>\n",
       "      <td>2018-02-13</td>\n",
       "    </tr>\n",
       "    <tr>\n",
       "      <th>2</th>\n",
       "      <td>173388</td>\n",
       "      <td>2016-05</td>\n",
       "      <td>男</td>\n",
       "      <td>34</td>\n",
       "      <td>c02</td>\n",
       "      <td>c02</td>\n",
       "      <td>c02182</td>\n",
       "      <td>2018-08-21</td>\n",
       "    </tr>\n",
       "    <tr>\n",
       "      <th>3</th>\n",
       "      <td>199107</td>\n",
       "      <td>2016-07</td>\n",
       "      <td>女</td>\n",
       "      <td>25</td>\n",
       "      <td>c09</td>\n",
       "      <td>c09</td>\n",
       "      <td>c09046</td>\n",
       "      <td>2018-06-05</td>\n",
       "    </tr>\n",
       "    <tr>\n",
       "      <th>4</th>\n",
       "      <td>122560</td>\n",
       "      <td>2016-03</td>\n",
       "      <td>男</td>\n",
       "      <td>23</td>\n",
       "      <td>c05</td>\n",
       "      <td>c05</td>\n",
       "      <td>c05193</td>\n",
       "      <td>2018-04-02</td>\n",
       "    </tr>\n",
       "    <tr>\n",
       "      <th>5</th>\n",
       "      <td>550399</td>\n",
       "      <td>2017-06</td>\n",
       "      <td>男</td>\n",
       "      <td>30</td>\n",
       "      <td>c08</td>\n",
       "      <td>c07</td>\n",
       "      <td>c07282</td>\n",
       "      <td>2018-04-19</td>\n",
       "    </tr>\n",
       "    <tr>\n",
       "      <th>6</th>\n",
       "      <td>414650</td>\n",
       "      <td>2017-02</td>\n",
       "      <td>男</td>\n",
       "      <td>53</td>\n",
       "      <td>c12</td>\n",
       "      <td>c12</td>\n",
       "      <td>\\N</td>\n",
       "      <td>2018-10-16</td>\n",
       "    </tr>\n",
       "    <tr>\n",
       "      <th>7</th>\n",
       "      <td>275042</td>\n",
       "      <td>2016-10</td>\n",
       "      <td>女</td>\n",
       "      <td>23</td>\n",
       "      <td>c21</td>\n",
       "      <td>c21</td>\n",
       "      <td>c21174</td>\n",
       "      <td>2018-07-10</td>\n",
       "    </tr>\n",
       "    <tr>\n",
       "      <th>8</th>\n",
       "      <td>184180</td>\n",
       "      <td>2016-06</td>\n",
       "      <td>男</td>\n",
       "      <td>29</td>\n",
       "      <td>c04</td>\n",
       "      <td>c04</td>\n",
       "      <td>c04348</td>\n",
       "      <td>2018-02-08</td>\n",
       "    </tr>\n",
       "    <tr>\n",
       "      <th>9</th>\n",
       "      <td>817503</td>\n",
       "      <td>2018-03</td>\n",
       "      <td>男</td>\n",
       "      <td>25</td>\n",
       "      <td>c06</td>\n",
       "      <td>c25</td>\n",
       "      <td>c25199</td>\n",
       "      <td>2018-11-27</td>\n",
       "    </tr>\n",
       "  </tbody>\n",
       "</table>\n",
       "</div>"
      ],
      "text/plain": [
       "   user_id  reg_mon gender  age cell_province id_province id_city  insertdate\n",
       "0   483833  2017-04      男   19           c29         c26  c26241  2018-12-11\n",
       "1   156772  2016-05      男   31           c11         c11  c11159  2018-02-13\n",
       "2   173388  2016-05      男   34           c02         c02  c02182  2018-08-21\n",
       "3   199107  2016-07      女   25           c09         c09  c09046  2018-06-05\n",
       "4   122560  2016-03      男   23           c05         c05  c05193  2018-04-02\n",
       "5   550399  2017-06      男   30           c08         c07  c07282  2018-04-19\n",
       "6   414650  2017-02      男   53           c12         c12      \\N  2018-10-16\n",
       "7   275042  2016-10      女   23           c21         c21  c21174  2018-07-10\n",
       "8   184180  2016-06      男   29           c04         c04  c04348  2018-02-08\n",
       "9   817503  2018-03      男   25           c06         c25  c25199  2018-11-27"
      ]
     },
     "execution_count": 27,
     "metadata": {},
     "output_type": "execute_result"
    }
   ],
   "source": [
    "user_info.head(10)"
   ]
  },
  {
   "cell_type": "code",
   "execution_count": 95,
   "metadata": {},
   "outputs": [
    {
     "name": "stdout",
     "output_type": "stream",
     "text": [
      "823732 130000 874841\n",
      "0 0 0\n"
     ]
    }
   ],
   "source": [
    "# 判断train,test,log用户信息是否在user_info中\n",
    "train_user_id=set(train['user_id'].tolist())\n",
    "test_user_id=set(test['user_id'].tolist())\n",
    "log_user_id=set(user_repay_logs['user_id'].tolist())\n",
    "user_info_user_id=set(user_info['user_id'].tolist())\n",
    "\n",
    "# 判断test中user使用全在user_info中\n",
    "test_in_info=test_user_id-user_info_user_id\n",
    "\n",
    "# 判断train中user使用全在user_info中\n",
    "train_in_info=train_user_id-user_info_user_id\n",
    "\n",
    "# 判断log中user使用全在user_info中\n",
    "log_in_info=log_user_id-user_info_user_id\n",
    "\n",
    "print(len(train_user_id),len(test_user_id),len(log_user_id))\n",
    "print(len(test_in_info),len(train_in_info),len(log_in_info))"
   ]
  },
  {
   "cell_type": "code",
   "execution_count": 68,
   "metadata": {},
   "outputs": [
    {
     "data": {
      "text/plain": [
       "array([<matplotlib.axes._subplots.AxesSubplot object at 0x7f041671cfd0>],\n",
       "      dtype=object)"
      ]
     },
     "execution_count": 68,
     "metadata": {},
     "output_type": "execute_result"
    },
    {
     "data": {
      "image/png": "[encoded data removed]",
      "text/plain": [
       "<Figure size 432x288 with 1 Axes>"
      ]
     },
     "metadata": {},
     "output_type": "display_data"
    }
   ],
   "source": [
    "gender = user_info['gender'].value_counts()\n",
    "gender.plot(kind='pie',subplots=True)"
   ]
  },
  {
   "cell_type": "code",
   "execution_count": 67,
   "metadata": {
    "scrolled": true
   },
   "outputs": [
    {
     "data": {
      "image/png": "[encoded data removed]",
      "text/plain": [
       "<Figure size 1368x648 with 1 Axes>"
      ]
     },
     "metadata": {
      "needs_background": "light"
     },
     "output_type": "display_data"
    }
   ],
   "source": [
    "age = user_info['age'].value_counts().sort_values(ascending=False)\n",
    "fig, ax = plt.subplots(figsize=(19,9))\n",
    "sns.barplot( age.index,age.values, ax=ax)\n",
    "ax.set(xlabel= 'age', \n",
    "       ylabel = 'age count', \n",
    "       title = \"age distribution\")\n",
    "plt.show()"
   ]
  },
  {
   "cell_type": "code",
   "execution_count": 63,
   "metadata": {},
   "outputs": [
    {
     "data": {
      "image/png": "[encoded data removed]",
      "text/plain": [
       "<Figure size 1368x648 with 1 Axes>"
      ]
     },
     "metadata": {
      "needs_background": "light"
     },
     "output_type": "display_data"
    }
   ],
   "source": [
    "cell_province = user_info['cell_province'].value_counts().sort_values(ascending=False)\n",
    "fig, ax = plt.subplots(figsize=(19,9))\n",
    "sns.barplot( cell_province.index,cell_province.values, ax=ax)\n",
    "ax.set(xlabel= 'province', \n",
    "       ylabel = 'cell_province', \n",
    "       title = \"cell_province distribution\")\n",
    "plt.show()"
   ]
  },
  {
   "cell_type": "code",
   "execution_count": 53,
   "metadata": {
    "scrolled": true
   },
   "outputs": [
    {
     "name": "stdout",
     "output_type": "stream",
     "text": [
      "['c26' 'c11' 'c02' 'c09' 'c05' 'c07' 'c12' 'c21' 'c04' 'c25' 'c08' 'c27'\n",
      " 'c15' 'c23' 'c20' 'c28' 'c06' 'c29' 'c17' 'c16' 'c13' 'c24' 'c01' 'c31'\n",
      " 'c30' 'c19' 'c03' 'c22' 'c14' 'c18' 'c10']\n"
     ]
    },
    {
     "data": {
      "image/png": "[encoded data removed]",
      "text/plain": [
       "<Figure size 1368x648 with 1 Axes>"
      ]
     },
     "metadata": {
      "needs_background": "light"
     },
     "output_type": "display_data"
    }
   ],
   "source": [
    "print(user_info['id_province'].unique())\n",
    "id_province = user_info['id_province'].value_counts().sort_values(ascending=False)\n",
    "fig, ax = plt.subplots(figsize=(19,9))\n",
    "sns.barplot( id_province.index,id_province.values, ax=ax)\n",
    "ax.set(xlabel= 'province', \n",
    "       ylabel = 'id_province', \n",
    "       title = \"id_province distribution\")\n",
    "plt.show()"
   ]
  },
  {
   "cell_type": "code",
   "execution_count": 52,
   "metadata": {},
   "outputs": [
    {
     "name": "stdout",
     "output_type": "stream",
     "text": [
      "(356,)\n"
     ]
    },
    {
     "data": {
      "image/png": "[encoded data removed]",
      "text/plain": [
       "<Figure size 1368x648 with 1 Axes>"
      ]
     },
     "metadata": {
      "needs_background": "light"
     },
     "output_type": "display_data"
    }
   ],
   "source": [
    "# 总共356个城市,前10的如下\n",
    "citys=user_info['id_city'].unique().shape\n",
    "print(citys)\n",
    "id_city = user_info['id_city'].value_counts().sort_values(ascending=False).head(10)\n",
    "fig, ax = plt.subplots(figsize=(19,9))\n",
    "sns.barplot( id_city.index,id_city.values, ax=ax)\n",
    "ax.set(xlabel= 'city', \n",
    "       ylabel = 'id_city', \n",
    "       title = \"id_city distribution\")\n",
    "plt.show()"
   ]
  },
  {
   "cell_type": "code",
   "execution_count": 38,
   "metadata": {},
   "outputs": [
    {
     "data": {
      "text/html": [
       "<div>\n",
       "<style scoped>\n",
       "    .dataframe tbody tr th:only-of-type {\n",
       "        vertical-align: middle;\n",
       "    }\n",
       "\n",
       "    .dataframe tbody tr th {\n",
       "        vertical-align: top;\n",
       "    }\n",
       "\n",
       "    .dataframe thead th {\n",
       "        text-align: right;\n",
       "    }\n",
       "</style>\n",
       "<table border=\"1\" class=\"dataframe\">\n",
       "  <thead>\n",
       "    <tr style=\"text-align: right;\">\n",
       "      <th></th>\n",
       "      <th>Total</th>\n",
       "      <th>Percent</th>\n",
       "    </tr>\n",
       "  </thead>\n",
       "  <tbody>\n",
       "    <tr>\n",
       "      <th>insertdate</th>\n",
       "      <td>0</td>\n",
       "      <td>0.0</td>\n",
       "    </tr>\n",
       "    <tr>\n",
       "      <th>id_city</th>\n",
       "      <td>0</td>\n",
       "      <td>0.0</td>\n",
       "    </tr>\n",
       "    <tr>\n",
       "      <th>id_province</th>\n",
       "      <td>0</td>\n",
       "      <td>0.0</td>\n",
       "    </tr>\n",
       "    <tr>\n",
       "      <th>cell_province</th>\n",
       "      <td>0</td>\n",
       "      <td>0.0</td>\n",
       "    </tr>\n",
       "    <tr>\n",
       "      <th>age</th>\n",
       "      <td>0</td>\n",
       "      <td>0.0</td>\n",
       "    </tr>\n",
       "  </tbody>\n",
       "</table>\n",
       "</div>"
      ],
      "text/plain": [
       "               Total  Percent\n",
       "insertdate         0      0.0\n",
       "id_city            0      0.0\n",
       "id_province        0      0.0\n",
       "cell_province      0      0.0\n",
       "age                0      0.0"
      ]
     },
     "execution_count": 38,
     "metadata": {},
     "output_type": "execute_result"
    }
   ],
   "source": [
    "# 检查缺省值\n",
    "total = user_info.isnull().sum().sort_values(ascending = False)\n",
    "percent = (user_info.isnull().sum()/user_info.isnull().count()*100).sort_values(ascending = False)\n",
    "missing_train_data  = pd.concat([total, percent], axis=1, keys=['Total', 'Percent'])\n",
    "missing_train_data.head()"
   ]
  },
  {
   "cell_type": "code",
   "execution_count": 55,
   "metadata": {},
   "outputs": [
    {
     "data": {
      "text/plain": [
       "(array(['男', '女'], dtype=object),\n",
       " array([19, 31, 34, 25, 23, 30, 53, 29, 22, 35, 20, 39, 38, 21, 24, 36, 32,\n",
       "        45, 28, 33, 27, 40, 26, 42, 46, 44, 37, 41, 51, 50, 52, 43, 47, 48,\n",
       "        49, 54, 56, 18, 55]))"
      ]
     },
     "execution_count": 55,
     "metadata": {},
     "output_type": "execute_result"
    }
   ],
   "source": [
    "# 性别年龄\n",
    "user_info['gender'].unique(),user_info['age'].unique()"
   ]
  },
  {
   "cell_type": "markdown",
   "metadata": {},
   "source": [
    "# 8.用户画像标签列表（user_taglist.csv）,和其他的数据集均不能够完全匹配,即存在用户画像数据的缺失"
   ]
  },
  {
   "cell_type": "code",
   "execution_count": 3,
   "metadata": {},
   "outputs": [],
   "source": [
    "# 用户画像只有60万,有的用户的画像找不到!!!\n",
    "user_taglist=pd.read_csv(\"../data/user_taglist.csv\")"
   ]
  },
  {
   "cell_type": "code",
   "execution_count": 17,
   "metadata": {},
   "outputs": [
    {
     "data": {
      "text/plain": [
       "(615160, 3)"
      ]
     },
     "execution_count": 17,
     "metadata": {},
     "output_type": "execute_result"
    }
   ],
   "source": [
    "user_taglist.shape"
   ]
  },
  {
   "cell_type": "code",
   "execution_count": 31,
   "metadata": {},
   "outputs": [
    {
     "data": {
      "text/html": [
       "<div>\n",
       "<style scoped>\n",
       "    .dataframe tbody tr th:only-of-type {\n",
       "        vertical-align: middle;\n",
       "    }\n",
       "\n",
       "    .dataframe tbody tr th {\n",
       "        vertical-align: top;\n",
       "    }\n",
       "\n",
       "    .dataframe thead th {\n",
       "        text-align: right;\n",
       "    }\n",
       "</style>\n",
       "<table border=\"1\" class=\"dataframe\">\n",
       "  <thead>\n",
       "    <tr style=\"text-align: right;\">\n",
       "      <th></th>\n",
       "      <th>user_id</th>\n",
       "      <th>taglist</th>\n",
       "      <th>insertdate</th>\n",
       "    </tr>\n",
       "  </thead>\n",
       "  <tbody>\n",
       "    <tr>\n",
       "      <th>0</th>\n",
       "      <td>113401</td>\n",
       "      <td>4707|473|3498|4759|1654|298|2869|1164|212|1885...</td>\n",
       "      <td>2018-10-03</td>\n",
       "    </tr>\n",
       "    <tr>\n",
       "      <th>1</th>\n",
       "      <td>378358</td>\n",
       "      <td>751|2207|1100|2099|1832|1911|5347|2254|171|360...</td>\n",
       "      <td>2018-11-30</td>\n",
       "    </tr>\n",
       "    <tr>\n",
       "      <th>2</th>\n",
       "      <td>434838</td>\n",
       "      <td>877|3795|5628|70|2684|691|719|4228|631|1541|12...</td>\n",
       "      <td>2018-03-25</td>\n",
       "    </tr>\n",
       "    <tr>\n",
       "      <th>3</th>\n",
       "      <td>577061</td>\n",
       "      <td>2431|3242|340|1823|4020|4357|164|620|2168|1192...</td>\n",
       "      <td>2018-05-25</td>\n",
       "    </tr>\n",
       "    <tr>\n",
       "      <th>4</th>\n",
       "      <td>566753</td>\n",
       "      <td>3980|3125|1819|1333|1177|3972|621|5800|3632|16...</td>\n",
       "      <td>2018-12-02</td>\n",
       "    </tr>\n",
       "    <tr>\n",
       "      <th>5</th>\n",
       "      <td>257271</td>\n",
       "      <td>3688|141|1059|1616|247|3527|2788|2431|2706|234...</td>\n",
       "      <td>2018-06-20</td>\n",
       "    </tr>\n",
       "    <tr>\n",
       "      <th>6</th>\n",
       "      <td>286758</td>\n",
       "      <td>4073|5474|1583|449|244|676|2306|3755|440|3688|...</td>\n",
       "      <td>2018-03-12</td>\n",
       "    </tr>\n",
       "    <tr>\n",
       "      <th>7</th>\n",
       "      <td>279566</td>\n",
       "      <td>2266|1330|3744|424|2018|1318|436|2410|956|2785...</td>\n",
       "      <td>2018-07-15</td>\n",
       "    </tr>\n",
       "    <tr>\n",
       "      <th>8</th>\n",
       "      <td>842520</td>\n",
       "      <td>2018|4288|3133|5733|2212|181|942|2072|3440|165...</td>\n",
       "      <td>2018-06-07</td>\n",
       "    </tr>\n",
       "    <tr>\n",
       "      <th>9</th>\n",
       "      <td>374058</td>\n",
       "      <td>440|4185|2264|4381|1137|1059|3760|2649|620|530...</td>\n",
       "      <td>2018-04-11</td>\n",
       "    </tr>\n",
       "  </tbody>\n",
       "</table>\n",
       "</div>"
      ],
      "text/plain": [
       "   user_id                                            taglist  insertdate\n",
       "0   113401  4707|473|3498|4759|1654|298|2869|1164|212|1885...  2018-10-03\n",
       "1   378358  751|2207|1100|2099|1832|1911|5347|2254|171|360...  2018-11-30\n",
       "2   434838  877|3795|5628|70|2684|691|719|4228|631|1541|12...  2018-03-25\n",
       "3   577061  2431|3242|340|1823|4020|4357|164|620|2168|1192...  2018-05-25\n",
       "4   566753  3980|3125|1819|1333|1177|3972|621|5800|3632|16...  2018-12-02\n",
       "5   257271  3688|141|1059|1616|247|3527|2788|2431|2706|234...  2018-06-20\n",
       "6   286758  4073|5474|1583|449|244|676|2306|3755|440|3688|...  2018-03-12\n",
       "7   279566  2266|1330|3744|424|2018|1318|436|2410|956|2785...  2018-07-15\n",
       "8   842520  2018|4288|3133|5733|2212|181|942|2072|3440|165...  2018-06-07\n",
       "9   374058  440|4185|2264|4381|1137|1059|3760|2649|620|530...  2018-04-11"
      ]
     },
     "execution_count": 31,
     "metadata": {},
     "output_type": "execute_result"
    }
   ],
   "source": [
    "user_taglist.head(10)"
   ]
  },
  {
   "cell_type": "code",
   "execution_count": 98,
   "metadata": {},
   "outputs": [
    {
     "name": "stdout",
     "output_type": "stream",
     "text": [
      "823732 130000 874841 928195\n",
      "352264 50214 372223 392815\n"
     ]
    }
   ],
   "source": [
    "# 判断train,test,log用户信息是否在user_info中\n",
    "train_user_id=set(train['user_id'].tolist())\n",
    "test_user_id=set(test['user_id'].tolist())\n",
    "log_user_id=set(user_repay_logs['user_id'].tolist())\n",
    "user_info_user_id=set(user_info['user_id'].tolist())\n",
    "user_taglist_user_id=set(user_taglist['user_id'].tolist())\n",
    "\n",
    "\n",
    "# 判断test中user使用全在tag中\n",
    "test_in_tag=test_user_id-user_taglist_user_id\n",
    "\n",
    "# 判断train中user使用全在tag中\n",
    "train_in_tag=train_user_id-user_taglist_user_id\n",
    "\n",
    "# 判断log中user使用全在tag中\n",
    "log_in_tag=log_user_id-user_taglist_user_id\n",
    "\n",
    "# 判断info中user使用全在tag中\n",
    "info_in_tag=user_info_user_id-user_taglist_user_id\n",
    "\n",
    "print(len(train_user_id),len(test_user_id),len(log_user_id),len(user_info_user_id))\n",
    "print(len(train_in_tag),len(test_in_tag),len(log_in_tag),len(info_in_tag))"
   ]
  },
  {
   "cell_type": "code",
   "execution_count": 4,
   "metadata": {},
   "outputs": [
    {
     "name": "stdout",
     "output_type": "stream",
     "text": [
      "5986 0 5985\n"
     ]
    }
   ],
   "source": [
    "# 用户画像有5000多个维度,使用聚类算法聚类,将缺省的统一算为0,tag取值范围为range(1,5986)\n",
    "user_taglist_detail=user_taglist['taglist'].tolist()\n",
    "temp=[]\n",
    "for s in user_taglist_detail:\n",
    "    temp+=s.split(\"|\")\n",
    "temp=set(temp)\n",
    "tags=[]\n",
    "for i in temp:\n",
    "    if(i==\"\\\\N\"):\n",
    "        tags.append(0)\n",
    "        continue\n",
    "    tags.append(int(i))\n",
    "tags.sort()\n",
    "print(len(tags),tags[0],tags[-1])"
   ]
  },
  {
   "cell_type": "code",
   "execution_count": 5,
   "metadata": {},
   "outputs": [],
   "source": [
    "# 聚类或者降维\n",
    "# 用户画像有5000多个维度,使用聚类算法聚类,将缺省的统一算为0,tag取值范围为range(1,5986)\n",
    "# 稀疏矩阵,以下运算非常占用内存,速度缓慢!\n",
    "# user_taglist_detail=user_taglist['taglist'].tolist()\n",
    "# user_tags=[]\n",
    "# for s in user_taglist_detail:\n",
    "#     tags=np.zeros(5986)\n",
    "#     temp=s.split(\"|\")\n",
    "#     index=[]\n",
    "#     for i in temp:\n",
    "#         if(i==\"\\\\N\"):\n",
    "#             break\n",
    "#         index.append(int(i))\n",
    "#     tags[index]=1\n",
    "#     user_tags.append(tags)\n",
    "# user_tags_df=pd.DataFrame(user_tags)\n",
    "# columns=[\"t_%d\"%i in range(5986)]\n",
    "# user_tags_df.columns=columns"
   ]
  },
  {
   "cell_type": "code",
   "execution_count": 36,
   "metadata": {},
   "outputs": [
    {
     "data": {
      "text/html": [
       "<div>\n",
       "<style scoped>\n",
       "    .dataframe tbody tr th:only-of-type {\n",
       "        vertical-align: middle;\n",
       "    }\n",
       "\n",
       "    .dataframe tbody tr th {\n",
       "        vertical-align: top;\n",
       "    }\n",
       "\n",
       "    .dataframe thead th {\n",
       "        text-align: right;\n",
       "    }\n",
       "</style>\n",
       "<table border=\"1\" class=\"dataframe\">\n",
       "  <thead>\n",
       "    <tr style=\"text-align: right;\">\n",
       "      <th></th>\n",
       "      <th>Total</th>\n",
       "      <th>Percent</th>\n",
       "    </tr>\n",
       "  </thead>\n",
       "  <tbody>\n",
       "    <tr>\n",
       "      <th>insertdate</th>\n",
       "      <td>0</td>\n",
       "      <td>0.0</td>\n",
       "    </tr>\n",
       "    <tr>\n",
       "      <th>taglist</th>\n",
       "      <td>0</td>\n",
       "      <td>0.0</td>\n",
       "    </tr>\n",
       "    <tr>\n",
       "      <th>user_id</th>\n",
       "      <td>0</td>\n",
       "      <td>0.0</td>\n",
       "    </tr>\n",
       "  </tbody>\n",
       "</table>\n",
       "</div>"
      ],
      "text/plain": [
       "            Total  Percent\n",
       "insertdate      0      0.0\n",
       "taglist         0      0.0\n",
       "user_id         0      0.0"
      ]
     },
     "execution_count": 36,
     "metadata": {},
     "output_type": "execute_result"
    }
   ],
   "source": [
    "# 检查缺省值\n",
    "total = user_taglist.isnull().sum().sort_values(ascending = False)\n",
    "percent = (user_taglist.isnull().sum()/user_taglist.isnull().count()*100).sort_values(ascending = False)\n",
    "missing_train_data  = pd.concat([total, percent], axis=1, keys=['Total', 'Percent'])\n",
    "missing_train_data.head()"
   ]
  }
 ],
 "metadata": {
  "kernelspec": {
   "display_name": "Tensorflow",
   "language": "python",
   "name": "tensorflow"
  },
  "language_info": {
   "codemirror_mode": {
    "name": "ipython",
    "version": 3
   },
   "file_extension": ".py",
   "mimetype": "text/x-python",
   "name": "python",
   "nbconvert_exporter": "python",
   "pygments_lexer": "ipython3",
   "version": "3.6.7"
  }
 },
 "nbformat": 4,
 "nbformat_minor": 2
}
