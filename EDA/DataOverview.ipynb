{
 "cells": [
  {
   "cell_type": "code",
   "execution_count": 59,
   "metadata": {},
   "outputs": [],
   "source": [
    "import pandas as pd # package for high-performance, easy-to-use data structures and data analysis\n",
    "import numpy as np # fundamental package for scientific computing with Python\n",
    "import matplotlib\n",
    "import matplotlib.pyplot as plt # for plotting\n",
    "import seaborn as sns # for making plots with seaborn\n",
    "color = sns.color_palette()\n",
    "\n",
    "from numpy import array\n",
    "from matplotlib import cm\n",
    "# Supress unnecessary warnings so that presentation looks clean\n",
    "import warnings\n",
    "warnings.filterwarnings(\"ignore\")\n",
    "\n",
    "# Print all rows and columns\n",
    "pd.set_option('display.max_columns', None)\n",
    "pd.set_option('display.max_rows', None)"
   ]
  },
  {
   "cell_type": "markdown",
   "metadata": {},
   "source": [
    "# 1. 表一"
   ]
  },
  {
   "cell_type": "code",
   "execution_count": 14,
   "metadata": {},
   "outputs": [],
   "source": [
    "listing_info=pd.read_csv(\"../data/listing_info.csv\")"
   ]
  },
  {
   "cell_type": "code",
   "execution_count": 15,
   "metadata": {},
   "outputs": [
    {
     "data": {
      "text/plain": [
       "(5484891, 6)"
      ]
     },
     "execution_count": 15,
     "metadata": {},
     "output_type": "execute_result"
    }
   ],
   "source": [
    "listing_info.shape"
   ]
  },
  {
   "cell_type": "code",
   "execution_count": 16,
   "metadata": {
    "scrolled": true
   },
   "outputs": [
    {
     "data": {
      "text/html": [
       "<div>\n",
       "<style scoped>\n",
       "    .dataframe tbody tr th:only-of-type {\n",
       "        vertical-align: middle;\n",
       "    }\n",
       "\n",
       "    .dataframe tbody tr th {\n",
       "        vertical-align: top;\n",
       "    }\n",
       "\n",
       "    .dataframe thead th {\n",
       "        text-align: right;\n",
       "    }\n",
       "</style>\n",
       "<table border=\"1\" class=\"dataframe\">\n",
       "  <thead>\n",
       "    <tr style=\"text-align: right;\">\n",
       "      <th></th>\n",
       "      <th>user_id</th>\n",
       "      <th>listing_id</th>\n",
       "      <th>auditing_date</th>\n",
       "      <th>term</th>\n",
       "      <th>rate</th>\n",
       "      <th>principal</th>\n",
       "    </tr>\n",
       "  </thead>\n",
       "  <tbody>\n",
       "    <tr>\n",
       "      <th>0</th>\n",
       "      <td>316610</td>\n",
       "      <td>1556649</td>\n",
       "      <td>2017-11-26</td>\n",
       "      <td>9</td>\n",
       "      <td>7.6</td>\n",
       "      <td>4800</td>\n",
       "    </tr>\n",
       "  </tbody>\n",
       "</table>\n",
       "</div>"
      ],
      "text/plain": [
       "   user_id  listing_id auditing_date  term  rate  principal\n",
       "0   316610     1556649    2017-11-26     9   7.6       4800"
      ]
     },
     "execution_count": 16,
     "metadata": {},
     "output_type": "execute_result"
    }
   ],
   "source": [
    "listing_info.head(1)"
   ]
  },
  {
   "cell_type": "code",
   "execution_count": 32,
   "metadata": {
    "scrolled": true
   },
   "outputs": [
    {
     "data": {
      "text/html": [
       "<div>\n",
       "<style scoped>\n",
       "    .dataframe tbody tr th:only-of-type {\n",
       "        vertical-align: middle;\n",
       "    }\n",
       "\n",
       "    .dataframe tbody tr th {\n",
       "        vertical-align: top;\n",
       "    }\n",
       "\n",
       "    .dataframe thead th {\n",
       "        text-align: right;\n",
       "    }\n",
       "</style>\n",
       "<table border=\"1\" class=\"dataframe\">\n",
       "  <thead>\n",
       "    <tr style=\"text-align: right;\">\n",
       "      <th></th>\n",
       "      <th>Total</th>\n",
       "      <th>Percent</th>\n",
       "    </tr>\n",
       "  </thead>\n",
       "  <tbody>\n",
       "    <tr>\n",
       "      <th>principal</th>\n",
       "      <td>0</td>\n",
       "      <td>0.0</td>\n",
       "    </tr>\n",
       "    <tr>\n",
       "      <th>rate</th>\n",
       "      <td>0</td>\n",
       "      <td>0.0</td>\n",
       "    </tr>\n",
       "    <tr>\n",
       "      <th>term</th>\n",
       "      <td>0</td>\n",
       "      <td>0.0</td>\n",
       "    </tr>\n",
       "    <tr>\n",
       "      <th>auditing_date</th>\n",
       "      <td>0</td>\n",
       "      <td>0.0</td>\n",
       "    </tr>\n",
       "    <tr>\n",
       "      <th>listing_id</th>\n",
       "      <td>0</td>\n",
       "      <td>0.0</td>\n",
       "    </tr>\n",
       "  </tbody>\n",
       "</table>\n",
       "</div>"
      ],
      "text/plain": [
       "               Total  Percent\n",
       "principal          0      0.0\n",
       "rate               0      0.0\n",
       "term               0      0.0\n",
       "auditing_date      0      0.0\n",
       "listing_id         0      0.0"
      ]
     },
     "execution_count": 32,
     "metadata": {},
     "output_type": "execute_result"
    }
   ],
   "source": [
    "# 检查缺省值\n",
    "total = listing_info.isnull().sum().sort_values(ascending = False)\n",
    "percent = (listing_info.isnull().sum()/listing_info.isnull().count()*100).sort_values(ascending = False)\n",
    "missing_train_data  = pd.concat([total, percent], axis=1, keys=['Total', 'Percent'])\n",
    "missing_train_data.head()"
   ]
  },
  {
   "cell_type": "code",
   "execution_count": 42,
   "metadata": {},
   "outputs": [
    {
     "data": {
      "text/plain": [
       "array([ 9,  6, 12,  3])"
      ]
     },
     "execution_count": 42,
     "metadata": {},
     "output_type": "execute_result"
    }
   ],
   "source": [
    "listing_info['term'].unique()"
   ]
  },
  {
   "cell_type": "code",
   "execution_count": 71,
   "metadata": {},
   "outputs": [
    {
     "data": {
      "text/plain": [
       "count    5.484891e+06\n",
       "mean     7.936558e+00\n",
       "std      7.410161e-01\n",
       "min      6.500000e+00\n",
       "25%      7.200000e+00\n",
       "50%      8.000000e+00\n",
       "75%      8.600000e+00\n",
       "max      9.300000e+00\n",
       "Name: rate, dtype: float64"
      ]
     },
     "execution_count": 71,
     "metadata": {},
     "output_type": "execute_result"
    }
   ],
   "source": [
    "listing_info['rate'].describe()"
   ]
  },
  {
   "cell_type": "code",
   "execution_count": 60,
   "metadata": {},
   "outputs": [
    {
     "data": {
      "text/plain": [
       "array([<matplotlib.axes._subplots.AxesSubplot object at 0x7f043b5120f0>],\n",
       "      dtype=object)"
      ]
     },
     "execution_count": 60,
     "metadata": {},
     "output_type": "execute_result"
    },
    {
     "data": {
      "image/png": "[encoded data removed]",
      "text/plain": [
       "<Figure size 432x288 with 1 Axes>"
      ]
     },
     "metadata": {},
     "output_type": "display_data"
    }
   ],
   "source": [
    "listing_info_term = listing_info['term'].value_counts()\n",
    "listing_info_term.plot(kind='pie',subplots=True)"
   ]
  },
  {
   "cell_type": "code",
   "execution_count": 43,
   "metadata": {},
   "outputs": [
    {
     "data": {
      "text/plain": [
       "array([ 4800,  4000,  8660, ..., 34830, 40420, 27690])"
      ]
     },
     "execution_count": 43,
     "metadata": {},
     "output_type": "execute_result"
    }
   ],
   "source": [
    "listing_info['principal'].unique()"
   ]
  },
  {
   "cell_type": "markdown",
   "metadata": {},
   "source": [
    "# 2.表二"
   ]
  },
  {
   "cell_type": "code",
   "execution_count": 5,
   "metadata": {},
   "outputs": [],
   "source": [
    "submission=pd.read_csv(\"../data/submission.csv\")"
   ]
  },
  {
   "cell_type": "code",
   "execution_count": 17,
   "metadata": {},
   "outputs": [
    {
     "data": {
      "text/plain": [
       "(3987078, 3)"
      ]
     },
     "execution_count": 17,
     "metadata": {},
     "output_type": "execute_result"
    }
   ],
   "source": [
    "submission.shape"
   ]
  },
  {
   "cell_type": "code",
   "execution_count": 53,
   "metadata": {},
   "outputs": [
    {
     "data": {
      "text/html": [
       "<div>\n",
       "<style scoped>\n",
       "    .dataframe tbody tr th:only-of-type {\n",
       "        vertical-align: middle;\n",
       "    }\n",
       "\n",
       "    .dataframe tbody tr th {\n",
       "        vertical-align: top;\n",
       "    }\n",
       "\n",
       "    .dataframe thead th {\n",
       "        text-align: right;\n",
       "    }\n",
       "</style>\n",
       "<table border=\"1\" class=\"dataframe\">\n",
       "  <thead>\n",
       "    <tr style=\"text-align: right;\">\n",
       "      <th></th>\n",
       "      <th>listing_id</th>\n",
       "      <th>repay_amt</th>\n",
       "      <th>repay_date</th>\n",
       "    </tr>\n",
       "  </thead>\n",
       "  <tbody>\n",
       "    <tr>\n",
       "      <th>0</th>\n",
       "      <td>5431438</td>\n",
       "      <td>4.3309</td>\n",
       "      <td>2019-03-12</td>\n",
       "    </tr>\n",
       "    <tr>\n",
       "      <th>1</th>\n",
       "      <td>5431438</td>\n",
       "      <td>4.3309</td>\n",
       "      <td>2019-03-13</td>\n",
       "    </tr>\n",
       "    <tr>\n",
       "      <th>2</th>\n",
       "      <td>5431438</td>\n",
       "      <td>4.3309</td>\n",
       "      <td>2019-03-14</td>\n",
       "    </tr>\n",
       "    <tr>\n",
       "      <th>3</th>\n",
       "      <td>5431438</td>\n",
       "      <td>4.3309</td>\n",
       "      <td>2019-03-15</td>\n",
       "    </tr>\n",
       "    <tr>\n",
       "      <th>4</th>\n",
       "      <td>5431438</td>\n",
       "      <td>4.3309</td>\n",
       "      <td>2019-03-16</td>\n",
       "    </tr>\n",
       "  </tbody>\n",
       "</table>\n",
       "</div>"
      ],
      "text/plain": [
       "   listing_id  repay_amt  repay_date\n",
       "0     5431438     4.3309  2019-03-12\n",
       "1     5431438     4.3309  2019-03-13\n",
       "2     5431438     4.3309  2019-03-14\n",
       "3     5431438     4.3309  2019-03-15\n",
       "4     5431438     4.3309  2019-03-16"
      ]
     },
     "execution_count": 53,
     "metadata": {},
     "output_type": "execute_result"
    }
   ],
   "source": [
    "submission.head(5)"
   ]
  },
  {
   "cell_type": "code",
   "execution_count": 33,
   "metadata": {},
   "outputs": [
    {
     "data": {
      "text/html": [
       "<div>\n",
       "<style scoped>\n",
       "    .dataframe tbody tr th:only-of-type {\n",
       "        vertical-align: middle;\n",
       "    }\n",
       "\n",
       "    .dataframe tbody tr th {\n",
       "        vertical-align: top;\n",
       "    }\n",
       "\n",
       "    .dataframe thead th {\n",
       "        text-align: right;\n",
       "    }\n",
       "</style>\n",
       "<table border=\"1\" class=\"dataframe\">\n",
       "  <thead>\n",
       "    <tr style=\"text-align: right;\">\n",
       "      <th></th>\n",
       "      <th>Total</th>\n",
       "      <th>Percent</th>\n",
       "    </tr>\n",
       "  </thead>\n",
       "  <tbody>\n",
       "    <tr>\n",
       "      <th>repay_date</th>\n",
       "      <td>0</td>\n",
       "      <td>0.0</td>\n",
       "    </tr>\n",
       "    <tr>\n",
       "      <th>repay_amt</th>\n",
       "      <td>0</td>\n",
       "      <td>0.0</td>\n",
       "    </tr>\n",
       "    <tr>\n",
       "      <th>listing_id</th>\n",
       "      <td>0</td>\n",
       "      <td>0.0</td>\n",
       "    </tr>\n",
       "  </tbody>\n",
       "</table>\n",
       "</div>"
      ],
      "text/plain": [
       "            Total  Percent\n",
       "repay_date      0      0.0\n",
       "repay_amt       0      0.0\n",
       "listing_id      0      0.0"
      ]
     },
     "execution_count": 33,
     "metadata": {},
     "output_type": "execute_result"
    }
   ],
   "source": [
    "# 检查缺省值\n",
    "total = submission.isnull().sum().sort_values(ascending = False)\n",
    "percent = (submission.isnull().sum()/submission.isnull().count()*100).sort_values(ascending = False)\n",
    "missing_train_data  = pd.concat([total, percent], axis=1, keys=['Total', 'Percent'])\n",
    "missing_train_data.head()"
   ]
  },
  {
   "cell_type": "markdown",
   "metadata": {},
   "source": [
    "# 3.表三"
   ]
  },
  {
   "cell_type": "code",
   "execution_count": 7,
   "metadata": {},
   "outputs": [],
   "source": [
    "test=pd.read_csv(\"../data/test.csv\")"
   ]
  },
  {
   "cell_type": "code",
   "execution_count": 19,
   "metadata": {},
   "outputs": [
    {
     "data": {
      "text/plain": [
       "(130000, 5)"
      ]
     },
     "execution_count": 19,
     "metadata": {},
     "output_type": "execute_result"
    }
   ],
   "source": [
    "test.shape"
   ]
  },
  {
   "cell_type": "code",
   "execution_count": 21,
   "metadata": {},
   "outputs": [
    {
     "data": {
      "text/html": [
       "<div>\n",
       "<style scoped>\n",
       "    .dataframe tbody tr th:only-of-type {\n",
       "        vertical-align: middle;\n",
       "    }\n",
       "\n",
       "    .dataframe tbody tr th {\n",
       "        vertical-align: top;\n",
       "    }\n",
       "\n",
       "    .dataframe thead th {\n",
       "        text-align: right;\n",
       "    }\n",
       "</style>\n",
       "<table border=\"1\" class=\"dataframe\">\n",
       "  <thead>\n",
       "    <tr style=\"text-align: right;\">\n",
       "      <th></th>\n",
       "      <th>user_id</th>\n",
       "      <th>listing_id</th>\n",
       "      <th>auditing_date</th>\n",
       "      <th>due_date</th>\n",
       "      <th>due_amt</th>\n",
       "    </tr>\n",
       "  </thead>\n",
       "  <tbody>\n",
       "    <tr>\n",
       "      <th>0</th>\n",
       "      <td>498765</td>\n",
       "      <td>5431438</td>\n",
       "      <td>2019-03-12</td>\n",
       "      <td>2019-04-12</td>\n",
       "      <td>138.5903</td>\n",
       "    </tr>\n",
       "    <tr>\n",
       "      <th>1</th>\n",
       "      <td>34524</td>\n",
       "      <td>5443211</td>\n",
       "      <td>2019-03-15</td>\n",
       "      <td>2019-04-15</td>\n",
       "      <td>208.0805</td>\n",
       "    </tr>\n",
       "    <tr>\n",
       "      <th>2</th>\n",
       "      <td>821741</td>\n",
       "      <td>5461707</td>\n",
       "      <td>2019-03-22</td>\n",
       "      <td>2019-04-22</td>\n",
       "      <td>421.2097</td>\n",
       "    </tr>\n",
       "    <tr>\n",
       "      <th>3</th>\n",
       "      <td>263534</td>\n",
       "      <td>5472320</td>\n",
       "      <td>2019-03-26</td>\n",
       "      <td>2019-04-26</td>\n",
       "      <td>212.6537</td>\n",
       "    </tr>\n",
       "    <tr>\n",
       "      <th>4</th>\n",
       "      <td>238853</td>\n",
       "      <td>5459750</td>\n",
       "      <td>2019-03-21</td>\n",
       "      <td>2019-04-21</td>\n",
       "      <td>817.4593</td>\n",
       "    </tr>\n",
       "  </tbody>\n",
       "</table>\n",
       "</div>"
      ],
      "text/plain": [
       "   user_id  listing_id auditing_date    due_date   due_amt\n",
       "0   498765     5431438    2019-03-12  2019-04-12  138.5903\n",
       "1    34524     5443211    2019-03-15  2019-04-15  208.0805\n",
       "2   821741     5461707    2019-03-22  2019-04-22  421.2097\n",
       "3   263534     5472320    2019-03-26  2019-04-26  212.6537\n",
       "4   238853     5459750    2019-03-21  2019-04-21  817.4593"
      ]
     },
     "execution_count": 21,
     "metadata": {},
     "output_type": "execute_result"
    }
   ],
   "source": [
    "test.head(5)"
   ]
  },
  {
   "cell_type": "code",
   "execution_count": 54,
   "metadata": {},
   "outputs": [
    {
     "data": {
      "text/plain": [
       "count    130000.000000\n",
       "mean        425.554718\n",
       "std         490.551979\n",
       "min          54.569900\n",
       "25%         147.667600\n",
       "50%         270.962000\n",
       "75%         500.765200\n",
       "max       15018.086300\n",
       "Name: due_amt, dtype: float64"
      ]
     },
     "execution_count": 54,
     "metadata": {},
     "output_type": "execute_result"
    }
   ],
   "source": [
    "test['due_amt'].describe()"
   ]
  },
  {
   "cell_type": "code",
   "execution_count": 34,
   "metadata": {},
   "outputs": [
    {
     "data": {
      "text/html": [
       "<div>\n",
       "<style scoped>\n",
       "    .dataframe tbody tr th:only-of-type {\n",
       "        vertical-align: middle;\n",
       "    }\n",
       "\n",
       "    .dataframe tbody tr th {\n",
       "        vertical-align: top;\n",
       "    }\n",
       "\n",
       "    .dataframe thead th {\n",
       "        text-align: right;\n",
       "    }\n",
       "</style>\n",
       "<table border=\"1\" class=\"dataframe\">\n",
       "  <thead>\n",
       "    <tr style=\"text-align: right;\">\n",
       "      <th></th>\n",
       "      <th>Total</th>\n",
       "      <th>Percent</th>\n",
       "    </tr>\n",
       "  </thead>\n",
       "  <tbody>\n",
       "    <tr>\n",
       "      <th>due_amt</th>\n",
       "      <td>0</td>\n",
       "      <td>0.0</td>\n",
       "    </tr>\n",
       "    <tr>\n",
       "      <th>due_date</th>\n",
       "      <td>0</td>\n",
       "      <td>0.0</td>\n",
       "    </tr>\n",
       "    <tr>\n",
       "      <th>auditing_date</th>\n",
       "      <td>0</td>\n",
       "      <td>0.0</td>\n",
       "    </tr>\n",
       "    <tr>\n",
       "      <th>listing_id</th>\n",
       "      <td>0</td>\n",
       "      <td>0.0</td>\n",
       "    </tr>\n",
       "    <tr>\n",
       "      <th>user_id</th>\n",
       "      <td>0</td>\n",
       "      <td>0.0</td>\n",
       "    </tr>\n",
       "  </tbody>\n",
       "</table>\n",
       "</div>"
      ],
      "text/plain": [
       "               Total  Percent\n",
       "due_amt            0      0.0\n",
       "due_date           0      0.0\n",
       "auditing_date      0      0.0\n",
       "listing_id         0      0.0\n",
       "user_id            0      0.0"
      ]
     },
     "execution_count": 34,
     "metadata": {},
     "output_type": "execute_result"
    }
   ],
   "source": [
    "# 检查缺省值\n",
    "total = test.isnull().sum().sort_values(ascending = False)\n",
    "percent = (test.isnull().sum()/test.isnull().count()*100).sort_values(ascending = False)\n",
    "missing_train_data  = pd.concat([total, percent], axis=1, keys=['Total', 'Percent'])\n",
    "missing_train_data.head()"
   ]
  },
  {
   "cell_type": "markdown",
   "metadata": {},
   "source": [
    "# 4.表四"
   ]
  },
  {
   "cell_type": "code",
   "execution_count": 8,
   "metadata": {},
   "outputs": [],
   "source": [
    "train=pd.read_csv(\"../data/train.csv\")"
   ]
  },
  {
   "cell_type": "code",
   "execution_count": 22,
   "metadata": {},
   "outputs": [
    {
     "data": {
      "text/plain": [
       "(1000000, 7)"
      ]
     },
     "execution_count": 22,
     "metadata": {},
     "output_type": "execute_result"
    }
   ],
   "source": [
    "train.shape"
   ]
  },
  {
   "cell_type": "code",
   "execution_count": 23,
   "metadata": {},
   "outputs": [
    {
     "data": {
      "text/html": [
       "<div>\n",
       "<style scoped>\n",
       "    .dataframe tbody tr th:only-of-type {\n",
       "        vertical-align: middle;\n",
       "    }\n",
       "\n",
       "    .dataframe tbody tr th {\n",
       "        vertical-align: top;\n",
       "    }\n",
       "\n",
       "    .dataframe thead th {\n",
       "        text-align: right;\n",
       "    }\n",
       "</style>\n",
       "<table border=\"1\" class=\"dataframe\">\n",
       "  <thead>\n",
       "    <tr style=\"text-align: right;\">\n",
       "      <th></th>\n",
       "      <th>user_id</th>\n",
       "      <th>listing_id</th>\n",
       "      <th>auditing_date</th>\n",
       "      <th>due_date</th>\n",
       "      <th>due_amt</th>\n",
       "      <th>repay_date</th>\n",
       "      <th>repay_amt</th>\n",
       "    </tr>\n",
       "  </thead>\n",
       "  <tbody>\n",
       "    <tr>\n",
       "      <th>0</th>\n",
       "      <td>748147</td>\n",
       "      <td>3163926</td>\n",
       "      <td>2018-04-25</td>\n",
       "      <td>2018-05-25</td>\n",
       "      <td>72.1167</td>\n",
       "      <td>2018-05-25</td>\n",
       "      <td>72.1167</td>\n",
       "    </tr>\n",
       "    <tr>\n",
       "      <th>1</th>\n",
       "      <td>672952</td>\n",
       "      <td>3698760</td>\n",
       "      <td>2018-06-09</td>\n",
       "      <td>2018-07-09</td>\n",
       "      <td>258.7045</td>\n",
       "      <td>2018-07-08</td>\n",
       "      <td>258.7045</td>\n",
       "    </tr>\n",
       "    <tr>\n",
       "      <th>2</th>\n",
       "      <td>404196</td>\n",
       "      <td>2355665</td>\n",
       "      <td>2018-02-18</td>\n",
       "      <td>2018-03-18</td>\n",
       "      <td>307.9270</td>\n",
       "      <td>\\N</td>\n",
       "      <td>\\N</td>\n",
       "    </tr>\n",
       "    <tr>\n",
       "      <th>3</th>\n",
       "      <td>342769</td>\n",
       "      <td>1994522</td>\n",
       "      <td>2018-01-13</td>\n",
       "      <td>2018-02-13</td>\n",
       "      <td>252.9809</td>\n",
       "      <td>2018-02-13</td>\n",
       "      <td>252.9809</td>\n",
       "    </tr>\n",
       "    <tr>\n",
       "      <th>4</th>\n",
       "      <td>828139</td>\n",
       "      <td>3602352</td>\n",
       "      <td>2018-06-01</td>\n",
       "      <td>2018-07-01</td>\n",
       "      <td>107.6503</td>\n",
       "      <td>2018-06-25</td>\n",
       "      <td>107.6503</td>\n",
       "    </tr>\n",
       "  </tbody>\n",
       "</table>\n",
       "</div>"
      ],
      "text/plain": [
       "   user_id  listing_id auditing_date    due_date   due_amt  repay_date  \\\n",
       "0   748147     3163926    2018-04-25  2018-05-25   72.1167  2018-05-25   \n",
       "1   672952     3698760    2018-06-09  2018-07-09  258.7045  2018-07-08   \n",
       "2   404196     2355665    2018-02-18  2018-03-18  307.9270          \\N   \n",
       "3   342769     1994522    2018-01-13  2018-02-13  252.9809  2018-02-13   \n",
       "4   828139     3602352    2018-06-01  2018-07-01  107.6503  2018-06-25   \n",
       "\n",
       "  repay_amt  \n",
       "0   72.1167  \n",
       "1  258.7045  \n",
       "2        \\N  \n",
       "3  252.9809  \n",
       "4  107.6503  "
      ]
     },
     "execution_count": 23,
     "metadata": {},
     "output_type": "execute_result"
    }
   ],
   "source": [
    "train.head(5)"
   ]
  },
  {
   "cell_type": "code",
   "execution_count": 55,
   "metadata": {},
   "outputs": [
    {
     "data": {
      "text/plain": [
       "count    1000000.000000\n",
       "mean         452.026625\n",
       "std          514.202155\n",
       "min           17.453300\n",
       "25%          160.482400\n",
       "50%          286.740100\n",
       "75%          546.026800\n",
       "max        18827.018400\n",
       "Name: due_amt, dtype: float64"
      ]
     },
     "execution_count": 55,
     "metadata": {},
     "output_type": "execute_result"
    }
   ],
   "source": [
    "train['due_amt'].describe()"
   ]
  },
  {
   "cell_type": "code",
   "execution_count": 35,
   "metadata": {},
   "outputs": [
    {
     "data": {
      "text/html": [
       "<div>\n",
       "<style scoped>\n",
       "    .dataframe tbody tr th:only-of-type {\n",
       "        vertical-align: middle;\n",
       "    }\n",
       "\n",
       "    .dataframe tbody tr th {\n",
       "        vertical-align: top;\n",
       "    }\n",
       "\n",
       "    .dataframe thead th {\n",
       "        text-align: right;\n",
       "    }\n",
       "</style>\n",
       "<table border=\"1\" class=\"dataframe\">\n",
       "  <thead>\n",
       "    <tr style=\"text-align: right;\">\n",
       "      <th></th>\n",
       "      <th>Total</th>\n",
       "      <th>Percent</th>\n",
       "    </tr>\n",
       "  </thead>\n",
       "  <tbody>\n",
       "    <tr>\n",
       "      <th>repay_amt</th>\n",
       "      <td>0</td>\n",
       "      <td>0.0</td>\n",
       "    </tr>\n",
       "    <tr>\n",
       "      <th>repay_date</th>\n",
       "      <td>0</td>\n",
       "      <td>0.0</td>\n",
       "    </tr>\n",
       "    <tr>\n",
       "      <th>due_amt</th>\n",
       "      <td>0</td>\n",
       "      <td>0.0</td>\n",
       "    </tr>\n",
       "    <tr>\n",
       "      <th>due_date</th>\n",
       "      <td>0</td>\n",
       "      <td>0.0</td>\n",
       "    </tr>\n",
       "    <tr>\n",
       "      <th>auditing_date</th>\n",
       "      <td>0</td>\n",
       "      <td>0.0</td>\n",
       "    </tr>\n",
       "  </tbody>\n",
       "</table>\n",
       "</div>"
      ],
      "text/plain": [
       "               Total  Percent\n",
       "repay_amt          0      0.0\n",
       "repay_date         0      0.0\n",
       "due_amt            0      0.0\n",
       "due_date           0      0.0\n",
       "auditing_date      0      0.0"
      ]
     },
     "execution_count": 35,
     "metadata": {},
     "output_type": "execute_result"
    }
   ],
   "source": [
    "# 检查缺省值\n",
    "total = train.isnull().sum().sort_values(ascending = False)\n",
    "percent = (train.isnull().sum()/train.isnull().count()*100).sort_values(ascending = False)\n",
    "missing_train_data  = pd.concat([total, percent], axis=1, keys=['Total', 'Percent'])\n",
    "missing_train_data.head()"
   ]
  },
  {
   "cell_type": "markdown",
   "metadata": {},
   "source": [
    "# 5.表五"
   ]
  },
  {
   "cell_type": "code",
   "execution_count": 9,
   "metadata": {},
   "outputs": [],
   "source": [
    "user_behavior_logs=pd.read_csv(\"../data/user_behavior_logs.csv\")"
   ]
  },
  {
   "cell_type": "code",
   "execution_count": 24,
   "metadata": {},
   "outputs": [
    {
     "data": {
      "text/plain": [
       "(55781271, 3)"
      ]
     },
     "execution_count": 24,
     "metadata": {},
     "output_type": "execute_result"
    }
   ],
   "source": [
    "user_behavior_logs.shape"
   ]
  },
  {
   "cell_type": "code",
   "execution_count": 25,
   "metadata": {
    "scrolled": true
   },
   "outputs": [
    {
     "data": {
      "text/html": [
       "<div>\n",
       "<style scoped>\n",
       "    .dataframe tbody tr th:only-of-type {\n",
       "        vertical-align: middle;\n",
       "    }\n",
       "\n",
       "    .dataframe tbody tr th {\n",
       "        vertical-align: top;\n",
       "    }\n",
       "\n",
       "    .dataframe thead th {\n",
       "        text-align: right;\n",
       "    }\n",
       "</style>\n",
       "<table border=\"1\" class=\"dataframe\">\n",
       "  <thead>\n",
       "    <tr style=\"text-align: right;\">\n",
       "      <th></th>\n",
       "      <th>user_id</th>\n",
       "      <th>behavior_time</th>\n",
       "      <th>behavior_type</th>\n",
       "    </tr>\n",
       "  </thead>\n",
       "  <tbody>\n",
       "    <tr>\n",
       "      <th>0</th>\n",
       "      <td>842439</td>\n",
       "      <td>2018-09-13 23:17:21</td>\n",
       "      <td>3</td>\n",
       "    </tr>\n",
       "    <tr>\n",
       "      <th>1</th>\n",
       "      <td>842439</td>\n",
       "      <td>2018-09-13 23:17:21</td>\n",
       "      <td>3</td>\n",
       "    </tr>\n",
       "    <tr>\n",
       "      <th>2</th>\n",
       "      <td>905214</td>\n",
       "      <td>2018-09-13 15:19:30</td>\n",
       "      <td>3</td>\n",
       "    </tr>\n",
       "    <tr>\n",
       "      <th>3</th>\n",
       "      <td>905214</td>\n",
       "      <td>2018-09-13 15:19:30</td>\n",
       "      <td>3</td>\n",
       "    </tr>\n",
       "    <tr>\n",
       "      <th>4</th>\n",
       "      <td>842439</td>\n",
       "      <td>2018-09-13 23:17:21</td>\n",
       "      <td>3</td>\n",
       "    </tr>\n",
       "  </tbody>\n",
       "</table>\n",
       "</div>"
      ],
      "text/plain": [
       "   user_id        behavior_time  behavior_type\n",
       "0   842439  2018-09-13 23:17:21              3\n",
       "1   842439  2018-09-13 23:17:21              3\n",
       "2   905214  2018-09-13 15:19:30              3\n",
       "3   905214  2018-09-13 15:19:30              3\n",
       "4   842439  2018-09-13 23:17:21              3"
      ]
     },
     "execution_count": 25,
     "metadata": {},
     "output_type": "execute_result"
    }
   ],
   "source": [
    "user_behavior_logs.head(5)"
   ]
  },
  {
   "cell_type": "code",
   "execution_count": 69,
   "metadata": {},
   "outputs": [
    {
     "data": {
      "text/plain": [
       "array([<matplotlib.axes._subplots.AxesSubplot object at 0x7f04166a5a90>],\n",
       "      dtype=object)"
      ]
     },
     "execution_count": 69,
     "metadata": {},
     "output_type": "execute_result"
    },
    {
     "data": {
      "image/png": "[encoded data removed]",
      "text/plain": [
       "<Figure size 432x288 with 1 Axes>"
      ]
     },
     "metadata": {},
     "output_type": "display_data"
    }
   ],
   "source": [
    "behavior_type = user_behavior_logs['behavior_type'].value_counts()\n",
    "behavior_type.plot(kind='pie',subplots=True)"
   ]
  },
  {
   "cell_type": "code",
   "execution_count": 39,
   "metadata": {},
   "outputs": [
    {
     "data": {
      "text/html": [
       "<div>\n",
       "<style scoped>\n",
       "    .dataframe tbody tr th:only-of-type {\n",
       "        vertical-align: middle;\n",
       "    }\n",
       "\n",
       "    .dataframe tbody tr th {\n",
       "        vertical-align: top;\n",
       "    }\n",
       "\n",
       "    .dataframe thead th {\n",
       "        text-align: right;\n",
       "    }\n",
       "</style>\n",
       "<table border=\"1\" class=\"dataframe\">\n",
       "  <thead>\n",
       "    <tr style=\"text-align: right;\">\n",
       "      <th></th>\n",
       "      <th>Total</th>\n",
       "      <th>Percent</th>\n",
       "    </tr>\n",
       "  </thead>\n",
       "  <tbody>\n",
       "    <tr>\n",
       "      <th>behavior_type</th>\n",
       "      <td>0</td>\n",
       "      <td>0.0</td>\n",
       "    </tr>\n",
       "    <tr>\n",
       "      <th>behavior_time</th>\n",
       "      <td>0</td>\n",
       "      <td>0.0</td>\n",
       "    </tr>\n",
       "    <tr>\n",
       "      <th>user_id</th>\n",
       "      <td>0</td>\n",
       "      <td>0.0</td>\n",
       "    </tr>\n",
       "  </tbody>\n",
       "</table>\n",
       "</div>"
      ],
      "text/plain": [
       "               Total  Percent\n",
       "behavior_type      0      0.0\n",
       "behavior_time      0      0.0\n",
       "user_id            0      0.0"
      ]
     },
     "execution_count": 39,
     "metadata": {},
     "output_type": "execute_result"
    }
   ],
   "source": [
    "# 检查缺省值\n",
    "total = user_behavior_logs.isnull().sum().sort_values(ascending = False)\n",
    "percent = (user_behavior_logs.isnull().sum()/user_behavior_logs.isnull().count()*100).sort_values(ascending = False)\n",
    "missing_train_data  = pd.concat([total, percent], axis=1, keys=['Total', 'Percent'])\n",
    "missing_train_data.head()"
   ]
  },
  {
   "cell_type": "code",
   "execution_count": 44,
   "metadata": {},
   "outputs": [
    {
     "data": {
      "text/plain": [
       "array([3, 2, 1])"
      ]
     },
     "execution_count": 44,
     "metadata": {},
     "output_type": "execute_result"
    }
   ],
   "source": [
    "# 取值检查\n",
    "user_behavior_logs['behavior_type'].unique()"
   ]
  },
  {
   "cell_type": "markdown",
   "metadata": {},
   "source": [
    "# 6. 表六"
   ]
  },
  {
   "cell_type": "code",
   "execution_count": 10,
   "metadata": {},
   "outputs": [],
   "source": [
    "user_info=pd.read_csv(\"../data/user_info.csv\")"
   ]
  },
  {
   "cell_type": "code",
   "execution_count": 26,
   "metadata": {},
   "outputs": [
    {
     "data": {
      "text/plain": [
       "(954209, 8)"
      ]
     },
     "execution_count": 26,
     "metadata": {},
     "output_type": "execute_result"
    }
   ],
   "source": [
    "user_info.shape"
   ]
  },
  {
   "cell_type": "code",
   "execution_count": 27,
   "metadata": {},
   "outputs": [
    {
     "data": {
      "text/html": [
       "<div>\n",
       "<style scoped>\n",
       "    .dataframe tbody tr th:only-of-type {\n",
       "        vertical-align: middle;\n",
       "    }\n",
       "\n",
       "    .dataframe tbody tr th {\n",
       "        vertical-align: top;\n",
       "    }\n",
       "\n",
       "    .dataframe thead th {\n",
       "        text-align: right;\n",
       "    }\n",
       "</style>\n",
       "<table border=\"1\" class=\"dataframe\">\n",
       "  <thead>\n",
       "    <tr style=\"text-align: right;\">\n",
       "      <th></th>\n",
       "      <th>user_id</th>\n",
       "      <th>reg_mon</th>\n",
       "      <th>gender</th>\n",
       "      <th>age</th>\n",
       "      <th>cell_province</th>\n",
       "      <th>id_province</th>\n",
       "      <th>id_city</th>\n",
       "      <th>insertdate</th>\n",
       "    </tr>\n",
       "  </thead>\n",
       "  <tbody>\n",
       "    <tr>\n",
       "      <th>0</th>\n",
       "      <td>483833</td>\n",
       "      <td>2017-04</td>\n",
       "      <td>男</td>\n",
       "      <td>19</td>\n",
       "      <td>c29</td>\n",
       "      <td>c26</td>\n",
       "      <td>c26241</td>\n",
       "      <td>2018-12-11</td>\n",
       "    </tr>\n",
       "    <tr>\n",
       "      <th>1</th>\n",
       "      <td>156772</td>\n",
       "      <td>2016-05</td>\n",
       "      <td>男</td>\n",
       "      <td>31</td>\n",
       "      <td>c11</td>\n",
       "      <td>c11</td>\n",
       "      <td>c11159</td>\n",
       "      <td>2018-02-13</td>\n",
       "    </tr>\n",
       "    <tr>\n",
       "      <th>2</th>\n",
       "      <td>173388</td>\n",
       "      <td>2016-05</td>\n",
       "      <td>男</td>\n",
       "      <td>34</td>\n",
       "      <td>c02</td>\n",
       "      <td>c02</td>\n",
       "      <td>c02182</td>\n",
       "      <td>2018-08-21</td>\n",
       "    </tr>\n",
       "    <tr>\n",
       "      <th>3</th>\n",
       "      <td>199107</td>\n",
       "      <td>2016-07</td>\n",
       "      <td>女</td>\n",
       "      <td>25</td>\n",
       "      <td>c09</td>\n",
       "      <td>c09</td>\n",
       "      <td>c09046</td>\n",
       "      <td>2018-06-05</td>\n",
       "    </tr>\n",
       "    <tr>\n",
       "      <th>4</th>\n",
       "      <td>122560</td>\n",
       "      <td>2016-03</td>\n",
       "      <td>男</td>\n",
       "      <td>23</td>\n",
       "      <td>c05</td>\n",
       "      <td>c05</td>\n",
       "      <td>c05193</td>\n",
       "      <td>2018-04-02</td>\n",
       "    </tr>\n",
       "    <tr>\n",
       "      <th>5</th>\n",
       "      <td>550399</td>\n",
       "      <td>2017-06</td>\n",
       "      <td>男</td>\n",
       "      <td>30</td>\n",
       "      <td>c08</td>\n",
       "      <td>c07</td>\n",
       "      <td>c07282</td>\n",
       "      <td>2018-04-19</td>\n",
       "    </tr>\n",
       "    <tr>\n",
       "      <th>6</th>\n",
       "      <td>414650</td>\n",
       "      <td>2017-02</td>\n",
       "      <td>男</td>\n",
       "      <td>53</td>\n",
       "      <td>c12</td>\n",
       "      <td>c12</td>\n",
       "      <td>\\N</td>\n",
       "      <td>2018-10-16</td>\n",
       "    </tr>\n",
       "    <tr>\n",
       "      <th>7</th>\n",
       "      <td>275042</td>\n",
       "      <td>2016-10</td>\n",
       "      <td>女</td>\n",
       "      <td>23</td>\n",
       "      <td>c21</td>\n",
       "      <td>c21</td>\n",
       "      <td>c21174</td>\n",
       "      <td>2018-07-10</td>\n",
       "    </tr>\n",
       "    <tr>\n",
       "      <th>8</th>\n",
       "      <td>184180</td>\n",
       "      <td>2016-06</td>\n",
       "      <td>男</td>\n",
       "      <td>29</td>\n",
       "      <td>c04</td>\n",
       "      <td>c04</td>\n",
       "      <td>c04348</td>\n",
       "      <td>2018-02-08</td>\n",
       "    </tr>\n",
       "    <tr>\n",
       "      <th>9</th>\n",
       "      <td>817503</td>\n",
       "      <td>2018-03</td>\n",
       "      <td>男</td>\n",
       "      <td>25</td>\n",
       "      <td>c06</td>\n",
       "      <td>c25</td>\n",
       "      <td>c25199</td>\n",
       "      <td>2018-11-27</td>\n",
       "    </tr>\n",
       "  </tbody>\n",
       "</table>\n",
       "</div>"
      ],
      "text/plain": [
       "   user_id  reg_mon gender  age cell_province id_province id_city  insertdate\n",
       "0   483833  2017-04      男   19           c29         c26  c26241  2018-12-11\n",
       "1   156772  2016-05      男   31           c11         c11  c11159  2018-02-13\n",
       "2   173388  2016-05      男   34           c02         c02  c02182  2018-08-21\n",
       "3   199107  2016-07      女   25           c09         c09  c09046  2018-06-05\n",
       "4   122560  2016-03      男   23           c05         c05  c05193  2018-04-02\n",
       "5   550399  2017-06      男   30           c08         c07  c07282  2018-04-19\n",
       "6   414650  2017-02      男   53           c12         c12      \\N  2018-10-16\n",
       "7   275042  2016-10      女   23           c21         c21  c21174  2018-07-10\n",
       "8   184180  2016-06      男   29           c04         c04  c04348  2018-02-08\n",
       "9   817503  2018-03      男   25           c06         c25  c25199  2018-11-27"
      ]
     },
     "execution_count": 27,
     "metadata": {},
     "output_type": "execute_result"
    }
   ],
   "source": [
    "user_info.head(10)"
   ]
  },
  {
   "cell_type": "code",
   "execution_count": 68,
   "metadata": {},
   "outputs": [
    {
     "data": {
      "text/plain": [
       "array([<matplotlib.axes._subplots.AxesSubplot object at 0x7f041671cfd0>],\n",
       "      dtype=object)"
      ]
     },
     "execution_count": 68,
     "metadata": {},
     "output_type": "execute_result"
    },
    {
     "data": {
      "image/png": "[encoded data removed]",
      "text/plain": [
       "<Figure size 432x288 with 1 Axes>"
      ]
     },
     "metadata": {},
     "output_type": "display_data"
    }
   ],
   "source": [
    "gender = user_info['gender'].value_counts()\n",
    "gender.plot(kind='pie',subplots=True)"
   ]
  },
  {
   "cell_type": "code",
   "execution_count": 67,
   "metadata": {},
   "outputs": [
    {
     "data": {
      "image/png": "[encoded data removed]",
      "text/plain": [
       "<Figure size 1368x648 with 1 Axes>"
      ]
     },
     "metadata": {
      "needs_background": "light"
     },
     "output_type": "display_data"
    }
   ],
   "source": [
    "age = user_info['age'].value_counts().sort_values(ascending=False)\n",
    "fig, ax = plt.subplots(figsize=(19,9))\n",
    "sns.barplot( age.index,age.values, ax=ax)\n",
    "ax.set(xlabel= 'age', \n",
    "       ylabel = 'age count', \n",
    "       title = \"age distribution\")\n",
    "plt.show()"
   ]
  },
  {
   "cell_type": "code",
   "execution_count": 63,
   "metadata": {},
   "outputs": [
    {
     "data": {
      "image/png": "[encoded data removed]",
      "text/plain": [
       "<Figure size 1368x648 with 1 Axes>"
      ]
     },
     "metadata": {
      "needs_background": "light"
     },
     "output_type": "display_data"
    }
   ],
   "source": [
    "cell_province = user_info['cell_province'].value_counts().sort_values(ascending=False)\n",
    "fig, ax = plt.subplots(figsize=(19,9))\n",
    "sns.barplot( cell_province.index,cell_province.values, ax=ax)\n",
    "ax.set(xlabel= 'province', \n",
    "       ylabel = 'cell_province', \n",
    "       title = \"cell_province distribution\")\n",
    "plt.show()"
   ]
  },
  {
   "cell_type": "code",
   "execution_count": 65,
   "metadata": {
    "scrolled": true
   },
   "outputs": [
    {
     "data": {
      "image/png": "[encoded data removed]",
      "text/plain": [
       "<Figure size 1368x648 with 1 Axes>"
      ]
     },
     "metadata": {
      "needs_background": "light"
     },
     "output_type": "display_data"
    }
   ],
   "source": [
    "id_province = user_info['id_province'].value_counts().sort_values(ascending=False)\n",
    "fig, ax = plt.subplots(figsize=(19,9))\n",
    "sns.barplot( id_province.index,id_province.values, ax=ax)\n",
    "ax.set(xlabel= 'province', \n",
    "       ylabel = 'id_province', \n",
    "       title = \"id_province distribution\")\n",
    "plt.show()"
   ]
  },
  {
   "cell_type": "code",
   "execution_count": 66,
   "metadata": {},
   "outputs": [
    {
     "data": {
      "image/png": "[encoded data removed]",
      "text/plain": [
       "<Figure size 1368x648 with 1 Axes>"
      ]
     },
     "metadata": {
      "needs_background": "light"
     },
     "output_type": "display_data"
    }
   ],
   "source": [
    "id_city = user_info['id_city'].value_counts().sort_values(ascending=False)\n",
    "fig, ax = plt.subplots(figsize=(19,9))\n",
    "sns.barplot( id_city.index,id_city.values, ax=ax)\n",
    "ax.set(xlabel= 'city', \n",
    "       ylabel = 'id_city', \n",
    "       title = \"id_city distribution\")\n",
    "plt.show()"
   ]
  },
  {
   "cell_type": "code",
   "execution_count": 38,
   "metadata": {},
   "outputs": [
    {
     "data": {
      "text/html": [
       "<div>\n",
       "<style scoped>\n",
       "    .dataframe tbody tr th:only-of-type {\n",
       "        vertical-align: middle;\n",
       "    }\n",
       "\n",
       "    .dataframe tbody tr th {\n",
       "        vertical-align: top;\n",
       "    }\n",
       "\n",
       "    .dataframe thead th {\n",
       "        text-align: right;\n",
       "    }\n",
       "</style>\n",
       "<table border=\"1\" class=\"dataframe\">\n",
       "  <thead>\n",
       "    <tr style=\"text-align: right;\">\n",
       "      <th></th>\n",
       "      <th>Total</th>\n",
       "      <th>Percent</th>\n",
       "    </tr>\n",
       "  </thead>\n",
       "  <tbody>\n",
       "    <tr>\n",
       "      <th>insertdate</th>\n",
       "      <td>0</td>\n",
       "      <td>0.0</td>\n",
       "    </tr>\n",
       "    <tr>\n",
       "      <th>id_city</th>\n",
       "      <td>0</td>\n",
       "      <td>0.0</td>\n",
       "    </tr>\n",
       "    <tr>\n",
       "      <th>id_province</th>\n",
       "      <td>0</td>\n",
       "      <td>0.0</td>\n",
       "    </tr>\n",
       "    <tr>\n",
       "      <th>cell_province</th>\n",
       "      <td>0</td>\n",
       "      <td>0.0</td>\n",
       "    </tr>\n",
       "    <tr>\n",
       "      <th>age</th>\n",
       "      <td>0</td>\n",
       "      <td>0.0</td>\n",
       "    </tr>\n",
       "  </tbody>\n",
       "</table>\n",
       "</div>"
      ],
      "text/plain": [
       "               Total  Percent\n",
       "insertdate         0      0.0\n",
       "id_city            0      0.0\n",
       "id_province        0      0.0\n",
       "cell_province      0      0.0\n",
       "age                0      0.0"
      ]
     },
     "execution_count": 38,
     "metadata": {},
     "output_type": "execute_result"
    }
   ],
   "source": [
    "# 检查缺省值\n",
    "total = user_info.isnull().sum().sort_values(ascending = False)\n",
    "percent = (user_info.isnull().sum()/user_info.isnull().count()*100).sort_values(ascending = False)\n",
    "missing_train_data  = pd.concat([total, percent], axis=1, keys=['Total', 'Percent'])\n",
    "missing_train_data.head()"
   ]
  },
  {
   "cell_type": "code",
   "execution_count": 45,
   "metadata": {},
   "outputs": [
    {
     "data": {
      "text/plain": [
       "array(['男', '女'], dtype=object)"
      ]
     },
     "execution_count": 45,
     "metadata": {},
     "output_type": "execute_result"
    }
   ],
   "source": [
    "user_info['gender'].unique()"
   ]
  },
  {
   "cell_type": "code",
   "execution_count": 46,
   "metadata": {},
   "outputs": [
    {
     "data": {
      "text/plain": [
       "array([19, 31, 34, 25, 23, 30, 53, 29, 22, 35, 20, 39, 38, 21, 24, 36, 32,\n",
       "       45, 28, 33, 27, 40, 26, 42, 46, 44, 37, 41, 51, 50, 52, 43, 47, 48,\n",
       "       49, 54, 56, 18, 55])"
      ]
     },
     "execution_count": 46,
     "metadata": {},
     "output_type": "execute_result"
    }
   ],
   "source": [
    "user_info['age'].unique()"
   ]
  },
  {
   "cell_type": "code",
   "execution_count": 47,
   "metadata": {},
   "outputs": [
    {
     "data": {
      "text/plain": [
       "array(['c29', 'c11', 'c02', 'c09', 'c05', 'c08', 'c12', 'c21', 'c04',\n",
       "       'c06', 'c22', '\\\\N', 'c27', 'c15', 'c23', 'c20', 'c24', 'c25',\n",
       "       'c28', 'c26', 'c14', 'c16', 'c13', 'c01', 'c31', 'c18', 'c30',\n",
       "       'c19', 'c03', 'c17', 'c07', 'c10'], dtype=object)"
      ]
     },
     "execution_count": 47,
     "metadata": {},
     "output_type": "execute_result"
    }
   ],
   "source": [
    "user_info['cell_province'].unique()"
   ]
  },
  {
   "cell_type": "code",
   "execution_count": 49,
   "metadata": {},
   "outputs": [
    {
     "data": {
      "text/plain": [
       "array(['c26', 'c11', 'c02', 'c09', 'c05', 'c07', 'c12', 'c21', 'c04',\n",
       "       'c25', 'c08', 'c27', 'c15', 'c23', 'c20', 'c28', 'c06', 'c29',\n",
       "       'c17', 'c16', 'c13', 'c24', 'c01', 'c31', 'c30', 'c19', 'c03',\n",
       "       'c22', 'c14', 'c18', 'c10'], dtype=object)"
      ]
     },
     "execution_count": 49,
     "metadata": {},
     "output_type": "execute_result"
    }
   ],
   "source": [
    "user_info['id_province'].unique()"
   ]
  },
  {
   "cell_type": "code",
   "execution_count": 51,
   "metadata": {},
   "outputs": [
    {
     "data": {
      "text/plain": [
       "array(['c26241', 'c11159', 'c02182', 'c09046', 'c05193', 'c07282', '\\\\N',\n",
       "       'c21174', 'c04348', 'c25199', 'c08187', 'c08030', 'c08055',\n",
       "       'c02018', 'c27330', 'c05021', 'c15278', 'c12117', 'c23141',\n",
       "       'c20231', 'c05082', 'c25121', 'c05287', 'c04069', 'c02002',\n",
       "       'c28130', 'c06195', 'c11207', 'c26210', 'c21299', 'c29075',\n",
       "       'c17179', 'c25049', 'c02036', 'c04251', 'c12022', 'c06281',\n",
       "       'c21293', 'c04319', 'c12007', 'c11094', 'c29298', 'c29219',\n",
       "       'c04267', 'c04206', 'c27124', 'c16306', 'c25214', 'c13248',\n",
       "       'c09205', 'c26161', 'c29128', 'c04073', 'c24023', 'c04264',\n",
       "       'c01328', 'c31170', 'c27120', 'c26136', 'c25332', 'c01197',\n",
       "       'c09167', 'c21034', 'c26099', 'c27068', 'c30271', 'c07177',\n",
       "       'c04125', 'c01200', 'c19202', 'c07349', 'c04270', 'c09038',\n",
       "       'c17096', 'c03065', 'c25222', 'c09261', 'c20249', 'c12088',\n",
       "       'c20092', 'c24024', 'c12135', 'c31255', 'c08216', 'c04320',\n",
       "       'c31143', 'c24268', 'c11171', 'c27010', 'c02345', 'c31274',\n",
       "       'c25090', 'c08087', 'c04162', 'c04102', 'c19097', 'c19239',\n",
       "       'c31232', 'c26165', 'c05015', 'c02035', 'c17172', 'c21006',\n",
       "       'c05145', 'c13032', 'c27327', 'c24016', 'c13314', 'c25144',\n",
       "       'c25189', 'c17291', 'c27039', 'c21134', 'c06266', 'c17253',\n",
       "       'c02321', 'c03066', 'c05192', 'c06106', 'c31288', 'c20352',\n",
       "       'c26057', 'c20188', 'c29304', 'c12234', 'c17290', 'c13003',\n",
       "       'c03101', 'c26156', 'c12142', 'c26237', 'c07045', 'c04331',\n",
       "       'c01227', 'c05169', 'c08341', 'c22308', 'c26247', 'c09315',\n",
       "       'c20108', 'c28279', 'c17198', 'c05126', 'c09149', 'c14027',\n",
       "       'c04137', 'c17250', 'c02139', 'c11017', 'c27153', 'c09235',\n",
       "       'c11245', 'c28211', 'c09313', 'c17041', 'c08107', 'c06119',\n",
       "       'c19078', 'c01181', 'c11252', 'c18011', 'c04110', 'c11217',\n",
       "       'c26131', 'c02334', 'c05191', 'c17246', 'c12190', 'c03325',\n",
       "       'c04344', 'c01166', 'c25183', 'c29048', 'c26350', 'c21226',\n",
       "       'c26213', 'c28085', 'c20089', 'c02168', 'c07297', 'c02163',\n",
       "       'c27026', 'c27180', 'c08337', 'c25074', 'c31114', 'c04086',\n",
       "       'c24260', 'c31067', 'c26047', 'c29063', 'c05296', 'c26105',\n",
       "       'c08079', 'c20176', 'c27224', 'c05147', 'c11184', 'c20129',\n",
       "       'c19122', 'c31001', 'c13276', 'c08157', 'c24212', 'c03236',\n",
       "       'c26262', 'c17242', 'c24317', 'c02160', 'c04152', 'c17080',\n",
       "       'c28081', 'c09294', 'c28112', 'c17109', 'c23228', 'c11076',\n",
       "       'c08025', 'c24269', 'c30230', 'c19203', 'c29220', 'c17132',\n",
       "       'c25140', 'c01307', 'c19104', 'c12084', 'c26259', 'c26312',\n",
       "       'c28340', 'c13059', 'c13070', 'c16146', 'c19335', 'c03223',\n",
       "       'c19083', 'c09037', 'c11077', 'c27309', 'c08175', 'c27257',\n",
       "       'c21186', 'c24044', 'c01301', 'c11098', 'c18061', 'c12305',\n",
       "       'c26277', 'c21240', 'c29091', 'c01215', 'c11273', 'c19118',\n",
       "       'c06221', 'c13029', 'c17133', 'c20031', 'c03012', 'c23347',\n",
       "       'c05103', 'c07060', 'c28005', 'c07323', 'c17194', 'c06095',\n",
       "       'c07285', 'c28265', 'c04196', 'c27051', 'c06062', 'c05258',\n",
       "       'c08333', 'c10138', 'c27054', 'c09254', 'c03123', 'c28229',\n",
       "       'c09289', 'c09040', 'c07072', 'c27151', 'c28225', 'c08256',\n",
       "       'c19303', 'c26243', 'c28053', 'c18093', 'c13280', 'c24272',\n",
       "       'c06311', 'c09052', 'c19004', 'c08343', 'c19208', 'c08292',\n",
       "       'c07154', 'c21209', 'c13043', 'c09008', 'c07286', 'c17284',\n",
       "       'c13042', 'c05204', 'c11111', 'c06020', 'c24233', 'c24150',\n",
       "       'c08263', 'c16275', 'c20019', 'c07338', 'c01201', 'c28316',\n",
       "       'c16322', 'c07342', 'c09346', 'c19310', 'c13127', 'c24071',\n",
       "       'c13009', 'c27116', 'c13014', 'c10324', 'c12100', 'c28244',\n",
       "       'c06028', 'c04155', 'c30148', 'c23336', 'c13295', 'c12238',\n",
       "       'c18064', 'c25113', 'c18302', 'c19058', 'c03185', 'c18173',\n",
       "       'c18318', 'c10164', 'c10300', 'c25056', 'c24283', 'c10158',\n",
       "       'c13329', 'c25339', 'c10218', 'c19013', 'c26033', 'c16115',\n",
       "       'c18050', 'c10326', 'c19351', 'c26178', 'c04339', 'c02339',\n",
       "       'c27339'], dtype=object)"
      ]
     },
     "execution_count": 51,
     "metadata": {},
     "output_type": "execute_result"
    }
   ],
   "source": [
    "user_info['id_city'].unique()"
   ]
  },
  {
   "cell_type": "markdown",
   "metadata": {},
   "source": [
    "# 7.表七"
   ]
  },
  {
   "cell_type": "code",
   "execution_count": 11,
   "metadata": {},
   "outputs": [],
   "source": [
    "user_repay_logs=pd.read_csv(\"../data/user_repay_logs.csv\")"
   ]
  },
  {
   "cell_type": "code",
   "execution_count": 28,
   "metadata": {},
   "outputs": [
    {
     "data": {
      "text/plain": [
       "(18001297, 7)"
      ]
     },
     "execution_count": 28,
     "metadata": {},
     "output_type": "execute_result"
    }
   ],
   "source": [
    "user_repay_logs.shape"
   ]
  },
  {
   "cell_type": "code",
   "execution_count": 29,
   "metadata": {},
   "outputs": [
    {
     "data": {
      "text/html": [
       "<div>\n",
       "<style scoped>\n",
       "    .dataframe tbody tr th:only-of-type {\n",
       "        vertical-align: middle;\n",
       "    }\n",
       "\n",
       "    .dataframe tbody tr th {\n",
       "        vertical-align: top;\n",
       "    }\n",
       "\n",
       "    .dataframe thead th {\n",
       "        text-align: right;\n",
       "    }\n",
       "</style>\n",
       "<table border=\"1\" class=\"dataframe\">\n",
       "  <thead>\n",
       "    <tr style=\"text-align: right;\">\n",
       "      <th></th>\n",
       "      <th>user_id</th>\n",
       "      <th>listing_id</th>\n",
       "      <th>order_id</th>\n",
       "      <th>due_date</th>\n",
       "      <th>due_amt</th>\n",
       "      <th>repay_date</th>\n",
       "      <th>repay_amt</th>\n",
       "    </tr>\n",
       "  </thead>\n",
       "  <tbody>\n",
       "    <tr>\n",
       "      <th>0</th>\n",
       "      <td>748483</td>\n",
       "      <td>1858122</td>\n",
       "      <td>6</td>\n",
       "      <td>2018-06-29</td>\n",
       "      <td>528.6365</td>\n",
       "      <td>2018-06-20</td>\n",
       "      <td>528.6365</td>\n",
       "    </tr>\n",
       "    <tr>\n",
       "      <th>1</th>\n",
       "      <td>748483</td>\n",
       "      <td>1858122</td>\n",
       "      <td>4</td>\n",
       "      <td>2018-04-29</td>\n",
       "      <td>528.6365</td>\n",
       "      <td>2200-01-01</td>\n",
       "      <td>528.6365</td>\n",
       "    </tr>\n",
       "    <tr>\n",
       "      <th>2</th>\n",
       "      <td>748483</td>\n",
       "      <td>1858122</td>\n",
       "      <td>7</td>\n",
       "      <td>2018-07-29</td>\n",
       "      <td>528.6365</td>\n",
       "      <td>2018-06-20</td>\n",
       "      <td>528.6365</td>\n",
       "    </tr>\n",
       "    <tr>\n",
       "      <th>3</th>\n",
       "      <td>748483</td>\n",
       "      <td>1858122</td>\n",
       "      <td>5</td>\n",
       "      <td>2018-05-29</td>\n",
       "      <td>528.6365</td>\n",
       "      <td>2018-05-29</td>\n",
       "      <td>528.6365</td>\n",
       "    </tr>\n",
       "    <tr>\n",
       "      <th>4</th>\n",
       "      <td>748483</td>\n",
       "      <td>1858122</td>\n",
       "      <td>1</td>\n",
       "      <td>2018-01-29</td>\n",
       "      <td>528.6365</td>\n",
       "      <td>2018-01-28</td>\n",
       "      <td>528.6365</td>\n",
       "    </tr>\n",
       "    <tr>\n",
       "      <th>5</th>\n",
       "      <td>748483</td>\n",
       "      <td>1858122</td>\n",
       "      <td>2</td>\n",
       "      <td>2018-02-28</td>\n",
       "      <td>528.6365</td>\n",
       "      <td>2018-02-16</td>\n",
       "      <td>528.6365</td>\n",
       "    </tr>\n",
       "    <tr>\n",
       "      <th>6</th>\n",
       "      <td>748483</td>\n",
       "      <td>1858122</td>\n",
       "      <td>3</td>\n",
       "      <td>2018-03-29</td>\n",
       "      <td>528.6365</td>\n",
       "      <td>2018-03-28</td>\n",
       "      <td>528.6365</td>\n",
       "    </tr>\n",
       "    <tr>\n",
       "      <th>7</th>\n",
       "      <td>445749</td>\n",
       "      <td>185013</td>\n",
       "      <td>11</td>\n",
       "      <td>2018-03-05</td>\n",
       "      <td>197.9548</td>\n",
       "      <td>2017-05-25</td>\n",
       "      <td>197.9548</td>\n",
       "    </tr>\n",
       "    <tr>\n",
       "      <th>8</th>\n",
       "      <td>445749</td>\n",
       "      <td>185013</td>\n",
       "      <td>6</td>\n",
       "      <td>2017-10-05</td>\n",
       "      <td>197.9548</td>\n",
       "      <td>2017-05-25</td>\n",
       "      <td>197.9548</td>\n",
       "    </tr>\n",
       "    <tr>\n",
       "      <th>9</th>\n",
       "      <td>445749</td>\n",
       "      <td>185013</td>\n",
       "      <td>10</td>\n",
       "      <td>2018-02-05</td>\n",
       "      <td>197.9548</td>\n",
       "      <td>2017-05-25</td>\n",
       "      <td>197.9548</td>\n",
       "    </tr>\n",
       "  </tbody>\n",
       "</table>\n",
       "</div>"
      ],
      "text/plain": [
       "   user_id  listing_id  order_id    due_date   due_amt  repay_date  repay_amt\n",
       "0   748483     1858122         6  2018-06-29  528.6365  2018-06-20   528.6365\n",
       "1   748483     1858122         4  2018-04-29  528.6365  2200-01-01   528.6365\n",
       "2   748483     1858122         7  2018-07-29  528.6365  2018-06-20   528.6365\n",
       "3   748483     1858122         5  2018-05-29  528.6365  2018-05-29   528.6365\n",
       "4   748483     1858122         1  2018-01-29  528.6365  2018-01-28   528.6365\n",
       "5   748483     1858122         2  2018-02-28  528.6365  2018-02-16   528.6365\n",
       "6   748483     1858122         3  2018-03-29  528.6365  2018-03-28   528.6365\n",
       "7   445749      185013        11  2018-03-05  197.9548  2017-05-25   197.9548\n",
       "8   445749      185013         6  2017-10-05  197.9548  2017-05-25   197.9548\n",
       "9   445749      185013        10  2018-02-05  197.9548  2017-05-25   197.9548"
      ]
     },
     "execution_count": 29,
     "metadata": {},
     "output_type": "execute_result"
    }
   ],
   "source": [
    "user_repay_logs.head(10)"
   ]
  },
  {
   "cell_type": "code",
   "execution_count": 37,
   "metadata": {},
   "outputs": [
    {
     "data": {
      "text/html": [
       "<div>\n",
       "<style scoped>\n",
       "    .dataframe tbody tr th:only-of-type {\n",
       "        vertical-align: middle;\n",
       "    }\n",
       "\n",
       "    .dataframe tbody tr th {\n",
       "        vertical-align: top;\n",
       "    }\n",
       "\n",
       "    .dataframe thead th {\n",
       "        text-align: right;\n",
       "    }\n",
       "</style>\n",
       "<table border=\"1\" class=\"dataframe\">\n",
       "  <thead>\n",
       "    <tr style=\"text-align: right;\">\n",
       "      <th></th>\n",
       "      <th>Total</th>\n",
       "      <th>Percent</th>\n",
       "    </tr>\n",
       "  </thead>\n",
       "  <tbody>\n",
       "    <tr>\n",
       "      <th>repay_amt</th>\n",
       "      <td>0</td>\n",
       "      <td>0.0</td>\n",
       "    </tr>\n",
       "    <tr>\n",
       "      <th>repay_date</th>\n",
       "      <td>0</td>\n",
       "      <td>0.0</td>\n",
       "    </tr>\n",
       "    <tr>\n",
       "      <th>due_amt</th>\n",
       "      <td>0</td>\n",
       "      <td>0.0</td>\n",
       "    </tr>\n",
       "    <tr>\n",
       "      <th>due_date</th>\n",
       "      <td>0</td>\n",
       "      <td>0.0</td>\n",
       "    </tr>\n",
       "    <tr>\n",
       "      <th>order_id</th>\n",
       "      <td>0</td>\n",
       "      <td>0.0</td>\n",
       "    </tr>\n",
       "  </tbody>\n",
       "</table>\n",
       "</div>"
      ],
      "text/plain": [
       "            Total  Percent\n",
       "repay_amt       0      0.0\n",
       "repay_date      0      0.0\n",
       "due_amt         0      0.0\n",
       "due_date        0      0.0\n",
       "order_id        0      0.0"
      ]
     },
     "execution_count": 37,
     "metadata": {},
     "output_type": "execute_result"
    }
   ],
   "source": [
    "# 检查缺省值\n",
    "total = user_repay_logs.isnull().sum().sort_values(ascending = False)\n",
    "percent = (user_repay_logs.isnull().sum()/user_repay_logs.isnull().count()*100).sort_values(ascending = False)\n",
    "missing_train_data  = pd.concat([total, percent], axis=1, keys=['Total', 'Percent'])\n",
    "missing_train_data.head()"
   ]
  },
  {
   "cell_type": "code",
   "execution_count": 52,
   "metadata": {},
   "outputs": [
    {
     "data": {
      "text/plain": [
       "array([ 6,  4,  7,  5,  1,  2,  3, 11, 10,  9,  8, 12])"
      ]
     },
     "execution_count": 52,
     "metadata": {},
     "output_type": "execute_result"
    }
   ],
   "source": [
    "user_repay_logs['order_id'].unique()"
   ]
  },
  {
   "cell_type": "markdown",
   "metadata": {},
   "source": [
    "# 8.表8"
   ]
  },
  {
   "cell_type": "code",
   "execution_count": 12,
   "metadata": {},
   "outputs": [],
   "source": [
    "user_taglist=pd.read_csv(\"../data/user_taglist.csv\")"
   ]
  },
  {
   "cell_type": "code",
   "execution_count": 30,
   "metadata": {},
   "outputs": [
    {
     "data": {
      "text/plain": [
       "(615160, 3)"
      ]
     },
     "execution_count": 30,
     "metadata": {},
     "output_type": "execute_result"
    }
   ],
   "source": [
    "user_taglist.shape"
   ]
  },
  {
   "cell_type": "code",
   "execution_count": 31,
   "metadata": {},
   "outputs": [
    {
     "data": {
      "text/html": [
       "<div>\n",
       "<style scoped>\n",
       "    .dataframe tbody tr th:only-of-type {\n",
       "        vertical-align: middle;\n",
       "    }\n",
       "\n",
       "    .dataframe tbody tr th {\n",
       "        vertical-align: top;\n",
       "    }\n",
       "\n",
       "    .dataframe thead th {\n",
       "        text-align: right;\n",
       "    }\n",
       "</style>\n",
       "<table border=\"1\" class=\"dataframe\">\n",
       "  <thead>\n",
       "    <tr style=\"text-align: right;\">\n",
       "      <th></th>\n",
       "      <th>user_id</th>\n",
       "      <th>taglist</th>\n",
       "      <th>insertdate</th>\n",
       "    </tr>\n",
       "  </thead>\n",
       "  <tbody>\n",
       "    <tr>\n",
       "      <th>0</th>\n",
       "      <td>113401</td>\n",
       "      <td>4707|473|3498|4759|1654|298|2869|1164|212|1885...</td>\n",
       "      <td>2018-10-03</td>\n",
       "    </tr>\n",
       "    <tr>\n",
       "      <th>1</th>\n",
       "      <td>378358</td>\n",
       "      <td>751|2207|1100|2099|1832|1911|5347|2254|171|360...</td>\n",
       "      <td>2018-11-30</td>\n",
       "    </tr>\n",
       "    <tr>\n",
       "      <th>2</th>\n",
       "      <td>434838</td>\n",
       "      <td>877|3795|5628|70|2684|691|719|4228|631|1541|12...</td>\n",
       "      <td>2018-03-25</td>\n",
       "    </tr>\n",
       "    <tr>\n",
       "      <th>3</th>\n",
       "      <td>577061</td>\n",
       "      <td>2431|3242|340|1823|4020|4357|164|620|2168|1192...</td>\n",
       "      <td>2018-05-25</td>\n",
       "    </tr>\n",
       "    <tr>\n",
       "      <th>4</th>\n",
       "      <td>566753</td>\n",
       "      <td>3980|3125|1819|1333|1177|3972|621|5800|3632|16...</td>\n",
       "      <td>2018-12-02</td>\n",
       "    </tr>\n",
       "    <tr>\n",
       "      <th>5</th>\n",
       "      <td>257271</td>\n",
       "      <td>3688|141|1059|1616|247|3527|2788|2431|2706|234...</td>\n",
       "      <td>2018-06-20</td>\n",
       "    </tr>\n",
       "    <tr>\n",
       "      <th>6</th>\n",
       "      <td>286758</td>\n",
       "      <td>4073|5474|1583|449|244|676|2306|3755|440|3688|...</td>\n",
       "      <td>2018-03-12</td>\n",
       "    </tr>\n",
       "    <tr>\n",
       "      <th>7</th>\n",
       "      <td>279566</td>\n",
       "      <td>2266|1330|3744|424|2018|1318|436|2410|956|2785...</td>\n",
       "      <td>2018-07-15</td>\n",
       "    </tr>\n",
       "    <tr>\n",
       "      <th>8</th>\n",
       "      <td>842520</td>\n",
       "      <td>2018|4288|3133|5733|2212|181|942|2072|3440|165...</td>\n",
       "      <td>2018-06-07</td>\n",
       "    </tr>\n",
       "    <tr>\n",
       "      <th>9</th>\n",
       "      <td>374058</td>\n",
       "      <td>440|4185|2264|4381|1137|1059|3760|2649|620|530...</td>\n",
       "      <td>2018-04-11</td>\n",
       "    </tr>\n",
       "  </tbody>\n",
       "</table>\n",
       "</div>"
      ],
      "text/plain": [
       "   user_id                                            taglist  insertdate\n",
       "0   113401  4707|473|3498|4759|1654|298|2869|1164|212|1885...  2018-10-03\n",
       "1   378358  751|2207|1100|2099|1832|1911|5347|2254|171|360...  2018-11-30\n",
       "2   434838  877|3795|5628|70|2684|691|719|4228|631|1541|12...  2018-03-25\n",
       "3   577061  2431|3242|340|1823|4020|4357|164|620|2168|1192...  2018-05-25\n",
       "4   566753  3980|3125|1819|1333|1177|3972|621|5800|3632|16...  2018-12-02\n",
       "5   257271  3688|141|1059|1616|247|3527|2788|2431|2706|234...  2018-06-20\n",
       "6   286758  4073|5474|1583|449|244|676|2306|3755|440|3688|...  2018-03-12\n",
       "7   279566  2266|1330|3744|424|2018|1318|436|2410|956|2785...  2018-07-15\n",
       "8   842520  2018|4288|3133|5733|2212|181|942|2072|3440|165...  2018-06-07\n",
       "9   374058  440|4185|2264|4381|1137|1059|3760|2649|620|530...  2018-04-11"
      ]
     },
     "execution_count": 31,
     "metadata": {},
     "output_type": "execute_result"
    }
   ],
   "source": [
    "user_taglist.head(10)"
   ]
  },
  {
   "cell_type": "code",
   "execution_count": 36,
   "metadata": {},
   "outputs": [
    {
     "data": {
      "text/html": [
       "<div>\n",
       "<style scoped>\n",
       "    .dataframe tbody tr th:only-of-type {\n",
       "        vertical-align: middle;\n",
       "    }\n",
       "\n",
       "    .dataframe tbody tr th {\n",
       "        vertical-align: top;\n",
       "    }\n",
       "\n",
       "    .dataframe thead th {\n",
       "        text-align: right;\n",
       "    }\n",
       "</style>\n",
       "<table border=\"1\" class=\"dataframe\">\n",
       "  <thead>\n",
       "    <tr style=\"text-align: right;\">\n",
       "      <th></th>\n",
       "      <th>Total</th>\n",
       "      <th>Percent</th>\n",
       "    </tr>\n",
       "  </thead>\n",
       "  <tbody>\n",
       "    <tr>\n",
       "      <th>insertdate</th>\n",
       "      <td>0</td>\n",
       "      <td>0.0</td>\n",
       "    </tr>\n",
       "    <tr>\n",
       "      <th>taglist</th>\n",
       "      <td>0</td>\n",
       "      <td>0.0</td>\n",
       "    </tr>\n",
       "    <tr>\n",
       "      <th>user_id</th>\n",
       "      <td>0</td>\n",
       "      <td>0.0</td>\n",
       "    </tr>\n",
       "  </tbody>\n",
       "</table>\n",
       "</div>"
      ],
      "text/plain": [
       "            Total  Percent\n",
       "insertdate      0      0.0\n",
       "taglist         0      0.0\n",
       "user_id         0      0.0"
      ]
     },
     "execution_count": 36,
     "metadata": {},
     "output_type": "execute_result"
    }
   ],
   "source": [
    "# 检查缺省值\n",
    "total = user_taglist.isnull().sum().sort_values(ascending = False)\n",
    "percent = (user_taglist.isnull().sum()/user_taglist.isnull().count()*100).sort_values(ascending = False)\n",
    "missing_train_data  = pd.concat([total, percent], axis=1, keys=['Total', 'Percent'])\n",
    "missing_train_data.head()"
   ]
  }
 ],
 "metadata": {
  "kernelspec": {
   "display_name": "Tensorflow",
   "language": "python",
   "name": "tensorflow"
  },
  "language_info": {
   "codemirror_mode": {
    "name": "ipython",
    "version": 3
   },
   "file_extension": ".py",
   "mimetype": "text/x-python",
   "name": "python",
   "nbconvert_exporter": "python",
   "pygments_lexer": "ipython3",
   "version": "3.6.7"
  }
 },
 "nbformat": 4,
 "nbformat_minor": 2
}
