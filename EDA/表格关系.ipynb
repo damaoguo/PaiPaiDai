{
 "cells": [
  {
   "cell_type": "code",
   "execution_count": 1,
   "metadata": {},
   "outputs": [],
   "source": [
    "import pandas as pd # package for high-performance, easy-to-use data structures and data analysis\n",
    "import numpy as np # fundamental package for scientific computing with Python\n",
    "from collections import Counter\n",
    "import matplotlib\n",
    "import pickle\n",
    "import matplotlib.pyplot as plt # for plotting\n",
    "import seaborn as sns # for making plots with seaborn\n",
    "color = sns.color_palette()\n",
    "\n",
    "\n",
    "\n",
    "from numpy import array\n",
    "from matplotlib import cm\n",
    "# Supress unnecessary warnings so that presentation looks clean\n",
    "import warnings\n",
    "warnings.filterwarnings(\"ignore\")\n",
    "\n",
    "# Print all rows and columns\n",
    "pd.set_option('display.max_columns', None)\n",
    "pd.set_option('display.max_rows', None)"
   ]
  },
  {
   "cell_type": "code",
   "execution_count": 2,
   "metadata": {},
   "outputs": [],
   "source": [
    "# 13万条\n",
    "test=pd.read_csv(\"../data/test.csv\")\n",
    "# 100万条\n",
    "train=pd.read_csv(\"../data/train.csv\")\n",
    "# 日志1800万条\n",
    "user_repay_logs=pd.read_csv(\"../data/user_repay_logs.csv\")"
   ]
  },
  {
   "cell_type": "markdown",
   "metadata": {},
   "source": [
    "## 1.train和test的标是否存在重合?不存在重合!!!"
   ]
  },
  {
   "cell_type": "code",
   "execution_count": 4,
   "metadata": {},
   "outputs": [
    {
     "name": "stdout",
     "output_type": "stream",
     "text": [
      "1000000 130000 1000000\n",
      "1000000 130000 130000\n"
     ]
    }
   ],
   "source": [
    "train_listing_id=set(train['listing_id'].tolist())\n",
    "test_listing_id=set(test['listing_id'].tolist())\n",
    "print(len(train_listing_id),len(test_listing_id),len(train_listing_id-test_listing_id))\n",
    "print(len(train_listing_id),len(test_listing_id),len(test_listing_id-train_listing_id))"
   ]
  },
  {
   "cell_type": "markdown",
   "metadata": {},
   "source": [
    "## 2.test和logs之间是否重合?不存在重合!!!(综上:test中的标都是全新的,不存在之前没有还完的)"
   ]
  },
  {
   "cell_type": "code",
   "execution_count": 7,
   "metadata": {},
   "outputs": [
    {
     "name": "stdout",
     "output_type": "stream",
     "text": [
      "130000 4216576 130000\n",
      "130000 4216576 4216576\n"
     ]
    }
   ],
   "source": [
    "logs_listing_id=set(user_repay_logs['listing_id'].tolist())\n",
    "print(len(test_listing_id),len(logs_listing_id),len(test_listing_id-logs_listing_id))\n",
    "print(len(test_listing_id),len(logs_listing_id),len(logs_listing_id-test_listing_id))"
   ]
  }
 ],
 "metadata": {
  "kernelspec": {
   "display_name": "Tensorflow",
   "language": "python",
   "name": "tensorflow"
  },
  "language_info": {
   "codemirror_mode": {
    "name": "ipython",
    "version": 3
   },
   "file_extension": ".py",
   "mimetype": "text/x-python",
   "name": "python",
   "nbconvert_exporter": "python",
   "pygments_lexer": "ipython3",
   "version": "3.6.7"
  }
 },
 "nbformat": 4,
 "nbformat_minor": 2
}
