{
 "cells": [
  {
   "cell_type": "code",
   "execution_count": 320,
   "metadata": {},
   "outputs": [],
   "source": [
    "import pandas as pd # package for high-performance, easy-to-use data structures and data analysis\n",
    "import numpy as np # fundamental package for scientific computing with Python\n",
    "import matplotlib\n",
    "import matplotlib.pyplot as plt # for plotting\n",
    "import seaborn as sns # for making plots with seaborn\n",
    "color = sns.color_palette()\n",
    "from scipy.stats import kurtosis\n",
    "from numpy import array\n",
    "from matplotlib import cm\n",
    "# Supress unnecessary warnings so that presentation looks clean\n",
    "import warnings\n",
    "warnings.filterwarnings(\"ignore\")\n",
    "from sklearn.preprocessing import Imputer\n",
    "from sklearn.externals import joblib\n",
    "import datetime\n",
    "import time\n",
    "# Print all rows and columns\n",
    "pd.set_option('display.max_columns', None)\n",
    "pd.set_option('display.max_rows', None)"
   ]
  },
  {
   "cell_type": "code",
   "execution_count": 2,
   "metadata": {},
   "outputs": [],
   "source": [
    "train = joblib.load('train1.pkl')    # 载入数据"
   ]
  },
  {
   "cell_type": "code",
   "execution_count": 3,
   "metadata": {},
   "outputs": [],
   "source": [
    "listing_info = joblib.load('listing_info1.pkl')    # 载入数据"
   ]
  },
  {
   "cell_type": "code",
   "execution_count": 4,
   "metadata": {},
   "outputs": [],
   "source": [
    "user_repay_logs = joblib.load('user_repay_logs1.pkl')    # 载入数据"
   ]
  },
  {
   "cell_type": "code",
   "execution_count": null,
   "metadata": {},
   "outputs": [],
   "source": [
    "user_behavior_logs = joblib.load('user_behavior_logs1.pkl')    # 载入数据"
   ]
  },
  {
   "cell_type": "code",
   "execution_count": 5,
   "metadata": {},
   "outputs": [],
   "source": [
    "user_info = joblib.load('user_info1.pkl')    # 载入数据"
   ]
  },
  {
   "cell_type": "code",
   "execution_count": 6,
   "metadata": {},
   "outputs": [],
   "source": [
    "user_taglist = joblib.load('user_taglist1.pkl')    # 载入数据"
   ]
  },
  {
   "cell_type": "code",
   "execution_count": 7,
   "metadata": {},
   "outputs": [],
   "source": [
    "test = joblib.load('test1.pkl')    # 载入数据"
   ]
  },
  {
   "cell_type": "code",
   "execution_count": 8,
   "metadata": {},
   "outputs": [],
   "source": [
    "# 将test中有历史交易记录的user对应记录提取出来作为train1\n",
    "train_user_id=set(train['user_id'].tolist())\n",
    "test_user_id=set(test['user_id'].tolist())\n",
    "repay_logs_user_id = set(user_repay_logs['user_id'].tolist())\n",
    "repay_logs_listing_id = set(user_repay_logs['listing_id'].tolist())\n",
    "train_listing_id=set(train['listing_id'].tolist())"
   ]
  },
  {
   "cell_type": "code",
   "execution_count": 9,
   "metadata": {},
   "outputs": [],
   "source": [
    "x1 = test_user_id - train_user_id\n",
    "user_no = x1 - repay_logs_user_id    # test中没在train、repay_log中出现过的user\n",
    "user_no_num = test[test['user_id'].isin(user_no)]       # 保存test中从未出现在train、repay_log中的部分\n",
    "user_yes_num = test[~test['user_id'].isin(user_no)]     # 保存test中在train、repay_log中出现过的部"
   ]
  },
  {
   "cell_type": "code",
   "execution_count": 10,
   "metadata": {},
   "outputs": [
    {
     "name": "stdout",
     "output_type": "stream",
     "text": [
      "(33379, 7)\n"
     ]
    }
   ],
   "source": [
    "user_yes_train = train[train['user_id'].isin(test_user_id&train_user_id)]   \n",
    "# test中在train出现过的user\n",
    "\n",
    "print(user_yes_train.shape)"
   ]
  },
  {
   "cell_type": "code",
   "execution_count": 20,
   "metadata": {},
   "outputs": [
    {
     "data": {
      "text/html": [
       "<div>\n",
       "<style scoped>\n",
       "    .dataframe tbody tr th:only-of-type {\n",
       "        vertical-align: middle;\n",
       "    }\n",
       "\n",
       "    .dataframe tbody tr th {\n",
       "        vertical-align: top;\n",
       "    }\n",
       "\n",
       "    .dataframe thead th {\n",
       "        text-align: right;\n",
       "    }\n",
       "</style>\n",
       "<table border=\"1\" class=\"dataframe\">\n",
       "  <thead>\n",
       "    <tr style=\"text-align: right;\">\n",
       "      <th></th>\n",
       "      <th>user_id</th>\n",
       "      <th>listing_id</th>\n",
       "      <th>auditing_date</th>\n",
       "      <th>due_date</th>\n",
       "      <th>due_amt</th>\n",
       "      <th>repay_date</th>\n",
       "      <th>repay_amt</th>\n",
       "    </tr>\n",
       "  </thead>\n",
       "  <tbody>\n",
       "    <tr>\n",
       "      <th>52</th>\n",
       "      <td>399026</td>\n",
       "      <td>5105859</td>\n",
       "      <td>2018-12-12</td>\n",
       "      <td>2019-01-12</td>\n",
       "      <td>396.0697</td>\n",
       "      <td>2019-01-12</td>\n",
       "      <td>396.0697</td>\n",
       "    </tr>\n",
       "    <tr>\n",
       "      <th>129</th>\n",
       "      <td>491230</td>\n",
       "      <td>4773399</td>\n",
       "      <td>2018-10-28</td>\n",
       "      <td>2018-11-28</td>\n",
       "      <td>943.9129</td>\n",
       "      <td>2018-11-23</td>\n",
       "      <td>943.9129</td>\n",
       "    </tr>\n",
       "    <tr>\n",
       "      <th>148</th>\n",
       "      <td>889013</td>\n",
       "      <td>4916211</td>\n",
       "      <td>2018-11-15</td>\n",
       "      <td>2018-12-15</td>\n",
       "      <td>170.1841</td>\n",
       "      <td>2018-12-15</td>\n",
       "      <td>170.1841</td>\n",
       "    </tr>\n",
       "    <tr>\n",
       "      <th>153</th>\n",
       "      <td>493599</td>\n",
       "      <td>2393635</td>\n",
       "      <td>2018-02-23</td>\n",
       "      <td>2018-03-23</td>\n",
       "      <td>390.6251</td>\n",
       "      <td>2018-03-22</td>\n",
       "      <td>390.6251</td>\n",
       "    </tr>\n",
       "    <tr>\n",
       "      <th>157</th>\n",
       "      <td>741140</td>\n",
       "      <td>4460746</td>\n",
       "      <td>2018-09-17</td>\n",
       "      <td>2018-10-17</td>\n",
       "      <td>394.6893</td>\n",
       "      <td>2018-10-16</td>\n",
       "      <td>394.6893</td>\n",
       "    </tr>\n",
       "  </tbody>\n",
       "</table>\n",
       "</div>"
      ],
      "text/plain": [
       "     user_id  listing_id auditing_date    due_date   due_amt  repay_date  \\\n",
       "52    399026     5105859    2018-12-12  2019-01-12  396.0697  2019-01-12   \n",
       "129   491230     4773399    2018-10-28  2018-11-28  943.9129  2018-11-23   \n",
       "148   889013     4916211    2018-11-15  2018-12-15  170.1841  2018-12-15   \n",
       "153   493599     2393635    2018-02-23  2018-03-23  390.6251  2018-03-22   \n",
       "157   741140     4460746    2018-09-17  2018-10-17  394.6893  2018-10-16   \n",
       "\n",
       "    repay_amt  \n",
       "52   396.0697  \n",
       "129  943.9129  \n",
       "148  170.1841  \n",
       "153  390.6251  \n",
       "157  394.6893  "
      ]
     },
     "execution_count": 20,
     "metadata": {},
     "output_type": "execute_result"
    }
   ],
   "source": [
    "user_yes_train.head()"
   ]
  },
  {
   "cell_type": "code",
   "execution_count": 11,
   "metadata": {},
   "outputs": [
    {
     "name": "stdout",
     "output_type": "stream",
     "text": [
      "(2746766, 7)\n"
     ]
    }
   ],
   "source": [
    "user_yes_log = user_repay_logs[user_repay_logs['user_id'].isin(test_user_id&repay_logs_user_id)]   \n",
    "# test中在log出现过的user\n",
    "\n",
    "print(user_yes_log.shape)"
   ]
  },
  {
   "cell_type": "code",
   "execution_count": 12,
   "metadata": {},
   "outputs": [],
   "source": [
    "def logpart(x): \n",
    "    # 处理日志数据\n",
    "    x['due_date'] = pd.to_datetime(x.due_date,format = '%Y-%m-%d')\n",
    "    x['repay_date'] = pd.to_datetime(x.repay_date,format = '%Y-%m-%d')\n",
    "    x['month'] = x['due_date'].map(lambda x:x.month)\n",
    "    x['year'] = x['due_date'].map(lambda x:x.year)\n",
    "    x['day'] = x['due_date'].map(lambda x:x.day)\n",
    "    x['delta'] = x['month'] - x['order_id']\n",
    "    x.loc[x['delta'] <= 0,'month'] = x.loc[x['delta'] <= 0,'delta'].map(lambda x: x+12) \n",
    "    x.loc[x['delta'] <= 0,'year'] = x.loc[x['delta'] <= 0,'year'].map(lambda x: x-1)\n",
    "    x.loc[x['delta'] > 0,'month']= x.loc[x['delta'] > 0,'delta']\n",
    "    x.loc[x['delta'] > 0,'year'] = x.loc[x['delta'] > 0,'year']\n",
    "    x['year'] =  [int(i) for i in x['year']]\n",
    "    x['year'] = x['year'].astype(str)\n",
    "    x['month'] =  [int(i) for i in x['month']]\n",
    "    x['month'] = x['month'].astype(str)\n",
    "    x['day'] = x['day'].astype(str)\n",
    "    x['auditing_date'] = x['year'].str.cat([x['month'],x['day']],sep='-')\n",
    "    x['auditing_date'] = pd.to_datetime(x.auditing_date,format = '%Y-%m-%d')\n",
    "    x.drop(['order_id','month','year','day','delta'],axis=1,inplace=True)\n",
    "    order = ['user_id','listing_id','auditing_date','due_date','due_amt','repay_date','repay_amt']\n",
    "    x = x[order]\n",
    "    return x     # 日期数据都转成了日期格式"
   ]
  },
  {
   "cell_type": "code",
   "execution_count": 13,
   "metadata": {},
   "outputs": [],
   "source": [
    "def trainpart(x):\n",
    "    # 处理train数据\n",
    "    x.loc[x['repay_date'] == '\\\\N','repay_date']= '2200-01-01'\n",
    "    x.loc[x['repay_amt'] == '\\\\N','repay_amt'] = x.loc[x['repay_amt'] == '\\\\N','due_amt']\n",
    "    x['due_date'] = pd.to_datetime(x.due_date,format = '%Y-%m-%d')\n",
    "    x['repay_date'] = pd.to_datetime(x.repay_date,format = '%Y-%m-%d')\n",
    "    x['auditing_date'] = pd.to_datetime(x.auditing_date,format = '%Y-%m-%d')\n",
    "    return x"
   ]
  },
  {
   "cell_type": "code",
   "execution_count": 14,
   "metadata": {},
   "outputs": [],
   "source": [
    "def testpart(x):\n",
    "    # 处理测试集数据\n",
    "    x['due_date']= pd.to_datetime(x.due_date,format = '%Y-%m-%d')\n",
    "    x['auditing_date'] = pd.to_datetime(x.auditing_date,format = '%Y-%m-%d')\n",
    "    return x"
   ]
  },
  {
   "cell_type": "code",
   "execution_count": 15,
   "metadata": {},
   "outputs": [],
   "source": [
    "user_yes_train1 = trainpart(user_yes_train)\n",
    "user_yes_log1 = logpart(user_yes_log)\n",
    "test1 = testpart(test)"
   ]
  },
  {
   "cell_type": "code",
   "execution_count": 16,
   "metadata": {},
   "outputs": [
    {
     "data": {
      "text/html": [
       "<div>\n",
       "<style scoped>\n",
       "    .dataframe tbody tr th:only-of-type {\n",
       "        vertical-align: middle;\n",
       "    }\n",
       "\n",
       "    .dataframe tbody tr th {\n",
       "        vertical-align: top;\n",
       "    }\n",
       "\n",
       "    .dataframe thead th {\n",
       "        text-align: right;\n",
       "    }\n",
       "</style>\n",
       "<table border=\"1\" class=\"dataframe\">\n",
       "  <thead>\n",
       "    <tr style=\"text-align: right;\">\n",
       "      <th></th>\n",
       "      <th>user_id</th>\n",
       "      <th>listing_id</th>\n",
       "      <th>auditing_date</th>\n",
       "      <th>due_date</th>\n",
       "      <th>due_amt</th>\n",
       "      <th>repay_date</th>\n",
       "      <th>repay_amt</th>\n",
       "    </tr>\n",
       "  </thead>\n",
       "  <tbody>\n",
       "    <tr>\n",
       "      <th>59</th>\n",
       "      <td>381204</td>\n",
       "      <td>3380189</td>\n",
       "      <td>2018-05-13</td>\n",
       "      <td>2018-10-13</td>\n",
       "      <td>287.0677</td>\n",
       "      <td>2018-09-16</td>\n",
       "      <td>287.0677</td>\n",
       "    </tr>\n",
       "    <tr>\n",
       "      <th>60</th>\n",
       "      <td>381204</td>\n",
       "      <td>3380189</td>\n",
       "      <td>2018-05-13</td>\n",
       "      <td>2018-11-13</td>\n",
       "      <td>287.0677</td>\n",
       "      <td>2018-09-25</td>\n",
       "      <td>287.0677</td>\n",
       "    </tr>\n",
       "    <tr>\n",
       "      <th>61</th>\n",
       "      <td>381204</td>\n",
       "      <td>3380189</td>\n",
       "      <td>2018-05-13</td>\n",
       "      <td>2018-09-13</td>\n",
       "      <td>287.0677</td>\n",
       "      <td>2018-08-15</td>\n",
       "      <td>287.0677</td>\n",
       "    </tr>\n",
       "    <tr>\n",
       "      <th>84</th>\n",
       "      <td>657194</td>\n",
       "      <td>3762755</td>\n",
       "      <td>2018-06-17</td>\n",
       "      <td>2018-07-17</td>\n",
       "      <td>121.3392</td>\n",
       "      <td>2018-07-17</td>\n",
       "      <td>121.3392</td>\n",
       "    </tr>\n",
       "    <tr>\n",
       "      <th>85</th>\n",
       "      <td>657194</td>\n",
       "      <td>3762755</td>\n",
       "      <td>2018-06-17</td>\n",
       "      <td>2018-11-17</td>\n",
       "      <td>121.3392</td>\n",
       "      <td>2018-11-17</td>\n",
       "      <td>121.3392</td>\n",
       "    </tr>\n",
       "  </tbody>\n",
       "</table>\n",
       "</div>"
      ],
      "text/plain": [
       "    user_id  listing_id auditing_date   due_date   due_amt repay_date  \\\n",
       "59   381204     3380189    2018-05-13 2018-10-13  287.0677 2018-09-16   \n",
       "60   381204     3380189    2018-05-13 2018-11-13  287.0677 2018-09-25   \n",
       "61   381204     3380189    2018-05-13 2018-09-13  287.0677 2018-08-15   \n",
       "84   657194     3762755    2018-06-17 2018-07-17  121.3392 2018-07-17   \n",
       "85   657194     3762755    2018-06-17 2018-11-17  121.3392 2018-11-17   \n",
       "\n",
       "    repay_amt  \n",
       "59   287.0677  \n",
       "60   287.0677  \n",
       "61   287.0677  \n",
       "84   121.3392  \n",
       "85   121.3392  "
      ]
     },
     "execution_count": 16,
     "metadata": {},
     "output_type": "execute_result"
    }
   ],
   "source": [
    "user_yes_log1.head()     # 无缺失值"
   ]
  },
  {
   "cell_type": "code",
   "execution_count": 18,
   "metadata": {},
   "outputs": [
    {
     "data": {
      "text/plain": [
       "user_id          0\n",
       "listing_id       0\n",
       "auditing_date    0\n",
       "due_date         0\n",
       "due_amt          0\n",
       "repay_date       0\n",
       "repay_amt        0\n",
       "dtype: int64"
      ]
     },
     "execution_count": 18,
     "metadata": {},
     "output_type": "execute_result"
    }
   ],
   "source": [
    "user_yes_train1.isnull().sum()      # 无缺失值"
   ]
  },
  {
   "cell_type": "code",
   "execution_count": 19,
   "metadata": {},
   "outputs": [],
   "source": [
    "user_yes_log2 = user_yes_log1.sort_values(by=[\"repay_date\"]).set_index([\"repay_date\"])"
   ]
  },
  {
   "cell_type": "code",
   "execution_count": 26,
   "metadata": {},
   "outputs": [
    {
     "name": "stdout",
     "output_type": "stream",
     "text": [
      "(2746766, 6)\n"
     ]
    }
   ],
   "source": [
    "user_yes_log2.head()\n",
    "print(user_yes_log2.shape)"
   ]
  },
  {
   "cell_type": "code",
   "execution_count": 25,
   "metadata": {},
   "outputs": [],
   "source": [
    "log1 = user_yes_log2.loc['2200-01-01'].reset_index()"
   ]
  },
  {
   "cell_type": "code",
   "execution_count": 27,
   "metadata": {},
   "outputs": [
    {
     "data": {
      "text/plain": [
       "(132687, 7)"
      ]
     },
     "execution_count": 27,
     "metadata": {},
     "output_type": "execute_result"
    }
   ],
   "source": [
    "log1.shape       # 日志数据中逾期的记录量"
   ]
  },
  {
   "cell_type": "code",
   "execution_count": 28,
   "metadata": {},
   "outputs": [],
   "source": [
    "log2 = log1.sort_values(by=[\"due_date\"]).set_index([\"due_date\"])\n",
    "log3 = log2.truncate(after=\"2019-03-01\").reset_index()     # 日志中逾期部分数据的筛选"
   ]
  },
  {
   "cell_type": "code",
   "execution_count": 29,
   "metadata": {},
   "outputs": [
    {
     "data": {
      "text/plain": [
       "(125689, 7)"
      ]
     },
     "execution_count": 29,
     "metadata": {},
     "output_type": "execute_result"
    }
   ],
   "source": [
    "log3.shape"
   ]
  },
  {
   "cell_type": "code",
   "execution_count": 30,
   "metadata": {},
   "outputs": [],
   "source": [
    "user_yes_log1[\"repay_date\"] = user_yes_log1[\"repay_date\"].astype(str)\n",
    "log4 = user_yes_log1.loc[user_yes_log1[\"repay_date\"]!='2200-01-01']      # 挑出未逾期的记录\n",
    "log4[\"repay_date\"] = pd.to_datetime(log4.repay_date,format = '%Y-%m-%d')     "
   ]
  },
  {
   "cell_type": "code",
   "execution_count": 31,
   "metadata": {},
   "outputs": [],
   "source": [
    "log5 = log4.sort_values(by=[\"repay_date\"]).set_index([\"repay_date\"])\n",
    "log6 = log5.truncate(after=\"2019-03-01\").reset_index()     # 日志中非逾期部分数据的筛选"
   ]
  },
  {
   "cell_type": "code",
   "execution_count": 32,
   "metadata": {},
   "outputs": [
    {
     "data": {
      "text/plain": [
       "(2484832, 7)"
      ]
     },
     "execution_count": 32,
     "metadata": {},
     "output_type": "execute_result"
    }
   ],
   "source": [
    "log6.shape"
   ]
  },
  {
   "cell_type": "code",
   "execution_count": 33,
   "metadata": {},
   "outputs": [],
   "source": [
    "order = ['user_id','listing_id','auditing_date','due_date','due_amt','repay_date','repay_amt']\n",
    "log3 = log3[order]\n",
    "log6 = log6[order]"
   ]
  },
  {
   "cell_type": "code",
   "execution_count": 42,
   "metadata": {},
   "outputs": [
    {
     "data": {
      "text/html": [
       "<div>\n",
       "<style scoped>\n",
       "    .dataframe tbody tr th:only-of-type {\n",
       "        vertical-align: middle;\n",
       "    }\n",
       "\n",
       "    .dataframe tbody tr th {\n",
       "        vertical-align: top;\n",
       "    }\n",
       "\n",
       "    .dataframe thead th {\n",
       "        text-align: right;\n",
       "    }\n",
       "</style>\n",
       "<table border=\"1\" class=\"dataframe\">\n",
       "  <thead>\n",
       "    <tr style=\"text-align: right;\">\n",
       "      <th></th>\n",
       "      <th>user_id</th>\n",
       "      <th>listing_id</th>\n",
       "      <th>auditing_date</th>\n",
       "      <th>due_date</th>\n",
       "      <th>due_amt</th>\n",
       "      <th>repay_date</th>\n",
       "      <th>repay_amt</th>\n",
       "    </tr>\n",
       "  </thead>\n",
       "  <tbody>\n",
       "    <tr>\n",
       "      <th>0</th>\n",
       "      <td>34612</td>\n",
       "      <td>271495</td>\n",
       "      <td>2017-05-09</td>\n",
       "      <td>2017-07-09</td>\n",
       "      <td>1065.9782</td>\n",
       "      <td>2200-01-01</td>\n",
       "      <td>1065.9782</td>\n",
       "    </tr>\n",
       "    <tr>\n",
       "      <th>1</th>\n",
       "      <td>34612</td>\n",
       "      <td>8272</td>\n",
       "      <td>2016-10-09</td>\n",
       "      <td>2017-07-09</td>\n",
       "      <td>303.0636</td>\n",
       "      <td>2200-01-01</td>\n",
       "      <td>303.0636</td>\n",
       "    </tr>\n",
       "    <tr>\n",
       "      <th>2</th>\n",
       "      <td>153514</td>\n",
       "      <td>20854</td>\n",
       "      <td>2016-11-11</td>\n",
       "      <td>2017-07-11</td>\n",
       "      <td>492.2594</td>\n",
       "      <td>2200-01-01</td>\n",
       "      <td>492.2594</td>\n",
       "    </tr>\n",
       "    <tr>\n",
       "      <th>3</th>\n",
       "      <td>260235</td>\n",
       "      <td>403888</td>\n",
       "      <td>2017-06-12</td>\n",
       "      <td>2017-07-12</td>\n",
       "      <td>295.6113</td>\n",
       "      <td>2200-01-01</td>\n",
       "      <td>295.6113</td>\n",
       "    </tr>\n",
       "    <tr>\n",
       "      <th>4</th>\n",
       "      <td>155973</td>\n",
       "      <td>69240</td>\n",
       "      <td>2017-01-13</td>\n",
       "      <td>2017-07-13</td>\n",
       "      <td>386.1742</td>\n",
       "      <td>2200-01-01</td>\n",
       "      <td>386.1742</td>\n",
       "    </tr>\n",
       "  </tbody>\n",
       "</table>\n",
       "</div>"
      ],
      "text/plain": [
       "   user_id  listing_id auditing_date   due_date    due_amt repay_date  \\\n",
       "0    34612      271495    2017-05-09 2017-07-09  1065.9782 2200-01-01   \n",
       "1    34612        8272    2016-10-09 2017-07-09   303.0636 2200-01-01   \n",
       "2   153514       20854    2016-11-11 2017-07-11   492.2594 2200-01-01   \n",
       "3   260235      403888    2017-06-12 2017-07-12   295.6113 2200-01-01   \n",
       "4   155973       69240    2017-01-13 2017-07-13   386.1742 2200-01-01   \n",
       "\n",
       "   repay_amt  \n",
       "0  1065.9782  \n",
       "1   303.0636  \n",
       "2   492.2594  \n",
       "3   295.6113  \n",
       "4   386.1742  "
      ]
     },
     "execution_count": 42,
     "metadata": {},
     "output_type": "execute_result"
    }
   ],
   "source": [
    "log3.head()"
   ]
  },
  {
   "cell_type": "code",
   "execution_count": 43,
   "metadata": {},
   "outputs": [
    {
     "data": {
      "text/html": [
       "<div>\n",
       "<style scoped>\n",
       "    .dataframe tbody tr th:only-of-type {\n",
       "        vertical-align: middle;\n",
       "    }\n",
       "\n",
       "    .dataframe tbody tr th {\n",
       "        vertical-align: top;\n",
       "    }\n",
       "\n",
       "    .dataframe thead th {\n",
       "        text-align: right;\n",
       "    }\n",
       "</style>\n",
       "<table border=\"1\" class=\"dataframe\">\n",
       "  <thead>\n",
       "    <tr style=\"text-align: right;\">\n",
       "      <th></th>\n",
       "      <th>user_id</th>\n",
       "      <th>listing_id</th>\n",
       "      <th>auditing_date</th>\n",
       "      <th>due_date</th>\n",
       "      <th>due_amt</th>\n",
       "      <th>repay_date</th>\n",
       "      <th>repay_amt</th>\n",
       "    </tr>\n",
       "  </thead>\n",
       "  <tbody>\n",
       "    <tr>\n",
       "      <th>0</th>\n",
       "      <td>270705</td>\n",
       "      <td>6256</td>\n",
       "      <td>2016-09-28</td>\n",
       "      <td>2017-09-28</td>\n",
       "      <td>245.2538</td>\n",
       "      <td>2016-10-01</td>\n",
       "      <td>245.2538</td>\n",
       "    </tr>\n",
       "    <tr>\n",
       "      <th>1</th>\n",
       "      <td>270705</td>\n",
       "      <td>6256</td>\n",
       "      <td>2016-09-28</td>\n",
       "      <td>2017-08-28</td>\n",
       "      <td>245.2538</td>\n",
       "      <td>2016-10-01</td>\n",
       "      <td>245.2538</td>\n",
       "    </tr>\n",
       "    <tr>\n",
       "      <th>2</th>\n",
       "      <td>270705</td>\n",
       "      <td>6256</td>\n",
       "      <td>2016-09-28</td>\n",
       "      <td>2017-07-28</td>\n",
       "      <td>245.2538</td>\n",
       "      <td>2016-10-01</td>\n",
       "      <td>245.2538</td>\n",
       "    </tr>\n",
       "    <tr>\n",
       "      <th>3</th>\n",
       "      <td>282185</td>\n",
       "      <td>10198</td>\n",
       "      <td>2016-10-17</td>\n",
       "      <td>2017-10-17</td>\n",
       "      <td>159.4149</td>\n",
       "      <td>2016-10-17</td>\n",
       "      <td>159.4149</td>\n",
       "    </tr>\n",
       "    <tr>\n",
       "      <th>4</th>\n",
       "      <td>282185</td>\n",
       "      <td>10198</td>\n",
       "      <td>2016-10-17</td>\n",
       "      <td>2017-09-17</td>\n",
       "      <td>159.4149</td>\n",
       "      <td>2016-10-17</td>\n",
       "      <td>159.4149</td>\n",
       "    </tr>\n",
       "  </tbody>\n",
       "</table>\n",
       "</div>"
      ],
      "text/plain": [
       "   user_id  listing_id auditing_date   due_date   due_amt repay_date  \\\n",
       "0   270705        6256    2016-09-28 2017-09-28  245.2538 2016-10-01   \n",
       "1   270705        6256    2016-09-28 2017-08-28  245.2538 2016-10-01   \n",
       "2   270705        6256    2016-09-28 2017-07-28  245.2538 2016-10-01   \n",
       "3   282185       10198    2016-10-17 2017-10-17  159.4149 2016-10-17   \n",
       "4   282185       10198    2016-10-17 2017-09-17  159.4149 2016-10-17   \n",
       "\n",
       "   repay_amt  \n",
       "0   245.2538  \n",
       "1   245.2538  \n",
       "2   245.2538  \n",
       "3   159.4149  \n",
       "4   159.4149  "
      ]
     },
     "execution_count": 43,
     "metadata": {},
     "output_type": "execute_result"
    }
   ],
   "source": [
    "log6.head()"
   ]
  },
  {
   "cell_type": "code",
   "execution_count": 44,
   "metadata": {},
   "outputs": [
    {
     "data": {
      "text/html": [
       "<div>\n",
       "<style scoped>\n",
       "    .dataframe tbody tr th:only-of-type {\n",
       "        vertical-align: middle;\n",
       "    }\n",
       "\n",
       "    .dataframe tbody tr th {\n",
       "        vertical-align: top;\n",
       "    }\n",
       "\n",
       "    .dataframe thead th {\n",
       "        text-align: right;\n",
       "    }\n",
       "</style>\n",
       "<table border=\"1\" class=\"dataframe\">\n",
       "  <thead>\n",
       "    <tr style=\"text-align: right;\">\n",
       "      <th></th>\n",
       "      <th>user_id</th>\n",
       "      <th>listing_id</th>\n",
       "      <th>auditing_date</th>\n",
       "      <th>due_date</th>\n",
       "      <th>due_amt</th>\n",
       "      <th>repay_date</th>\n",
       "      <th>repay_amt</th>\n",
       "    </tr>\n",
       "  </thead>\n",
       "  <tbody>\n",
       "    <tr>\n",
       "      <th>52</th>\n",
       "      <td>399026</td>\n",
       "      <td>5105859</td>\n",
       "      <td>2018-12-12</td>\n",
       "      <td>2019-01-12</td>\n",
       "      <td>396.0697</td>\n",
       "      <td>2019-01-12</td>\n",
       "      <td>396.0697</td>\n",
       "    </tr>\n",
       "    <tr>\n",
       "      <th>129</th>\n",
       "      <td>491230</td>\n",
       "      <td>4773399</td>\n",
       "      <td>2018-10-28</td>\n",
       "      <td>2018-11-28</td>\n",
       "      <td>943.9129</td>\n",
       "      <td>2018-11-23</td>\n",
       "      <td>943.9129</td>\n",
       "    </tr>\n",
       "    <tr>\n",
       "      <th>148</th>\n",
       "      <td>889013</td>\n",
       "      <td>4916211</td>\n",
       "      <td>2018-11-15</td>\n",
       "      <td>2018-12-15</td>\n",
       "      <td>170.1841</td>\n",
       "      <td>2018-12-15</td>\n",
       "      <td>170.1841</td>\n",
       "    </tr>\n",
       "    <tr>\n",
       "      <th>153</th>\n",
       "      <td>493599</td>\n",
       "      <td>2393635</td>\n",
       "      <td>2018-02-23</td>\n",
       "      <td>2018-03-23</td>\n",
       "      <td>390.6251</td>\n",
       "      <td>2018-03-22</td>\n",
       "      <td>390.6251</td>\n",
       "    </tr>\n",
       "    <tr>\n",
       "      <th>157</th>\n",
       "      <td>741140</td>\n",
       "      <td>4460746</td>\n",
       "      <td>2018-09-17</td>\n",
       "      <td>2018-10-17</td>\n",
       "      <td>394.6893</td>\n",
       "      <td>2018-10-16</td>\n",
       "      <td>394.6893</td>\n",
       "    </tr>\n",
       "  </tbody>\n",
       "</table>\n",
       "</div>"
      ],
      "text/plain": [
       "     user_id  listing_id auditing_date   due_date   due_amt repay_date  \\\n",
       "52    399026     5105859    2018-12-12 2019-01-12  396.0697 2019-01-12   \n",
       "129   491230     4773399    2018-10-28 2018-11-28  943.9129 2018-11-23   \n",
       "148   889013     4916211    2018-11-15 2018-12-15  170.1841 2018-12-15   \n",
       "153   493599     2393635    2018-02-23 2018-03-23  390.6251 2018-03-22   \n",
       "157   741140     4460746    2018-09-17 2018-10-17  394.6893 2018-10-16   \n",
       "\n",
       "    repay_amt  \n",
       "52   396.0697  \n",
       "129  943.9129  \n",
       "148  170.1841  \n",
       "153  390.6251  \n",
       "157  394.6893  "
      ]
     },
     "execution_count": 44,
     "metadata": {},
     "output_type": "execute_result"
    }
   ],
   "source": [
    "user_yes_train1.head()"
   ]
  },
  {
   "cell_type": "code",
   "execution_count": 48,
   "metadata": {},
   "outputs": [],
   "source": [
    "user_yes_train1['repay_amt'] = user_yes_train1['repay_amt'].astype(float)"
   ]
  },
  {
   "cell_type": "code",
   "execution_count": 49,
   "metadata": {},
   "outputs": [
    {
     "name": "stdout",
     "output_type": "stream",
     "text": [
      "<class 'pandas.core.frame.DataFrame'>\n",
      "Int64Index: 33379 entries, 52 to 999996\n",
      "Data columns (total 7 columns):\n",
      "user_id          33379 non-null int64\n",
      "listing_id       33379 non-null int64\n",
      "auditing_date    33379 non-null datetime64[ns]\n",
      "due_date         33379 non-null datetime64[ns]\n",
      "due_amt          33379 non-null float64\n",
      "repay_date       33379 non-null datetime64[ns]\n",
      "repay_amt        33379 non-null float64\n",
      "dtypes: datetime64[ns](3), float64(2), int64(2)\n",
      "memory usage: 2.0 MB\n"
     ]
    }
   ],
   "source": [
    "user_yes_train1.info()     # repay_amt是object类型"
   ]
  },
  {
   "cell_type": "code",
   "execution_count": 35,
   "metadata": {},
   "outputs": [
    {
     "data": {
      "text/plain": [
       "user_id          0\n",
       "listing_id       0\n",
       "auditing_date    0\n",
       "due_date         0\n",
       "due_amt          0\n",
       "repay_date       0\n",
       "repay_amt        0\n",
       "dtype: int64"
      ]
     },
     "execution_count": 35,
     "metadata": {},
     "output_type": "execute_result"
    }
   ],
   "source": [
    "log6.isnull().sum()     # 均无缺失值"
   ]
  },
  {
   "cell_type": "code",
   "execution_count": 50,
   "metadata": {},
   "outputs": [
    {
     "name": "stdout",
     "output_type": "stream",
     "text": [
      "(2643900, 7)\n"
     ]
    }
   ],
   "source": [
    "total = pd.concat([log3,log6,user_yes_train1],axis=0,ignore_index=True)\n",
    "print(total.shape)"
   ]
  },
  {
   "cell_type": "code",
   "execution_count": 51,
   "metadata": {},
   "outputs": [
    {
     "name": "stdout",
     "output_type": "stream",
     "text": [
      "(2611836, 7)\n"
     ]
    }
   ],
   "source": [
    "total.drop_duplicates(keep='first',inplace=True)\n",
    "print(total.shape)     # 删除重复的记录"
   ]
  },
  {
   "cell_type": "code",
   "execution_count": 38,
   "metadata": {},
   "outputs": [
    {
     "data": {
      "text/plain": [
       "user_id          0\n",
       "listing_id       0\n",
       "auditing_date    0\n",
       "due_date         0\n",
       "due_amt          0\n",
       "repay_date       0\n",
       "repay_amt        0\n",
       "dtype: int64"
      ]
     },
     "execution_count": 38,
     "metadata": {},
     "output_type": "execute_result"
    }
   ],
   "source": [
    "total.isnull().sum()    # 均无缺失值"
   ]
  },
  {
   "cell_type": "code",
   "execution_count": 173,
   "metadata": {},
   "outputs": [
    {
     "data": {
      "text/plain": [
       "119503"
      ]
     },
     "execution_count": 173,
     "metadata": {},
     "output_type": "execute_result"
    }
   ],
   "source": [
    "len(total['user_id'].unique())"
   ]
  },
  {
   "cell_type": "code",
   "execution_count": 53,
   "metadata": {},
   "outputs": [
    {
     "data": {
      "text/plain": [
       "['total1.pkl']"
      ]
     },
     "execution_count": 53,
     "metadata": {},
     "output_type": "execute_result"
    }
   ],
   "source": [
    "joblib.dump(total, 'total1.pkl')    # 存储合并的训练集"
   ]
  },
  {
   "cell_type": "code",
   "execution_count": 7,
   "metadata": {},
   "outputs": [],
   "source": [
    "total = joblib.load('total1.pkl')    # 载入数据"
   ]
  },
  {
   "cell_type": "code",
   "execution_count": 52,
   "metadata": {},
   "outputs": [
    {
     "name": "stdout",
     "output_type": "stream",
     "text": [
      "<class 'pandas.core.frame.DataFrame'>\n",
      "Int64Index: 2611836 entries, 0 to 2643883\n",
      "Data columns (total 7 columns):\n",
      "user_id          int64\n",
      "listing_id       int64\n",
      "auditing_date    datetime64[ns]\n",
      "due_date         datetime64[ns]\n",
      "due_amt          float64\n",
      "repay_date       datetime64[ns]\n",
      "repay_amt        float64\n",
      "dtypes: datetime64[ns](3), float64(2), int64(2)\n",
      "memory usage: 159.4 MB\n",
      "None\n"
     ]
    }
   ],
   "source": [
    "total.head()\n",
    "print(total.info())"
   ]
  },
  {
   "cell_type": "code",
   "execution_count": 54,
   "metadata": {},
   "outputs": [],
   "source": [
    "total['days']=(total['due_date']-total['repay_date']).apply(lambda x:x.days)   \n",
    "# 提前还款天数（标签）"
   ]
  },
  {
   "cell_type": "code",
   "execution_count": 55,
   "metadata": {},
   "outputs": [],
   "source": [
    "total['days']=total['days'].apply(lambda x: x if x>=0 else -1 )   # 逾期的标为-1"
   ]
  },
  {
   "cell_type": "code",
   "execution_count": 58,
   "metadata": {},
   "outputs": [
    {
     "data": {
      "text/plain": [
       "count    2.611836e+06\n",
       "mean     3.158584e+01\n",
       "std      6.318459e+01\n",
       "min     -1.000000e+00\n",
       "25%      0.000000e+00\n",
       "50%      2.000000e+00\n",
       "75%      2.800000e+01\n",
       "max      3.660000e+02\n",
       "Name: days, dtype: float64"
      ]
     },
     "execution_count": 58,
     "metadata": {},
     "output_type": "execute_result"
    }
   ],
   "source": [
    "total['days'].describe()"
   ]
  },
  {
   "cell_type": "code",
   "execution_count": 8,
   "metadata": {},
   "outputs": [
    {
     "data": {
      "text/plain": [
       "user_id          0\n",
       "listing_id       0\n",
       "auditing_date    0\n",
       "due_date         0\n",
       "due_amt          0\n",
       "repay_date       0\n",
       "repay_amt        0\n",
       "dtype: int64"
      ]
     },
     "execution_count": 8,
     "metadata": {},
     "output_type": "execute_result"
    }
   ],
   "source": [
    "total.isnull().sum()"
   ]
  },
  {
   "cell_type": "code",
   "execution_count": 62,
   "metadata": {},
   "outputs": [],
   "source": [
    "sp_total = total[total['days']<32]"
   ]
  },
  {
   "cell_type": "code",
   "execution_count": 63,
   "metadata": {},
   "outputs": [
    {
     "data": {
      "text/plain": [
       "days\n",
       " 0     854544\n",
       " 1     239159\n",
       " 2     126832\n",
       "-1     125716\n",
       " 3     123437\n",
       " 4      58974\n",
       " 5      46742\n",
       " 6      39193\n",
       " 7      33794\n",
       " 8      29386\n",
       " 9      25617\n",
       " 10     22894\n",
       " 11     21059\n",
       " 12     18966\n",
       " 13     17627\n",
       " 31     17552\n",
       " 14     16344\n",
       " 15     15259\n",
       " 30     14837\n",
       " 16     14385\n",
       " 17     13751\n",
       " 18     13152\n",
       " 19     12381\n",
       " 28     12199\n",
       " 29     11358\n",
       " 20     11280\n",
       " 21     10857\n",
       " 22     10640\n",
       " 27     10304\n",
       " 23     10256\n",
       " 24     10032\n",
       " 26      9893\n",
       " 25      9840\n",
       "dtype: int64"
      ]
     },
     "execution_count": 63,
     "metadata": {},
     "output_type": "execute_result"
    }
   ],
   "source": [
    "sp_total.groupby(by='days').size().sort_values(ascending=False)     # 统计days的频率分布"
   ]
  },
  {
   "cell_type": "code",
   "execution_count": 95,
   "metadata": {},
   "outputs": [],
   "source": [
    "A = sp_total.groupby(by='user_id').size().sort_values()       # 给出所有交易记录（包括train）中每个user的记录数"
   ]
  },
  {
   "cell_type": "code",
   "execution_count": 64,
   "metadata": {},
   "outputs": [
    {
     "data": {
      "text/plain": [
       "user_id          0\n",
       "listing_id       0\n",
       "auditing_date    0\n",
       "due_date         0\n",
       "due_amt          0\n",
       "repay_date       0\n",
       "repay_amt        0\n",
       "days             0\n",
       "dtype: int64"
      ]
     },
     "execution_count": 64,
     "metadata": {},
     "output_type": "execute_result"
    }
   ],
   "source": [
    "sp_total.isnull().sum()   # 无缺失值"
   ]
  },
  {
   "cell_type": "code",
   "execution_count": 70,
   "metadata": {},
   "outputs": [
    {
     "data": {
      "text/plain": [
       "(2008260, 8)"
      ]
     },
     "execution_count": 70,
     "metadata": {},
     "output_type": "execute_result"
    }
   ],
   "source": [
    "sp_total.shape"
   ]
  },
  {
   "cell_type": "code",
   "execution_count": 65,
   "metadata": {},
   "outputs": [],
   "source": [
    "total_2 = sp_total.copy()    # 备份筛选后的训练集"
   ]
  },
  {
   "cell_type": "code",
   "execution_count": 38,
   "metadata": {},
   "outputs": [
    {
     "data": {
      "text/html": [
       "<div>\n",
       "<style scoped>\n",
       "    .dataframe tbody tr th:only-of-type {\n",
       "        vertical-align: middle;\n",
       "    }\n",
       "\n",
       "    .dataframe tbody tr th {\n",
       "        vertical-align: top;\n",
       "    }\n",
       "\n",
       "    .dataframe thead th {\n",
       "        text-align: right;\n",
       "    }\n",
       "</style>\n",
       "<table border=\"1\" class=\"dataframe\">\n",
       "  <thead>\n",
       "    <tr style=\"text-align: right;\">\n",
       "      <th></th>\n",
       "      <th>user_id</th>\n",
       "      <th>listing_id</th>\n",
       "      <th>auditing_date</th>\n",
       "      <th>due_date</th>\n",
       "      <th>due_amt</th>\n",
       "      <th>repay_date</th>\n",
       "      <th>repay_amt</th>\n",
       "      <th>days</th>\n",
       "    </tr>\n",
       "  </thead>\n",
       "  <tbody>\n",
       "    <tr>\n",
       "      <th>0</th>\n",
       "      <td>34612</td>\n",
       "      <td>271495</td>\n",
       "      <td>2017-05-09</td>\n",
       "      <td>2017-07-09</td>\n",
       "      <td>1065.9782</td>\n",
       "      <td>2200-01-01</td>\n",
       "      <td>1065.98</td>\n",
       "      <td>-1</td>\n",
       "    </tr>\n",
       "    <tr>\n",
       "      <th>1</th>\n",
       "      <td>34612</td>\n",
       "      <td>8272</td>\n",
       "      <td>2016-10-09</td>\n",
       "      <td>2017-07-09</td>\n",
       "      <td>303.0636</td>\n",
       "      <td>2200-01-01</td>\n",
       "      <td>303.064</td>\n",
       "      <td>-1</td>\n",
       "    </tr>\n",
       "    <tr>\n",
       "      <th>2</th>\n",
       "      <td>153514</td>\n",
       "      <td>20854</td>\n",
       "      <td>2016-11-11</td>\n",
       "      <td>2017-07-11</td>\n",
       "      <td>492.2594</td>\n",
       "      <td>2200-01-01</td>\n",
       "      <td>492.259</td>\n",
       "      <td>-1</td>\n",
       "    </tr>\n",
       "    <tr>\n",
       "      <th>3</th>\n",
       "      <td>260235</td>\n",
       "      <td>403888</td>\n",
       "      <td>2017-06-12</td>\n",
       "      <td>2017-07-12</td>\n",
       "      <td>295.6113</td>\n",
       "      <td>2200-01-01</td>\n",
       "      <td>295.611</td>\n",
       "      <td>-1</td>\n",
       "    </tr>\n",
       "    <tr>\n",
       "      <th>4</th>\n",
       "      <td>155973</td>\n",
       "      <td>69240</td>\n",
       "      <td>2017-01-13</td>\n",
       "      <td>2017-07-13</td>\n",
       "      <td>386.1742</td>\n",
       "      <td>2200-01-01</td>\n",
       "      <td>386.174</td>\n",
       "      <td>-1</td>\n",
       "    </tr>\n",
       "  </tbody>\n",
       "</table>\n",
       "</div>"
      ],
      "text/plain": [
       "   user_id  listing_id auditing_date   due_date    due_amt repay_date  \\\n",
       "0    34612      271495    2017-05-09 2017-07-09  1065.9782 2200-01-01   \n",
       "1    34612        8272    2016-10-09 2017-07-09   303.0636 2200-01-01   \n",
       "2   153514       20854    2016-11-11 2017-07-11   492.2594 2200-01-01   \n",
       "3   260235      403888    2017-06-12 2017-07-12   295.6113 2200-01-01   \n",
       "4   155973       69240    2017-01-13 2017-07-13   386.1742 2200-01-01   \n",
       "\n",
       "  repay_amt  days  \n",
       "0   1065.98    -1  \n",
       "1   303.064    -1  \n",
       "2   492.259    -1  \n",
       "3   295.611    -1  \n",
       "4   386.174    -1  "
      ]
     },
     "execution_count": 38,
     "metadata": {},
     "output_type": "execute_result"
    }
   ],
   "source": [
    "sp_total.head()"
   ]
  },
  {
   "cell_type": "code",
   "execution_count": 67,
   "metadata": {},
   "outputs": [
    {
     "data": {
      "text/plain": [
       "(1882544, 8)"
      ]
     },
     "execution_count": 67,
     "metadata": {},
     "output_type": "execute_result"
    }
   ],
   "source": [
    "total_2[total_2['days']!=-1].shape     # 类别比约为15:1"
   ]
  },
  {
   "cell_type": "code",
   "execution_count": 123,
   "metadata": {},
   "outputs": [],
   "source": [
    "y_label = sp_total['days'].values"
   ]
  },
  {
   "cell_type": "code",
   "execution_count": 69,
   "metadata": {},
   "outputs": [],
   "source": [
    "del total_2['repay_amt'],total_2['repay_date'],total_2['days']"
   ]
  },
  {
   "cell_type": "code",
   "execution_count": 71,
   "metadata": {},
   "outputs": [
    {
     "name": "stdout",
     "output_type": "stream",
     "text": [
      "(2138260, 5)\n"
     ]
    }
   ],
   "source": [
    "testtotal0 = pd.concat([total_2,test1],axis=0,ignore_index=True)\n",
    "print(testtotal0.shape)                    #  训练集与测试集合并"
   ]
  },
  {
   "cell_type": "code",
   "execution_count": 72,
   "metadata": {},
   "outputs": [
    {
     "data": {
      "text/html": [
       "<div>\n",
       "<style scoped>\n",
       "    .dataframe tbody tr th:only-of-type {\n",
       "        vertical-align: middle;\n",
       "    }\n",
       "\n",
       "    .dataframe tbody tr th {\n",
       "        vertical-align: top;\n",
       "    }\n",
       "\n",
       "    .dataframe thead th {\n",
       "        text-align: right;\n",
       "    }\n",
       "</style>\n",
       "<table border=\"1\" class=\"dataframe\">\n",
       "  <thead>\n",
       "    <tr style=\"text-align: right;\">\n",
       "      <th></th>\n",
       "      <th>user_id</th>\n",
       "      <th>listing_id</th>\n",
       "      <th>auditing_date</th>\n",
       "      <th>due_date</th>\n",
       "      <th>due_amt</th>\n",
       "    </tr>\n",
       "  </thead>\n",
       "  <tbody>\n",
       "    <tr>\n",
       "      <th>0</th>\n",
       "      <td>34612</td>\n",
       "      <td>271495</td>\n",
       "      <td>2017-05-09</td>\n",
       "      <td>2017-07-09</td>\n",
       "      <td>1065.9782</td>\n",
       "    </tr>\n",
       "    <tr>\n",
       "      <th>1</th>\n",
       "      <td>34612</td>\n",
       "      <td>8272</td>\n",
       "      <td>2016-10-09</td>\n",
       "      <td>2017-07-09</td>\n",
       "      <td>303.0636</td>\n",
       "    </tr>\n",
       "    <tr>\n",
       "      <th>2</th>\n",
       "      <td>153514</td>\n",
       "      <td>20854</td>\n",
       "      <td>2016-11-11</td>\n",
       "      <td>2017-07-11</td>\n",
       "      <td>492.2594</td>\n",
       "    </tr>\n",
       "    <tr>\n",
       "      <th>3</th>\n",
       "      <td>260235</td>\n",
       "      <td>403888</td>\n",
       "      <td>2017-06-12</td>\n",
       "      <td>2017-07-12</td>\n",
       "      <td>295.6113</td>\n",
       "    </tr>\n",
       "    <tr>\n",
       "      <th>4</th>\n",
       "      <td>155973</td>\n",
       "      <td>69240</td>\n",
       "      <td>2017-01-13</td>\n",
       "      <td>2017-07-13</td>\n",
       "      <td>386.1742</td>\n",
       "    </tr>\n",
       "  </tbody>\n",
       "</table>\n",
       "</div>"
      ],
      "text/plain": [
       "   user_id  listing_id auditing_date   due_date    due_amt\n",
       "0    34612      271495    2017-05-09 2017-07-09  1065.9782\n",
       "1    34612        8272    2016-10-09 2017-07-09   303.0636\n",
       "2   153514       20854    2016-11-11 2017-07-11   492.2594\n",
       "3   260235      403888    2017-06-12 2017-07-12   295.6113\n",
       "4   155973       69240    2017-01-13 2017-07-13   386.1742"
      ]
     },
     "execution_count": 72,
     "metadata": {},
     "output_type": "execute_result"
    }
   ],
   "source": [
    "total_2.head()"
   ]
  },
  {
   "cell_type": "code",
   "execution_count": 73,
   "metadata": {},
   "outputs": [
    {
     "data": {
      "text/html": [
       "<div>\n",
       "<style scoped>\n",
       "    .dataframe tbody tr th:only-of-type {\n",
       "        vertical-align: middle;\n",
       "    }\n",
       "\n",
       "    .dataframe tbody tr th {\n",
       "        vertical-align: top;\n",
       "    }\n",
       "\n",
       "    .dataframe thead th {\n",
       "        text-align: right;\n",
       "    }\n",
       "</style>\n",
       "<table border=\"1\" class=\"dataframe\">\n",
       "  <thead>\n",
       "    <tr style=\"text-align: right;\">\n",
       "      <th></th>\n",
       "      <th>user_id</th>\n",
       "      <th>listing_id</th>\n",
       "      <th>auditing_date</th>\n",
       "      <th>due_date</th>\n",
       "      <th>due_amt</th>\n",
       "    </tr>\n",
       "  </thead>\n",
       "  <tbody>\n",
       "    <tr>\n",
       "      <th>0</th>\n",
       "      <td>498765</td>\n",
       "      <td>5431438</td>\n",
       "      <td>2019-03-12</td>\n",
       "      <td>2019-04-12</td>\n",
       "      <td>138.5903</td>\n",
       "    </tr>\n",
       "    <tr>\n",
       "      <th>1</th>\n",
       "      <td>34524</td>\n",
       "      <td>5443211</td>\n",
       "      <td>2019-03-15</td>\n",
       "      <td>2019-04-15</td>\n",
       "      <td>208.0805</td>\n",
       "    </tr>\n",
       "    <tr>\n",
       "      <th>2</th>\n",
       "      <td>821741</td>\n",
       "      <td>5461707</td>\n",
       "      <td>2019-03-22</td>\n",
       "      <td>2019-04-22</td>\n",
       "      <td>421.2097</td>\n",
       "    </tr>\n",
       "    <tr>\n",
       "      <th>3</th>\n",
       "      <td>263534</td>\n",
       "      <td>5472320</td>\n",
       "      <td>2019-03-26</td>\n",
       "      <td>2019-04-26</td>\n",
       "      <td>212.6537</td>\n",
       "    </tr>\n",
       "    <tr>\n",
       "      <th>4</th>\n",
       "      <td>238853</td>\n",
       "      <td>5459750</td>\n",
       "      <td>2019-03-21</td>\n",
       "      <td>2019-04-21</td>\n",
       "      <td>817.4593</td>\n",
       "    </tr>\n",
       "  </tbody>\n",
       "</table>\n",
       "</div>"
      ],
      "text/plain": [
       "   user_id  listing_id auditing_date   due_date   due_amt\n",
       "0   498765     5431438    2019-03-12 2019-04-12  138.5903\n",
       "1    34524     5443211    2019-03-15 2019-04-15  208.0805\n",
       "2   821741     5461707    2019-03-22 2019-04-22  421.2097\n",
       "3   263534     5472320    2019-03-26 2019-04-26  212.6537\n",
       "4   238853     5459750    2019-03-21 2019-04-21  817.4593"
      ]
     },
     "execution_count": 73,
     "metadata": {},
     "output_type": "execute_result"
    }
   ],
   "source": [
    "test1.head()"
   ]
  },
  {
   "cell_type": "code",
   "execution_count": 74,
   "metadata": {},
   "outputs": [],
   "source": [
    "testtotal0['year'] = testtotal0['due_date'].dt.year.astype(str)\n",
    "testtotal0['month'] = testtotal0['due_date'].dt.month.astype(str)\n",
    "testtotal0['day'] = testtotal0['due_date'].dt.day.astype(str)\n",
    "testtotal0['dayofweek'] = testtotal0['due_date'].dt.dayofweek.astype(str)"
   ]
  },
  {
   "cell_type": "code",
   "execution_count": 75,
   "metadata": {},
   "outputs": [],
   "source": [
    "# 应还款日期与交易日间隔天数\n",
    "testtotal0['days1']=(testtotal0['due_date']-testtotal0['auditing_date']).apply(lambda x:x.days)"
   ]
  },
  {
   "cell_type": "code",
   "execution_count": 76,
   "metadata": {},
   "outputs": [],
   "source": [
    "testtotal1 = pd.get_dummies(testtotal0)"
   ]
  },
  {
   "cell_type": "code",
   "execution_count": 78,
   "metadata": {},
   "outputs": [],
   "source": [
    "testtotal2 = pd.merge(testtotal1,listing_info,on=['user_id','listing_id'],how='left')   # 合并标的资产信息"
   ]
  },
  {
   "cell_type": "code",
   "execution_count": 81,
   "metadata": {},
   "outputs": [],
   "source": [
    "testtotal2.drop(['auditing_date_y'],inplace=True,axis=1)\n",
    "testtotal2.rename(columns={'auditing_date_x': 'auditing_date'},inplace=True)"
   ]
  },
  {
   "cell_type": "code",
   "execution_count": 82,
   "metadata": {},
   "outputs": [
    {
     "data": {
      "text/plain": [
       "user_id          0\n",
       "listing_id       0\n",
       "auditing_date    0\n",
       "due_date         0\n",
       "due_amt          0\n",
       "days1            0\n",
       "year_2017        0\n",
       "year_2018        0\n",
       "year_2019        0\n",
       "month_1          0\n",
       "month_10         0\n",
       "month_11         0\n",
       "month_12         0\n",
       "month_2          0\n",
       "month_3          0\n",
       "month_4          0\n",
       "month_5          0\n",
       "month_6          0\n",
       "month_7          0\n",
       "month_8          0\n",
       "month_9          0\n",
       "day_1            0\n",
       "day_10           0\n",
       "day_11           0\n",
       "day_12           0\n",
       "day_13           0\n",
       "day_14           0\n",
       "day_15           0\n",
       "day_16           0\n",
       "day_17           0\n",
       "day_18           0\n",
       "day_19           0\n",
       "day_2            0\n",
       "day_20           0\n",
       "day_21           0\n",
       "day_22           0\n",
       "day_23           0\n",
       "day_24           0\n",
       "day_25           0\n",
       "day_26           0\n",
       "day_27           0\n",
       "day_28           0\n",
       "day_29           0\n",
       "day_3            0\n",
       "day_30           0\n",
       "day_31           0\n",
       "day_4            0\n",
       "day_5            0\n",
       "day_6            0\n",
       "day_7            0\n",
       "day_8            0\n",
       "day_9            0\n",
       "dayofweek_0      0\n",
       "dayofweek_1      0\n",
       "dayofweek_2      0\n",
       "dayofweek_3      0\n",
       "dayofweek_4      0\n",
       "dayofweek_5      0\n",
       "dayofweek_6      0\n",
       "term             0\n",
       "rate             0\n",
       "principal        0\n",
       "dtype: int64"
      ]
     },
     "execution_count": 82,
     "metadata": {},
     "output_type": "execute_result"
    }
   ],
   "source": [
    "testtotal2.isnull().sum()     # 无缺失值"
   ]
  },
  {
   "cell_type": "code",
   "execution_count": 83,
   "metadata": {},
   "outputs": [],
   "source": [
    "trainnew = testtotal2[:len(total_2)]\n",
    "testnew = testtotal2[len(total_2):]    # 得到一起处理时间、标的资产特征的训练集、测试集"
   ]
  },
  {
   "cell_type": "code",
   "execution_count": 89,
   "metadata": {},
   "outputs": [],
   "source": [
    "group = sp_total.groupby('user_id', as_index=False)"
   ]
  },
  {
   "cell_type": "code",
   "execution_count": 90,
   "metadata": {},
   "outputs": [],
   "source": [
    "total_3 = sp_total.merge(\n",
    "    group['days'].agg({\n",
    "        'days_max': 'max', 'days_median': 'median',\n",
    "        'days_mean': 'mean', 'days_sum':'sum','days_std': 'std', 'days_skew': 'skew', 'days_kurt':kurtosis\n",
    "    }), on='user_id', how='left'\n",
    ")    # 还款天数的统计量"
   ]
  },
  {
   "cell_type": "code",
   "execution_count": 91,
   "metadata": {},
   "outputs": [
    {
     "data": {
      "text/plain": [
       "user_id              0\n",
       "listing_id           0\n",
       "auditing_date        0\n",
       "due_date             0\n",
       "due_amt              0\n",
       "repay_date           0\n",
       "repay_amt            0\n",
       "days                 0\n",
       "days_max             0\n",
       "days_median          0\n",
       "days_mean            0\n",
       "days_sum             0\n",
       "days_std          8541\n",
       "days_skew        25765\n",
       "days_kurt            0\n",
       "dtype: int64"
      ]
     },
     "execution_count": 91,
     "metadata": {},
     "output_type": "execute_result"
    }
   ],
   "source": [
    "total_3.isnull().sum()"
   ]
  },
  {
   "cell_type": "code",
   "execution_count": 100,
   "metadata": {},
   "outputs": [],
   "source": [
    "total_4 = total_3.merge(\n",
    "    group['due_amt'].agg({\n",
    "        'due_amt_max': 'max', 'due_amt_min': 'min', 'due_amt_median': 'median',\n",
    "        'due_amt_mean': 'mean', 'due_amt_sum': 'sum', 'due_amt_std': 'std',\n",
    "        'due_amt_skew': 'skew', 'due_amt_kurt': kurtosis, 'due_amt_ptp': np.ptp\n",
    "    }), on='user_id', how='left'\n",
    ")     # 还款金额的统计量"
   ]
  },
  {
   "cell_type": "code",
   "execution_count": 101,
   "metadata": {},
   "outputs": [
    {
     "data": {
      "text/plain": [
       "user_id               0\n",
       "listing_id            0\n",
       "auditing_date         0\n",
       "due_date              0\n",
       "due_amt               0\n",
       "repay_date            0\n",
       "repay_amt             0\n",
       "days                  0\n",
       "days_max              0\n",
       "days_median           0\n",
       "days_mean             0\n",
       "days_sum              0\n",
       "days_std           8541\n",
       "days_skew         25765\n",
       "days_kurt             0\n",
       "due_amt_max           0\n",
       "due_amt_min           0\n",
       "due_amt_median        0\n",
       "due_amt_mean          0\n",
       "due_amt_sum           0\n",
       "due_amt_std        8541\n",
       "due_amt_skew      25765\n",
       "due_amt_kurt          0\n",
       "due_amt_ptp           0\n",
       "dtype: int64"
      ]
     },
     "execution_count": 101,
     "metadata": {},
     "output_type": "execute_result"
    }
   ],
   "source": [
    "total_4.isnull().sum()"
   ]
  },
  {
   "cell_type": "code",
   "execution_count": 276,
   "metadata": {},
   "outputs": [],
   "source": [
    "label = total_4['days']"
   ]
  },
  {
   "cell_type": "code",
   "execution_count": 261,
   "metadata": {},
   "outputs": [],
   "source": [
    "total_5 = total_4.copy()\n",
    "total_6 = total_4.copy()"
   ]
  },
  {
   "cell_type": "code",
   "execution_count": 265,
   "metadata": {},
   "outputs": [],
   "source": [
    "total_5.drop(['listing_id','auditing_date','due_date','due_amt','repay_date','repay_amt','days'],inplace=True,axis=1)\n",
    "total_5.drop_duplicates(keep='first',inplace=True)"
   ]
  },
  {
   "cell_type": "code",
   "execution_count": 371,
   "metadata": {},
   "outputs": [],
   "source": [
    "test2 = testnew.merge(total_5,on='user_id',how='left')   # 测试集\n",
    "train2 = trainnew.merge(total_5,on='user_id',how='left')  # 训练集"
   ]
  },
  {
   "cell_type": "code",
   "execution_count": 372,
   "metadata": {},
   "outputs": [],
   "source": [
    "test3 = test2.drop(['listing_id','auditing_date','due_date','user_id'],axis = 1)   \n",
    "train3 = train2.drop(['listing_id','auditing_date','due_date','user_id'],axis = 1)  # 没有填补的训练集"
   ]
  },
  {
   "cell_type": "code",
   "execution_count": 373,
   "metadata": {},
   "outputs": [],
   "source": [
    "test01 = test3[test3['days_max'].isnull()==True]     # 无历史记录的user部分\n",
    "test02 = test3[test3['days_max'].isnull()==False]     # 有历史记录的user部分"
   ]
  },
  {
   "cell_type": "code",
   "execution_count": null,
   "metadata": {},
   "outputs": [],
   "source": [
    "test01_id = set(test01['user_id'].tolist())        # 对应没有历史交易记录的user_id"
   ]
  },
  {
   "cell_type": "code",
   "execution_count": 374,
   "metadata": {},
   "outputs": [],
   "source": [
    "test03 = test02.copy()"
   ]
  },
  {
   "cell_type": "code",
   "execution_count": 376,
   "metadata": {},
   "outputs": [],
   "source": [
    "test02['days_std'] = test02['days_std'].fillna(train3['days_std'].mean())\n",
    "test02['days_skew'] = test02['days_skew'].fillna(train3['days_skew'].mean())\n",
    "test02['due_amt_std'] = test02['due_amt_std'].fillna(train3['due_amt_std'].mean())\n",
    "test02['due_amt_skew'] = test02['due_amt_skew'].fillna(train3['due_amt_skew'].mean())"
   ]
  },
  {
   "cell_type": "code",
   "execution_count": 368,
   "metadata": {},
   "outputs": [],
   "source": [
    "train4 = train3.fillna(train3.mean())       # 缺失值填补的训练集"
   ]
  },
  {
   "cell_type": "code",
   "execution_count": 369,
   "metadata": {},
   "outputs": [
    {
     "data": {
      "text/plain": [
       "array([-1, -1, -1, ...,  3,  0, 31], dtype=int64)"
      ]
     },
     "execution_count": 369,
     "metadata": {},
     "output_type": "execute_result"
    }
   ],
   "source": [
    "y_label     # 标签"
   ]
  },
  {
   "cell_type": "code",
   "execution_count": 370,
   "metadata": {},
   "outputs": [
    {
     "data": {
      "text/plain": [
       "(118125, 74)"
      ]
     },
     "execution_count": 370,
     "metadata": {},
     "output_type": "execute_result"
    }
   ],
   "source": [
    "test02.shape                                # 填补了缺失值的测试集"
   ]
  },
  {
   "cell_type": "code",
   "execution_count": 375,
   "metadata": {},
   "outputs": [
    {
     "data": {
      "text/plain": [
       "['test03.pkl']"
      ]
     },
     "execution_count": 375,
     "metadata": {},
     "output_type": "execute_result"
    }
   ],
   "source": [
    "joblib.dump(train3, 'train3.pkl')    # 训练集\n",
    "joblib.dump(test03, 'test03.pkl')    # 训练集"
   ]
  },
  {
   "cell_type": "code",
   "execution_count": 377,
   "metadata": {},
   "outputs": [
    {
     "data": {
      "text/plain": [
       "['test02.pkl']"
      ]
     },
     "execution_count": 377,
     "metadata": {},
     "output_type": "execute_result"
    }
   ],
   "source": [
    "joblib.dump(train4, 'train4.pkl')    # 训练集\n",
    "joblib.dump(test02, 'test02.pkl')    # 训练集"
   ]
  }
 ],
 "metadata": {
  "kernelspec": {
   "display_name": "Python 3",
   "language": "python",
   "name": "python3"
  },
  "language_info": {
   "codemirror_mode": {
    "name": "ipython",
    "version": 3
   },
   "file_extension": ".py",
   "mimetype": "text/x-python",
   "name": "python",
   "nbconvert_exporter": "python",
   "pygments_lexer": "ipython3",
   "version": "3.6.5"
  }
 },
 "nbformat": 4,
 "nbformat_minor": 2
}
