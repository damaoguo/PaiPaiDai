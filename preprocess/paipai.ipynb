{
 "cells": [
  {
   "cell_type": "code",
   "execution_count": 1,
   "metadata": {},
   "outputs": [],
   "source": [
    "import pandas as pd # package for high-performance, easy-to-use data structures and data analysis\n",
    "import numpy as np # fundamental package for scientific computing with Python\n",
    "import matplotlib\n",
    "import matplotlib.pyplot as plt # for plotting\n",
    "import seaborn as sns # for making plots with seaborn\n",
    "color = sns.color_palette()\n",
    "\n",
    "from numpy import array\n",
    "from matplotlib import cm\n",
    "# Supress unnecessary warnings so that presentation looks clean\n",
    "import warnings\n",
    "warnings.filterwarnings(\"ignore\")\n",
    "\n",
    "from sklearn.externals import joblib\n",
    "\n",
    "# Print all rows and columns\n",
    "pd.set_option('display.max_columns', None)\n",
    "pd.set_option('display.max_rows', None)"
   ]
  },
  {
   "cell_type": "code",
   "execution_count": 5,
   "metadata": {},
   "outputs": [],
   "source": [
    "train = joblib.load('train1.pkl')    # 载入数据"
   ]
  },
  {
   "cell_type": "code",
   "execution_count": 6,
   "metadata": {},
   "outputs": [],
   "source": [
    "listing_info = joblib.load('listing_info1.pkl')    # 载入数据"
   ]
  },
  {
   "cell_type": "code",
   "execution_count": 8,
   "metadata": {},
   "outputs": [],
   "source": [
    "user_repay_logs = joblib.load('user_repay_logs1.pkl')    # 载入数据"
   ]
  },
  {
   "cell_type": "code",
   "execution_count": null,
   "metadata": {},
   "outputs": [],
   "source": [
    "user_behavior_logs = joblib.load('user_behavior_logs1.pkl')    # 载入数据"
   ]
  },
  {
   "cell_type": "code",
   "execution_count": 9,
   "metadata": {},
   "outputs": [],
   "source": [
    "user_info = joblib.load('user_info1.pkl')    # 载入数据"
   ]
  },
  {
   "cell_type": "code",
   "execution_count": 10,
   "metadata": {},
   "outputs": [],
   "source": [
    "user_taglist = joblib.load('user_taglist1.pkl')    # 载入数据"
   ]
  },
  {
   "cell_type": "code",
   "execution_count": 11,
   "metadata": {},
   "outputs": [],
   "source": [
    "test = joblib.load('test1.pkl')    # 载入数据"
   ]
  },
  {
   "cell_type": "code",
   "execution_count": 12,
   "metadata": {},
   "outputs": [],
   "source": [
    "user_repay_logs['due_date'] = pd.to_datetime(user_repay_logs.due_date,format = '%Y-%m-%d')\n",
    "user_repay_logs['repay_date'] = pd.to_datetime(user_repay_logs.repay_date,format = '%Y-%m-%d')"
   ]
  },
  {
   "cell_type": "code",
   "execution_count": 50,
   "metadata": {},
   "outputs": [],
   "source": [
    "user_repay_logs['month'] = user_repay_logs['due_date'].map(lambda x:x.month)\n",
    "user_repay_logs['year'] = user_repay_logs['due_date'].map(lambda x:x.year)\n",
    "user_repay_logs['day'] = user_repay_logs['due_date'].map(lambda x:x.day)"
   ]
  },
  {
   "cell_type": "code",
   "execution_count": 15,
   "metadata": {},
   "outputs": [],
   "source": [
    "user_repay_logs['delta'] = user_repay_logs['month'] - user_repay_logs['order_id']"
   ]
  },
  {
   "cell_type": "code",
   "execution_count": 61,
   "metadata": {},
   "outputs": [],
   "source": [
    "user_repay_logs.loc[user_repay_logs['delta'] <= 0,'month'] = user_repay_logs.loc[user_repay_logs['delta'] <= 0,'delta'].map(lambda x: x+12) \n",
    "user_repay_logs.loc[user_repay_logs['delta'] <= 0,'year'] = user_repay_logs.loc[user_repay_logs['delta'] <= 0,'year'].map(lambda x: x-1)"
   ]
  },
  {
   "cell_type": "code",
   "execution_count": 63,
   "metadata": {},
   "outputs": [],
   "source": [
    "user_repay_logs.loc[user_repay_logs['delta'] > 0,'month']= user_repay_logs.loc[user_repay_logs['delta'] > 0,'delta']\n",
    "user_repay_logs.loc[user_repay_logs['delta'] > 0,'year'] = user_repay_logs.loc[user_repay_logs['delta'] > 0,'year']"
   ]
  },
  {
   "cell_type": "code",
   "execution_count": 65,
   "metadata": {},
   "outputs": [],
   "source": [
    "user_repay_logs['year'] =  [int(i) for i in user_repay_logs['year']]\n",
    "user_repay_logs['year'] = user_repay_logs['year'].astype(str)\n",
    "user_repay_logs['month'] =  [int(i) for i in user_repay_logs['month']]\n",
    "user_repay_logs['month'] = user_repay_logs['month'].astype(str)\n",
    "user_repay_logs['day'] = user_repay_logs['day'].astype(str)"
   ]
  },
  {
   "cell_type": "code",
   "execution_count": 67,
   "metadata": {},
   "outputs": [],
   "source": [
    "user_repay_logs['auditing_date'] = user_repay_logs['year'].str.cat([user_repay_logs['month'],user_repay_logs['day']],sep='-')"
   ]
  },
  {
   "cell_type": "code",
   "execution_count": 68,
   "metadata": {},
   "outputs": [],
   "source": [
    "user_repay_logs['auditing_date'] = pd.to_datetime(user_repay_logs.auditing_date,format = '%Y-%m-%d')"
   ]
  },
  {
   "cell_type": "code",
   "execution_count": 70,
   "metadata": {},
   "outputs": [],
   "source": [
    "user_repay_logs1 = user_repay_logs.copy()"
   ]
  },
  {
   "cell_type": "code",
   "execution_count": 72,
   "metadata": {},
   "outputs": [],
   "source": [
    "user_repay_logs1.drop(['order_id','month','year','day','delta'],axis=1,inplace=True)"
   ]
  },
  {
   "cell_type": "code",
   "execution_count": 75,
   "metadata": {},
   "outputs": [
    {
     "data": {
      "text/html": [
       "<div>\n",
       "<style scoped>\n",
       "    .dataframe tbody tr th:only-of-type {\n",
       "        vertical-align: middle;\n",
       "    }\n",
       "\n",
       "    .dataframe tbody tr th {\n",
       "        vertical-align: top;\n",
       "    }\n",
       "\n",
       "    .dataframe thead th {\n",
       "        text-align: right;\n",
       "    }\n",
       "</style>\n",
       "<table border=\"1\" class=\"dataframe\">\n",
       "  <thead>\n",
       "    <tr style=\"text-align: right;\">\n",
       "      <th></th>\n",
       "      <th>user_id</th>\n",
       "      <th>listing_id</th>\n",
       "      <th>auditing_date</th>\n",
       "      <th>due_date</th>\n",
       "      <th>due_amt</th>\n",
       "      <th>repay_date</th>\n",
       "      <th>repay_amt</th>\n",
       "    </tr>\n",
       "  </thead>\n",
       "  <tbody>\n",
       "    <tr>\n",
       "      <th>0</th>\n",
       "      <td>748147</td>\n",
       "      <td>3163926</td>\n",
       "      <td>2018-04-25</td>\n",
       "      <td>2018-05-25</td>\n",
       "      <td>72.1167</td>\n",
       "      <td>2018-05-25</td>\n",
       "      <td>72.1167</td>\n",
       "    </tr>\n",
       "    <tr>\n",
       "      <th>1</th>\n",
       "      <td>672952</td>\n",
       "      <td>3698760</td>\n",
       "      <td>2018-06-09</td>\n",
       "      <td>2018-07-09</td>\n",
       "      <td>258.7045</td>\n",
       "      <td>2018-07-08</td>\n",
       "      <td>258.7045</td>\n",
       "    </tr>\n",
       "    <tr>\n",
       "      <th>2</th>\n",
       "      <td>404196</td>\n",
       "      <td>2355665</td>\n",
       "      <td>2018-02-18</td>\n",
       "      <td>2018-03-18</td>\n",
       "      <td>307.9270</td>\n",
       "      <td>\\N</td>\n",
       "      <td>\\N</td>\n",
       "    </tr>\n",
       "    <tr>\n",
       "      <th>3</th>\n",
       "      <td>342769</td>\n",
       "      <td>1994522</td>\n",
       "      <td>2018-01-13</td>\n",
       "      <td>2018-02-13</td>\n",
       "      <td>252.9809</td>\n",
       "      <td>2018-02-13</td>\n",
       "      <td>252.9809</td>\n",
       "    </tr>\n",
       "    <tr>\n",
       "      <th>4</th>\n",
       "      <td>828139</td>\n",
       "      <td>3602352</td>\n",
       "      <td>2018-06-01</td>\n",
       "      <td>2018-07-01</td>\n",
       "      <td>107.6503</td>\n",
       "      <td>2018-06-25</td>\n",
       "      <td>107.6503</td>\n",
       "    </tr>\n",
       "  </tbody>\n",
       "</table>\n",
       "</div>"
      ],
      "text/plain": [
       "   user_id  listing_id auditing_date    due_date   due_amt  repay_date  \\\n",
       "0   748147     3163926    2018-04-25  2018-05-25   72.1167  2018-05-25   \n",
       "1   672952     3698760    2018-06-09  2018-07-09  258.7045  2018-07-08   \n",
       "2   404196     2355665    2018-02-18  2018-03-18  307.9270          \\N   \n",
       "3   342769     1994522    2018-01-13  2018-02-13  252.9809  2018-02-13   \n",
       "4   828139     3602352    2018-06-01  2018-07-01  107.6503  2018-06-25   \n",
       "\n",
       "  repay_amt  \n",
       "0   72.1167  \n",
       "1  258.7045  \n",
       "2        \\N  \n",
       "3  252.9809  \n",
       "4  107.6503  "
      ]
     },
     "execution_count": 75,
     "metadata": {},
     "output_type": "execute_result"
    }
   ],
   "source": [
    "train.head()"
   ]
  },
  {
   "cell_type": "code",
   "execution_count": null,
   "metadata": {},
   "outputs": [],
   "source": [
    "train['due_date'] = pd.to_datetime(train.due_date,format = '%Y-%m-%d')\n",
    "train['repay_date'] = pd.to_datetime(train.repay_date,format = '%Y-%m-%d')\n",
    "train['auditing_date'] = pd.to_datetime(train.auditing_date,format = '%Y-%m-%d')"
   ]
  },
  {
   "cell_type": "code",
   "execution_count": 78,
   "metadata": {},
   "outputs": [
    {
     "data": {
      "text/html": [
       "<div>\n",
       "<style scoped>\n",
       "    .dataframe tbody tr th:only-of-type {\n",
       "        vertical-align: middle;\n",
       "    }\n",
       "\n",
       "    .dataframe tbody tr th {\n",
       "        vertical-align: top;\n",
       "    }\n",
       "\n",
       "    .dataframe thead th {\n",
       "        text-align: right;\n",
       "    }\n",
       "</style>\n",
       "<table border=\"1\" class=\"dataframe\">\n",
       "  <thead>\n",
       "    <tr style=\"text-align: right;\">\n",
       "      <th></th>\n",
       "      <th>user_id</th>\n",
       "      <th>listing_id</th>\n",
       "      <th>auditing_date</th>\n",
       "      <th>due_date</th>\n",
       "      <th>due_amt</th>\n",
       "      <th>repay_date</th>\n",
       "      <th>repay_amt</th>\n",
       "    </tr>\n",
       "  </thead>\n",
       "  <tbody>\n",
       "    <tr>\n",
       "      <th>0</th>\n",
       "      <td>748483</td>\n",
       "      <td>1858122</td>\n",
       "      <td>2017-12-29</td>\n",
       "      <td>2018-06-29</td>\n",
       "      <td>528.6365</td>\n",
       "      <td>2018-06-20</td>\n",
       "      <td>528.6365</td>\n",
       "    </tr>\n",
       "    <tr>\n",
       "      <th>1</th>\n",
       "      <td>748483</td>\n",
       "      <td>1858122</td>\n",
       "      <td>2017-12-29</td>\n",
       "      <td>2018-04-29</td>\n",
       "      <td>528.6365</td>\n",
       "      <td>2200-01-01</td>\n",
       "      <td>528.6365</td>\n",
       "    </tr>\n",
       "    <tr>\n",
       "      <th>2</th>\n",
       "      <td>748483</td>\n",
       "      <td>1858122</td>\n",
       "      <td>2017-12-29</td>\n",
       "      <td>2018-07-29</td>\n",
       "      <td>528.6365</td>\n",
       "      <td>2018-06-20</td>\n",
       "      <td>528.6365</td>\n",
       "    </tr>\n",
       "    <tr>\n",
       "      <th>3</th>\n",
       "      <td>748483</td>\n",
       "      <td>1858122</td>\n",
       "      <td>2017-12-29</td>\n",
       "      <td>2018-05-29</td>\n",
       "      <td>528.6365</td>\n",
       "      <td>2018-05-29</td>\n",
       "      <td>528.6365</td>\n",
       "    </tr>\n",
       "    <tr>\n",
       "      <th>4</th>\n",
       "      <td>748483</td>\n",
       "      <td>1858122</td>\n",
       "      <td>2017-12-29</td>\n",
       "      <td>2018-01-29</td>\n",
       "      <td>528.6365</td>\n",
       "      <td>2018-01-28</td>\n",
       "      <td>528.6365</td>\n",
       "    </tr>\n",
       "  </tbody>\n",
       "</table>\n",
       "</div>"
      ],
      "text/plain": [
       "   user_id  listing_id auditing_date   due_date   due_amt repay_date  \\\n",
       "0   748483     1858122    2017-12-29 2018-06-29  528.6365 2018-06-20   \n",
       "1   748483     1858122    2017-12-29 2018-04-29  528.6365 2200-01-01   \n",
       "2   748483     1858122    2017-12-29 2018-07-29  528.6365 2018-06-20   \n",
       "3   748483     1858122    2017-12-29 2018-05-29  528.6365 2018-05-29   \n",
       "4   748483     1858122    2017-12-29 2018-01-29  528.6365 2018-01-28   \n",
       "\n",
       "   repay_amt  \n",
       "0   528.6365  \n",
       "1   528.6365  \n",
       "2   528.6365  \n",
       "3   528.6365  \n",
       "4   528.6365  "
      ]
     },
     "execution_count": 78,
     "metadata": {},
     "output_type": "execute_result"
    }
   ],
   "source": [
    "user_repay_logs1.head()"
   ]
  },
  {
   "cell_type": "code",
   "execution_count": 77,
   "metadata": {},
   "outputs": [],
   "source": [
    "order = ['user_id','listing_id','auditing_date','due_date','due_amt','repay_date','repay_amt']\n",
    "user_repay_logs1 = user_repay_logs1[order]"
   ]
  },
  {
   "cell_type": "code",
   "execution_count": null,
   "metadata": {},
   "outputs": [],
   "source": [
    "total = pd.concat([user_repay_logs1,train],axis=0)\n",
    "print(total.shape)\n",
    "total.drop_duplicates(keep='first',inplace=True)\n",
    "print(total.shape)     # 检验是否删除了重复的记录"
   ]
  },
  {
   "cell_type": "code",
   "execution_count": null,
   "metadata": {},
   "outputs": [],
   "source": [
    "joblib.dump(total, 'total.pkl')    # 存储合并的训练集"
   ]
  },
  {
   "cell_type": "code",
   "execution_count": 84,
   "metadata": {},
   "outputs": [],
   "source": [
    "df = pd.concat([total, test], axis=0, ignore_index=True)      # 合并训练集和测试集"
   ]
  },
  {
   "cell_type": "code",
   "execution_count": null,
   "metadata": {},
   "outputs": [],
   "source": [
    "df1 = df.merge(listing_info,on='listing_id',how='left')   # 合并标的资产信息"
   ]
  },
  {
   "cell_type": "code",
   "execution_count": null,
   "metadata": {},
   "outputs": [],
   "source": [
    "df1['repay_date'] = df1['repay_date'].apply(\n",
    "    lambda x: x['repay_date'] if x['repay_date'] != '\\\\N' else '2200-01-01', axis=1)\n",
    "df1['repay_amt'] = df1['repay_amt'].apply(\n",
    "    lambda x: x if x != '\\\\N' else x['due_amt'])    # 把train里为\\N的替换掉"
   ]
  },
  {
   "cell_type": "code",
   "execution_count": null,
   "metadata": {},
   "outputs": [],
   "source": [
    "df1['days']=(df1['due_date']-df1['repay_date']).apply(lambda x:x.days)   \n",
    "# 提前还款天数\n",
    "df1['days']=df1['days'].apply(lambda x: x if x>=0 else -1 )"
   ]
  },
  {
   "cell_type": "code",
   "execution_count": null,
   "metadata": {},
   "outputs": [],
   "source": [
    "df1['days1']=(df1['due_date']-df1['auditing_date']).apply(lambda x:x.days)\n",
    "# 应还款日期与交易日间隔天数"
   ]
  }
 ],
 "metadata": {
  "kernelspec": {
   "display_name": "Python 3",
   "language": "python",
   "name": "python3"
  },
  "language_info": {
   "codemirror_mode": {
    "name": "ipython",
    "version": 3
   },
   "file_extension": ".py",
   "mimetype": "text/x-python",
   "name": "python",
   "nbconvert_exporter": "python",
   "pygments_lexer": "ipython3",
   "version": "3.6.5"
  }
 },
 "nbformat": 4,
 "nbformat_minor": 2
}
